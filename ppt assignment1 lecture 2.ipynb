{
 "cells": [
  {
   "cell_type": "code",
   "execution_count": 1,
   "id": "3922cd34-4571-419b-aee8-c6cfe4cb445b",
   "metadata": {},
   "outputs": [
    {
     "name": "stdout",
     "output_type": "stream",
     "text": [
      "t\n",
      "s\n",
      "i\n",
      "l\n"
     ]
    }
   ],
   "source": [
    "#ANS1\n",
    "def reverse_string(s):\n",
    "    i = len(s)-1\n",
    "    while i>=0:\n",
    "        print(s[i])\n",
    "        i = i-1\n",
    "reverse_string('list')\n",
    "              \n"
   ]
  },
  {
   "cell_type": "code",
   "execution_count": 3,
   "id": "614efa37-9fe3-4a15-a79e-e7410f0e91ec",
   "metadata": {},
   "outputs": [
    {
     "name": "stdin",
     "output_type": "stream",
     "text": [
      "enter string madam\n"
     ]
    },
    {
     "name": "stdout",
     "output_type": "stream",
     "text": [
      "madam is a  pallindrome\n"
     ]
    }
   ],
   "source": [
    "#Ans2\n",
    "def check_pallindrome(string):\n",
    "    if string[:]==string[::-1]:\n",
    "        print(f'{string} is a  pallindrome')\n",
    "    else:\n",
    "        print(f'{string} not pallindromes')\n",
    "string=input('enter string')\n",
    "\n",
    "check_pallindrome(string)\n"
   ]
  },
  {
   "cell_type": "code",
   "execution_count": 9,
   "id": "e3eab634-cb8c-4b0b-92c0-5b6b2624becd",
   "metadata": {},
   "outputs": [
    {
     "name": "stdout",
     "output_type": "stream",
     "text": [
      "23 is the largest value\n"
     ]
    }
   ],
   "source": [
    "#ANS3\n",
    "#check the largest \n",
    "def largest(l):\n",
    "    lar_value = l[0]\n",
    "    for i in l:\n",
    "        if i>lar_value:\n",
    "            lar_value=i\n",
    "    return '%d is the largest value' %(lar_value)\n",
    "print(largest([12,3,5,6,7,23,5]))\n",
    "\n",
    "        \n"
   ]
  },
  {
   "cell_type": "code",
   "execution_count": 14,
   "id": "c3f37106-e727-4c4d-8716-3a8770142c8f",
   "metadata": {},
   "outputs": [
    {
     "name": "stdout",
     "output_type": "stream",
     "text": [
      "Counter({2: 3, 4: 2, 5: 2, 7: 2, 3: 2, 12: 1, 6: 1})\n",
      "{1: 2, 2: 2, 3: 2, 4: 1, 5: 1, 9: 1}\n"
     ]
    }
   ],
   "source": [
    "#ANS4\n",
    "from collections import Counter\n",
    "def count(l):\n",
    "    counter = Counter(l)\n",
    "    print(counter)\n",
    "count([12,2,4,5,6,7,3,2,3,4,5,2,7])\n",
    "\n",
    "#another method of doing the same without usng counter function\n",
    "def count(l):\n",
    "    frequency={}\n",
    "    for i in l:\n",
    "        if i in frequency:\n",
    "            frequency[i]+=1\n",
    "        else:\n",
    "            frequency[i]=1\n",
    "    return frequency\n",
    "print(count([1,2,3,1,2,3,4,5,9]))\n",
    "    "
   ]
  },
  {
   "cell_type": "code",
   "execution_count": 21,
   "id": "05bd5132-31db-432e-b112-19176c35518a",
   "metadata": {},
   "outputs": [
    {
     "name": "stdout",
     "output_type": "stream",
     "text": [
      "the second largest element is 5\n"
     ]
    }
   ],
   "source": [
    "#ANS5\n",
    "def second_largest(l):\n",
    "    l.sort()\n",
    "    return f'the second largest element is {l[-2]}'\n",
    "print(second_largest([1,2,3,4,5,6]))\n",
    "    "
   ]
  },
  {
   "cell_type": "code",
   "execution_count": 17,
   "id": "849d263a-1f69-4dac-9a96-7100e6fd2d62",
   "metadata": {},
   "outputs": [
    {
     "name": "stdout",
     "output_type": "stream",
     "text": [
      "[1, 2, 3, 4, 52]\n"
     ]
    }
   ],
   "source": [
    "#Ans6\n",
    "#remove duplicate elements from list\n",
    "def remove_dup(l):\n",
    "    a = []\n",
    "    for i in l:\n",
    "        if i not in a:\n",
    "            a.append(i)\n",
    "    print(a)\n",
    "remove_dup([1,2,3,4,52,3,4,1,2])"
   ]
  },
  {
   "cell_type": "code",
   "execution_count": 24,
   "id": "d5b17a6d-15aa-485c-8b9d-3282f4d4ca51",
   "metadata": {},
   "outputs": [
    {
     "name": "stdout",
     "output_type": "stream",
     "text": [
      "the factorial of given number is 120\n"
     ]
    }
   ],
   "source": [
    "#ANS7\n",
    "#factorial of a number\n",
    "def fac(n):\n",
    "    if n==0 or n==1:\n",
    "        return 'the factorial of given number is 1'\n",
    "    else:\n",
    "        j= 1\n",
    "        for i in range(1,n+1):\n",
    "            j = j*i\n",
    "        return f'the factorial of given number is {j}'\n",
    "print(fac(5))\n",
    "\n",
    "        "
   ]
  },
  {
   "cell_type": "code",
   "execution_count": 38,
   "id": "cdb45b91-95a4-4a66-bc52-466c45d7a670",
   "metadata": {},
   "outputs": [
    {
     "name": "stdout",
     "output_type": "stream",
     "text": [
      "this is a prime number\n"
     ]
    }
   ],
   "source": [
    "#Ans8\n",
    "#prime number is prime\n",
    "def prime(n):\n",
    "    k=0\n",
    "    if n<=1:\n",
    "        k==0\n",
    "    elif n==2:\n",
    "        k=1\n",
    "    else:\n",
    "        for i in range(2,n):\n",
    "            if n%i==0:\n",
    "                k=1\n",
    "                break\n",
    "    if k==1:\n",
    "        return ('this is a prime number')\n",
    "    else:\n",
    "        return ('this is not a prime number')\n",
    "print(prime(2))\n"
   ]
  },
  {
   "cell_type": "code",
   "execution_count": 2,
   "id": "e2656b60-7c37-42ff-906f-720883ddc245",
   "metadata": {},
   "outputs": [
    {
     "name": "stdout",
     "output_type": "stream",
     "text": [
      "[-9, -8, 1, 2, 3, 4, 6]\n"
     ]
    }
   ],
   "source": [
    "#Ans9\n",
    "#list sorting in ascending order\n",
    "l = [1,70,2,3,6,4,2,-9,-8]\n",
    "def sorting(l):\n",
    "   \n",
    "    b = [min(l)]\n",
    "    i = 0\n",
    "    j = min(l)\n",
    "    while i<max(l):\n",
    "\n",
    "        j = j+1\n",
    "        if j in l:\n",
    "            b.append(j)\n",
    "        i = i+1\n",
    "    return b\n",
    "       \n",
    "print(sorting(l))\n",
    "        \n",
    "        "
   ]
  },
  {
   "cell_type": "code",
   "execution_count": 1,
   "id": "cb98b5a1-2cb5-4b82-a7d0-2cd8be07d308",
   "metadata": {},
   "outputs": [
    {
     "name": "stdout",
     "output_type": "stream",
     "text": [
      "15\n"
     ]
    }
   ],
   "source": [
    "#ANS10\n",
    "#sum of all numbers in a list\n",
    "def sum(l):\n",
    "    \n",
    "    j= 0\n",
    "    for i in range(len(l)):\n",
    "        j = j+l[i]\n",
    "    return (j)\n",
    "\n",
    "l = [1,2,3,4,5]    \n",
    "print(sum(l))    \n",
    "    \n",
    "    "
   ]
  },
  {
   "cell_type": "code",
   "execution_count": 4,
   "id": "de659864-be73-4c97-8cc3-07da4a2b643a",
   "metadata": {},
   "outputs": [
    {
     "name": "stdout",
     "output_type": "stream",
     "text": [
      "[2, 3, 5]\n"
     ]
    }
   ],
   "source": [
    "#Ans11\n",
    "def find_same(l1,l2):\n",
    "\n",
    "   \n",
    "    l3 = []\n",
    "    for i in l1:\n",
    "        if i in l2:\n",
    "            l3.append(i)\n",
    "    return (l3)\n",
    "l1= [2,3,4,5,6]\n",
    "l2 = [2,3,9,8,5]\n",
    "print(find_same(l1,l2))      "
   ]
  },
  {
   "cell_type": "code",
   "execution_count": 1,
   "id": "ec8a23b4-6216-47bf-9616-49b19b507f21",
   "metadata": {},
   "outputs": [
    {
     "name": "stdin",
     "output_type": "stream",
     "text": [
      "enter a string yatch\n",
      "enter another string hatchy\n"
     ]
    },
    {
     "name": "stdout",
     "output_type": "stream",
     "text": [
      "not anagram\n"
     ]
    }
   ],
   "source": [
    "#Ans12\n",
    "#check anagram\n",
    "def anagram(s1,s2):\n",
    "    x=[i for i in s1]\n",
    "    x.sort()\n",
    "    y=[i for i in s2]\n",
    "    y.sort()\n",
    "    if x==y:\n",
    "        return 'anagram'\n",
    "    else:\n",
    "        return 'not anagram'\n",
    "s1=input('enter a string')\n",
    "s2 = input('enter another string')\n",
    "print(anagram(s1,s2))\n",
    "        "
   ]
  },
  {
   "cell_type": "code",
   "execution_count": 10,
   "id": "2782cad6-e8ac-4aa3-bdeb-a3bb37518cdb",
   "metadata": {},
   "outputs": [
    {
     "name": "stdout",
     "output_type": "stream",
     "text": [
      "['abc', 'acb', 'bac', 'bca', 'cab', 'cba']\n"
     ]
    }
   ],
   "source": [
    "#Ans13\n",
    "#python program to generate all the permutations of the string\n",
    "def generate_permutations(string):\n",
    "    if len(string) == 1:\n",
    "        return [string]\n",
    "\n",
    "    permutations = []\n",
    "\n",
    "    for i in range(len(string)):\n",
    "        current_char = string[i]\n",
    "        remaining_chars = string[:i] + string[i+1:]\n",
    "        sub_permutations = generate_permutations(remaining_chars)\n",
    "\n",
    "        for sub_permutation in sub_permutations:\n",
    "            permutations.append(current_char + sub_permutation)\n",
    "\n",
    "    return permutations\n",
    "\n",
    "\n",
    "\n",
    "\n",
    "\n",
    "string = \"abc\"\n",
    "print(generate_permutations(string))\n",
    "    "
   ]
  },
  {
   "cell_type": "code",
   "execution_count": 2,
   "id": "23fab397-bf8d-47c7-9ca4-8ea8ff1899aa",
   "metadata": {},
   "outputs": [
    {
     "name": "stdin",
     "output_type": "stream",
     "text": [
      "How many terms  10\n"
     ]
    },
    {
     "name": "stdout",
     "output_type": "stream",
     "text": [
      "Fibonacci sequence:\n",
      "0\n",
      "1\n",
      "1\n",
      "2\n",
      "3\n",
      "5\n",
      "8\n",
      "13\n",
      "21\n",
      "34\n"
     ]
    }
   ],
   "source": [
    "#Ans14\n",
    "#function to generate fibonacci series\n",
    " \n",
    "\n",
    "\n",
    "def recur_fibo(n):  \n",
    "   if n <= 1:  \n",
    "       return n  \n",
    "   else:  \n",
    "       return(recur_fibo(n-1) + recur_fibo(n-2))  \n",
    " \n",
    "nterms = int(input(\"How many terms \"))  \n",
    " \n",
    "if nterms <= 0:  \n",
    "   print(\"Plese enter a positive integer\")  \n",
    "else:  \n",
    "   print(\"Fibonacci sequence:\")  \n",
    "   for i in range(nterms):  \n",
    "       print(recur_fibo(i))  \n"
   ]
  },
  {
   "cell_type": "code",
   "execution_count": 99,
   "id": "4f8d629c-04ee-42de-b25d-0fe1c951c2fd",
   "metadata": {},
   "outputs": [
    {
     "name": "stdout",
     "output_type": "stream",
     "text": [
      "3.5\n"
     ]
    }
   ],
   "source": [
    "#Ans15\n",
    "#median of all numbers\n",
    "def median(l):\n",
    "    l = [1,2,3,5,7,6,4,3]\n",
    "    l.sort()\n",
    "    if len(l)%2==0:#even\n",
    "        a = l[(len(l)-1)//2]+l[len(l)//2]\n",
    "        return a/2\n",
    "    \n",
    "    else:\n",
    "        a = l[len(l)//2]\n",
    "        \n",
    "        return a/2\n",
    "    \n",
    "print(median(l))\n",
    "    \n",
    "    \n",
    "\n",
    "        "
   ]
  },
  {
   "cell_type": "code",
   "execution_count": 7,
   "id": "6659eee4-b25e-4e3d-b964-8dea3508bef9",
   "metadata": {},
   "outputs": [
    {
     "name": "stdout",
     "output_type": "stream",
     "text": [
      "True\n"
     ]
    }
   ],
   "source": [
    "#Ans16\n",
    "#function to check whether a given list is sorted in non decresing order/ascending order\n",
    "def is_sorted(l):\n",
    "    for i in range(1,len(l)):\n",
    "        if l[i]<l[i-1]:\n",
    "            return True\n",
    "        else:\n",
    "            return False\n",
    "print(is_sorted([5,4,3,2,1]))\n",
    "\n",
    "        \n",
    "         \n"
   ]
  },
  {
   "cell_type": "code",
   "execution_count": 25,
   "id": "3ae8c985-af43-411b-8057-a7626fd60cc0",
   "metadata": {},
   "outputs": [
    {
     "name": "stdout",
     "output_type": "stream",
     "text": [
      "[3, 4, 5]\n"
     ]
    }
   ],
   "source": [
    "#Ans17\n",
    "#intersection of two list\n",
    "l1 = [1,2,3,4,5,8,7]\n",
    "l2=[4,3,5,9,0]\n",
    "l3 = []\n",
    "\n",
    "def intersection(l1,l2):\n",
    "    for i in l1:\n",
    "        if i in l2:\n",
    "            l3.append(i)\n",
    "    return l3\n",
    "print(intersection(l1,l2))\n"
   ]
  },
  {
   "cell_type": "code",
   "execution_count": 3,
   "id": "48e9f3ed-1894-4e71-b818-54cbb81b7bf5",
   "metadata": {},
   "outputs": [
    {
     "name": "stdout",
     "output_type": "stream",
     "text": [
      "7\n"
     ]
    }
   ],
   "source": [
    "#Ans18\n",
    "#maximum subarray sum\n",
    "def max_subarray_sum(arr):\n",
    "    max_sum = float('-inf')\n",
    "    current_sum = 0\n",
    "\n",
    "    for num in arr:\n",
    "        current_sum += num\n",
    "        if current_sum > max_sum:\n",
    "            max_sum = current_sum\n",
    "        if current_sum < 0:\n",
    "            current_sum = 0\n",
    "\n",
    "    return max_sum\n",
    "\n",
    "\n",
    "arr = [-2, -3, 4, -1, -2, 1, 5, -3]\n",
    "result = max_subarray_sum(arr)\n",
    "print(result)  \n",
    "\n",
    "            \n",
    "    \n"
   ]
  },
  {
   "cell_type": "code",
   "execution_count": 5,
   "id": "dedee6be-6ef4-4abe-aba1-d01055c78eb7",
   "metadata": {},
   "outputs": [
    {
     "name": "stdin",
     "output_type": "stream",
     "text": [
      "enter a string bharti\n"
     ]
    },
    {
     "name": "stdout",
     "output_type": "stream",
     "text": [
      "bhrt\n"
     ]
    }
   ],
   "source": [
    "#Ans 19\n",
    "#program to remove all the vowels from the string\n",
    "s= input('enter a string')\n",
    "s1=[]\n",
    "v = ['a','e','i','o','u']\n",
    "def remove_vowel(s):\n",
    "    for i in s:\n",
    "        if i.lower() not in v:\n",
    "            s1.append(i)\n",
    "            s2=''.join(s1)\n",
    "    return s2\n",
    "print(remove_vowel(s))\n",
    "            \n",
    "        \n",
    "        \n",
    "    \n",
    "            \n",
    "    "
   ]
  },
  {
   "cell_type": "code",
   "execution_count": 8,
   "id": "617042c1-3588-4171-a000-259d571fad54",
   "metadata": {},
   "outputs": [
    {
     "name": "stdout",
     "output_type": "stream",
     "text": [
      "girl a am i\n"
     ]
    }
   ],
   "source": [
    "## Ans20\n",
    "#function to reverse the order of words in a sentence\n",
    "def reverse(s):\n",
    "    words = s.split()\n",
    "    words=words[::-1]\n",
    "    sentence = ' '.join(words)\n",
    "    return sentence\n",
    "print(reverse('i am a girl'))\n"
   ]
  },
  {
   "cell_type": "code",
   "execution_count": 9,
   "id": "e9b57599-eadc-4ea3-b024-bc7525035c98",
   "metadata": {},
   "outputs": [
    {
     "name": "stdin",
     "output_type": "stream",
     "text": [
      "enter a london\n",
      "enter b donnol\n"
     ]
    },
    {
     "name": "stdout",
     "output_type": "stream",
     "text": [
      "anagram\n"
     ]
    }
   ],
   "source": [
    "#Ans21\n",
    "\n",
    "def check_anagram(a,b):\n",
    "    if sorted(a)==sorted(b):\n",
    "        return 'anagram'\n",
    "    else:\n",
    "        return 'not anagram'\n",
    "    \n",
    "    \n",
    "    \n",
    "    \n",
    "    \n",
    "a = input('enter a')\n",
    "b = input('enter b')\n",
    "print(check_anagram(a,b))\n",
    "        "
   ]
  },
  {
   "cell_type": "code",
   "execution_count": 13,
   "id": "e7480de5-1f12-4a8e-ac7b-1ef850c2b131",
   "metadata": {},
   "outputs": [
    {
     "name": "stdin",
     "output_type": "stream",
     "text": [
      "Enter a string:  bhabharti\n"
     ]
    },
    {
     "name": "stdout",
     "output_type": "stream",
     "text": [
      "r\n"
     ]
    }
   ],
   "source": [
    "#Ans22\n",
    "#first non repeating character in the string\n",
    "\n",
    "\n",
    "def first_non_repeating_char(string):\n",
    "    char_count = {}\n",
    "\n",
    "    \n",
    "    for char in string:\n",
    "        if char in char_count:\n",
    "            char_count[char] += 1\n",
    "        else:\n",
    "            char_count[char] = 1\n",
    "\n",
    "    \n",
    "    for char in string:\n",
    "        if char_count[char] == 1:\n",
    "            return char\n",
    "\n",
    "    \n",
    " \n",
    "\n",
    "\n",
    "string = input(\"Enter a string: \")\n",
    "result = first_non_repeating_char(string)\n",
    "print(result)\n",
    "\n",
    "        \n",
    "        \n",
    "\n",
    "    "
   ]
  },
  {
   "cell_type": "code",
   "execution_count": 5,
   "id": "7a2eddfe-31a5-4587-a043-f9e16c392e90",
   "metadata": {},
   "outputs": [
    {
     "name": "stdin",
     "output_type": "stream",
     "text": [
      "enter a number 7\n"
     ]
    },
    {
     "name": "stdout",
     "output_type": "stream",
     "text": [
      "[1, 7]\n"
     ]
    }
   ],
   "source": [
    "#Ans23\n",
    "#prime factors\n",
    "\n",
    "factor=[]\n",
    "def prime_factor(n):\n",
    "      for i in range(1,n+1):\n",
    "            if n%i==0:\n",
    "                factor.append(i)\n",
    "      return factor\n",
    "n=int(input('enter a number'))\n",
    "\n",
    "print(prime_factor(n))     \n",
    "      \n",
    "      \n",
    "      \n",
    "    \n",
    "\n",
    "    \n",
    "        "
   ]
  },
  {
   "cell_type": "code",
   "execution_count": 1,
   "id": "5d186728-edcf-426c-9596-aa4b12e3ace1",
   "metadata": {},
   "outputs": [
    {
     "name": "stdout",
     "output_type": "stream",
     "text": [
      "16\n"
     ]
    }
   ],
   "source": [
    "#Ans24\n",
    "#check power of 2\n",
    "def power_2(n):\n",
    "    return 2**n\n",
    "print(power_2(4))\n",
    "    "
   ]
  },
  {
   "cell_type": "code",
   "execution_count": 2,
   "id": "fb3771f0-7ef2-4e1c-b8f5-c3b70714971c",
   "metadata": {},
   "outputs": [
    {
     "name": "stdout",
     "output_type": "stream",
     "text": [
      "[1, 1, 2, 2, 3, 3, 4, 4, 5, 5, 6, 6]\n"
     ]
    }
   ],
   "source": [
    "#Ans25\n",
    "#merge two sorted lists into a single sorted list.\n",
    "\n",
    "\n",
    "def merge_sorted_lists(l1, l2):\n",
    "    merged_list = sorted(l1 + l2)\n",
    "    return merged_list\n",
    "l1 = [1, 2, 4, 5, 3, 6]\n",
    "l2 = [4, 5, 6, 3, 2, 1]\n",
    "print(merge_sorted_lists(l1, l2))\n"
   ]
  },
  {
   "cell_type": "code",
   "execution_count": 8,
   "id": "1c4129c5-3685-41b6-81b3-2f815ed64e99",
   "metadata": {},
   "outputs": [
    {
     "name": "stdout",
     "output_type": "stream",
     "text": [
      "4\n"
     ]
    }
   ],
   "source": [
    "#Ans26\n",
    "#mode of list of numbers\n",
    "frequency = {}\n",
    "\n",
    "def mode(l):\n",
    "    max_count = 0\n",
    "    for i in l:\n",
    "        if i in frequency:\n",
    "            frequency[i]=frequency[i]+1\n",
    "        else:\n",
    "            frequency[i]=1\n",
    "            \n",
    "        if frequency[i]>max_count:\n",
    "            max_count=frequency[i]\n",
    "                \n",
    "    for num in frequency:\n",
    "        if frequency[num] == max_count:\n",
    "            return frequency[num]   \n",
    "print(mode([1,2,3,4,5,1,2,3,4,4,2,3,4,9]))     \n",
    "        \n"
   ]
  },
  {
   "cell_type": "code",
   "execution_count": 9,
   "id": "f0112803-5129-4099-a94b-d35078e912ab",
   "metadata": {},
   "outputs": [
    {
     "name": "stdout",
     "output_type": "stream",
     "text": [
      "4\n"
     ]
    }
   ],
   "source": [
    "#ANS27\n",
    "#greatest common divisior\n",
    "\n",
    "def gcd(n,m):\n",
    "    l1=[]\n",
    "    if n>m:\n",
    "        for i in range(1,m+1):\n",
    "            if n%i==0 and m%i==0:\n",
    "                l1.append(i)\n",
    "        return max(l1)\n",
    "    else:\n",
    "        for i in range(1,n+1):\n",
    "            if n%i==0 and m%i==0:\n",
    "                l1.append(i)\n",
    "        return max(l1)\n",
    "print(gcd(8,12))\n",
    "        "
   ]
  },
  {
   "cell_type": "code",
   "execution_count": 10,
   "id": "c8108518-de08-47cb-bde7-d2ef58717980",
   "metadata": {},
   "outputs": [
    {
     "name": "stdout",
     "output_type": "stream",
     "text": [
      "3.0\n"
     ]
    }
   ],
   "source": [
    "#ANS28\n",
    "            \n",
    "#square root of a number\n",
    "def square_root(n):\n",
    "    import math\n",
    "    return math.sqrt(n)\n",
    "    \n",
    "        \n",
    "print(square_root(9))\n"
   ]
  },
  {
   "cell_type": "code",
   "execution_count": 11,
   "id": "228bf06d-c070-41f9-a12a-60d51edf4f5e",
   "metadata": {},
   "outputs": [
    {
     "name": "stdout",
     "output_type": "stream",
     "text": [
      "True\n"
     ]
    }
   ],
   "source": [
    "#ANS29\n",
    "\n",
    "#check pallindrome\n",
    "def check_pallindrome(s):\n",
    "    import re\n",
    "    s=re.sub('[^a-zA-Z0-9]','',s)\n",
    "    s = s.lower()\n",
    "\n",
    "    # Use two pointers to check for palindrome\n",
    "    left = 0\n",
    "    right = len(s) - 1\n",
    "\n",
    "    while left < right:\n",
    "        if s[left] != s[right]:\n",
    "            return False\n",
    "        left += 1\n",
    "        right -= 1\n",
    "\n",
    "    return True\n",
    "s='madam'\n",
    "print(check_pallindrome(s))    \n",
    "    "
   ]
  },
  {
   "cell_type": "code",
   "execution_count": 4,
   "id": "b516f763-dc9e-479c-a7f1-2168a2dfb4bc",
   "metadata": {},
   "outputs": [
    {
     "name": "stdout",
     "output_type": "stream",
     "text": [
      "7\n"
     ]
    }
   ],
   "source": [
    "#ANS30\n",
    "def find_min_in_rotated_sorted(nums):\n",
    "    left = 0\n",
    "    right = len(nums) - 1\n",
    "\n",
    "    while left < right:\n",
    "        mid = left + (right - left) // 2\n",
    "\n",
    "        \n",
    "        if nums[mid] > nums[right]:\n",
    "           \n",
    "            left = mid + 1\n",
    "        else:\n",
    "            \n",
    "            right = mid\n",
    "\n",
    "   \n",
    "    return nums[left]\n",
    "print(find_min_in_rotated_sorted([1,2,45,7,8]))\n"
   ]
  },
  {
   "cell_type": "code",
   "execution_count": 13,
   "id": "2fc04b9e-c40b-4c59-b25b-abafb18aca69",
   "metadata": {},
   "outputs": [
    {
     "name": "stdout",
     "output_type": "stream",
     "text": [
      "18\n"
     ]
    }
   ],
   "source": [
    "#ANS31\n",
    "#sum of all even number in a list\n",
    "\n",
    "def sum_even(l):\n",
    "    j = 0\n",
    "    for i in l:\n",
    "        if i%2==0:\n",
    "            j = j+i\n",
    "    return j\n",
    "print(sum_even([1,2,3,4,5,6,6,7]))"
   ]
  },
  {
   "cell_type": "code",
   "execution_count": 1,
   "id": "7e8c82aa-9bce-4b0a-8690-bac334947c64",
   "metadata": {},
   "outputs": [
    {
     "name": "stdout",
     "output_type": "stream",
     "text": [
      "2 raised to the power of 3 is: 8\n"
     ]
    }
   ],
   "source": [
    "#ANS32\n",
    "def power(base, exponent):\n",
    "  \n",
    "    if exponent == 0:\n",
    "        return 1\n",
    "\n",
    "   \n",
    "    if exponent > 0:\n",
    "        return base * power(base, exponent - 1)\n",
    "    else:\n",
    "        return 1 / (base * power(base, -exponent))\n",
    "\n",
    "\n",
    "base = 2\n",
    "exponent = 3\n",
    "result = power(base, exponent)\n",
    "print(f\"{base} raised to the power of {exponent} is:\", result)\n"
   ]
  },
  {
   "cell_type": "code",
   "execution_count": 2,
   "id": "0671bd95-9d03-4d19-9a7e-f00f106ca90c",
   "metadata": {},
   "outputs": [
    {
     "name": "stdout",
     "output_type": "stream",
     "text": [
      "[1, 2, 3, 4, 52]\n"
     ]
    }
   ],
   "source": [
    "#ANS33\n",
    "#remove duplicate elements from list\n",
    "def remove_dup(l):\n",
    "    a = []\n",
    "    for i in l:\n",
    "        if i not in a:\n",
    "            a.append(i)\n",
    "    print(a)\n",
    "remove_dup([1,2,3,4,52,3,4,1,2])\n"
   ]
  },
  {
   "cell_type": "code",
   "execution_count": 3,
   "id": "1259405c-7247-4cc7-afb9-433f3391242b",
   "metadata": {},
   "outputs": [
    {
     "name": "stdout",
     "output_type": "stream",
     "text": [
      "fl\n"
     ]
    }
   ],
   "source": [
    "#ANS34\n",
    "\n",
    "#longest common prefix among list of strings\n",
    "def common_prefix(l):\n",
    "\n",
    "    fre={}\n",
    "    for i in l:\n",
    "        for j in i:\n",
    "            if j in fre:\n",
    "                fre[j]+=1\n",
    "            else:\n",
    "                fre[j]=1\n",
    "\n",
    "    common=[]\n",
    "    for j in i:\n",
    "        if fre[j]==len(l):\n",
    "            common.append(j)\n",
    "    return''.join(common)\n",
    "l = ['flower','fly','flight','flow']\n",
    "print(common_prefix(l))"
   ]
  },
  {
   "cell_type": "code",
   "execution_count": 7,
   "id": "e8034cda-175c-455b-ba92-a65c47426157",
   "metadata": {},
   "outputs": [
    {
     "name": "stdout",
     "output_type": "stream",
     "text": [
      "not perfect_square\n"
     ]
    }
   ],
   "source": [
    "#ANS35\n",
    "import math\n",
    "def perfect_square(n):\n",
    "    if math.sqrt(n)==n*n:\n",
    "        return 'perfect_square'\n",
    "    else:\n",
    "        return 'not perfect_square'\n",
    "print(perfect_square(5))\n",
    "    "
   ]
  },
  {
   "cell_type": "code",
   "execution_count": 8,
   "id": "cb32d99b-1efc-4e7a-9645-e4a6e676f789",
   "metadata": {},
   "outputs": [
    {
     "name": "stdout",
     "output_type": "stream",
     "text": [
      "120\n"
     ]
    }
   ],
   "source": [
    "#ANS36\n",
    "def product(l):\n",
    "    j = 1\n",
    "    for i in l:\n",
    "        j = j*i\n",
    "    return j\n",
    "l= [1,2,3,4,5]\n",
    "print(product(l))"
   ]
  },
  {
   "cell_type": "code",
   "execution_count": 9,
   "id": "2ec54237-ae95-4a30-be87-64fbe9a2a29a",
   "metadata": {},
   "outputs": [
    {
     "name": "stdout",
     "output_type": "stream",
     "text": [
      "girl a am I\n"
     ]
    }
   ],
   "source": [
    "#ANS37\n",
    "#reverse the order of words in a sentence while preserving the word order.\n",
    "def reverse(s):\n",
    "    word = s.split()\n",
    "    reverse=word[::-1]\n",
    "    final_order=' '.join(reverse)\n",
    "    return final_order\n",
    "s='I am a girl'\n",
    "print(reverse(s))"
   ]
  },
  {
   "cell_type": "code",
   "execution_count": 16,
   "id": "007a9841-d7d7-4109-8a0c-550a176af576",
   "metadata": {},
   "outputs": [
    {
     "data": {
      "text/plain": [
       "4"
      ]
     },
     "execution_count": 16,
     "metadata": {},
     "output_type": "execute_result"
    }
   ],
   "source": [
    "#ANS38\n",
    "# find the missing number in a given list of consecutive numbers\n",
    "def find_missing(l):\n",
    "    a=min(l)\n",
    "    i=1\n",
    "    while i<=len(l):\n",
    "        a+=1\n",
    "        if a not in l:\n",
    "            return(a)\n",
    "            break\n",
    "       \n",
    "            i =i+1\n",
    "l=[1,2,3,5,6,7,9]                 \n",
    "find_missing(l)            \n",
    "        \n",
    "        \n",
    "        "
   ]
  },
  {
   "cell_type": "code",
   "execution_count": 19,
   "id": "1985d883-7d05-4543-b7ab-81960e3e30fc",
   "metadata": {},
   "outputs": [
    {
     "name": "stdout",
     "output_type": "stream",
     "text": [
      "9\n"
     ]
    }
   ],
   "source": [
    "#ANS39\n",
    "# the sum of digits of a given number.\n",
    "def sum(n):\n",
    "    r=0\n",
    "    while n>0:\n",
    "        r=r+n%10\n",
    "        n=n//10\n",
    "    return r\n",
    "print(sum(1080))\n",
    "\n"
   ]
  },
  {
   "cell_type": "code",
   "execution_count": 21,
   "id": "02aa29b0-9516-426d-ab63-4a559da9b57b",
   "metadata": {},
   "outputs": [
    {
     "name": "stdin",
     "output_type": "stream",
     "text": [
      "enter string Madam\n"
     ]
    },
    {
     "name": "stdout",
     "output_type": "stream",
     "text": [
      "Madam not pallindromes\n"
     ]
    }
   ],
   "source": [
    "#ANS40\n",
    "#a given string is a valid palindrome considering case sensitivity.\n",
    "def check_pallindrome(string):\n",
    "    if string[:]==string[::-1]:\n",
    "        print(f'{string} is a  pallindrome')\n",
    "    else:\n",
    "        print(f'{string} not pallindromes')\n",
    "string=input('enter string')\n",
    "\n",
    "check_pallindrome(string)"
   ]
  },
  {
   "cell_type": "code",
   "execution_count": 7,
   "id": "0c077e38-e955-494a-8523-e360ea56ff5d",
   "metadata": {},
   "outputs": [
    {
     "name": "stdout",
     "output_type": "stream",
     "text": [
      "Smallest missing positive integer: 2\n"
     ]
    }
   ],
   "source": [
    "#ANS41\n",
    "#smallest mising positive integer\n",
    "def find_smallest_missing_positive(nums):\n",
    "   \n",
    "    j = 0\n",
    "    for i in range(len(nums)):\n",
    "        if nums[i] <= 0:\n",
    "            nums[i], nums[j] = nums[j], nums[i]\n",
    "            j += 1\n",
    "\n",
    "   \n",
    "    for i in range(j, len(nums)):\n",
    "        num = abs(nums[i])\n",
    "        if num <= len(nums) - j:\n",
    "            nums[j + num - 1] = -abs(nums[j + num - 1])\n",
    "\n",
    "   \n",
    "    for i in range(j, len(nums)):\n",
    "        if nums[i] > 0:\n",
    "            return i - j + 1\n",
    "    return len(nums) - j + 1\n",
    "\n",
    "\n",
    "# Test the function\n",
    "nums = [3, 4, -1, 1]\n",
    "smallest_missing_positive = find_smallest_missing_positive(nums)\n",
    "print(\"Smallest missing positive integer:\", smallest_missing_positive)\n",
    "\n",
    "        \n"
   ]
  },
  {
   "cell_type": "code",
   "execution_count": 8,
   "id": "b6122b48-fae4-4d03-b0fc-15733c0af33c",
   "metadata": {},
   "outputs": [
    {
     "name": "stdout",
     "output_type": "stream",
     "text": [
      "Longest palindrome substring: aba\n"
     ]
    }
   ],
   "source": [
    "#ANS42\n",
    "def longest_palindrome(s):\n",
    "    if len(s) < 2:\n",
    "        return s\n",
    "\n",
    "    start = 0\n",
    "    end = 0\n",
    "\n",
    "    for i in range(len(s)):\n",
    "        len1 = expand_around_center(s, i, i)  # For odd-length palindromes\n",
    "        len2 = expand_around_center(s, i, i + 1)  # For even-length palindromes\n",
    "        length = max(len1, len2)\n",
    "\n",
    "        # Update the start and end indices if a longer palindrome is found\n",
    "        if length > end - start:\n",
    "            start = i - (length - 1) // 2\n",
    "            end = i + length // 2\n",
    "\n",
    "    return s[start:end+1]\n",
    "\n",
    "\n",
    "def expand_around_center(s, left, right):\n",
    "    # Expand outward from the center to check if a palindrome exists\n",
    "    while left >= 0 and right < len(s) and s[left] == s[right]:\n",
    "        left -= 1\n",
    "        right += 1\n",
    "\n",
    "    # Return the length of the palindrome substring\n",
    "    return right - left - 1\n",
    "\n",
    "\n",
    "# Test the function\n",
    "string = \"babad\"\n",
    "longest_palindrome_substring = longest_palindrome(string)\n",
    "print(\"Longest palindrome substring:\", longest_palindrome_substring)\n"
   ]
  },
  {
   "cell_type": "code",
   "execution_count": 9,
   "id": "db857263-90e4-4775-a624-ebf884a62708",
   "metadata": {},
   "outputs": [
    {
     "name": "stdout",
     "output_type": "stream",
     "text": [
      "Number of occurrences: 4\n"
     ]
    }
   ],
   "source": [
    "#ANS43\n",
    "def count_occurrences(lst, element):\n",
    "    return lst.count(element)\n",
    "\n",
    "\n",
    "\n",
    "list_values = [1, 2, 3, 4, 2, 2, 5, 6, 2]\n",
    "element_to_count = 2\n",
    "occurrences = count_occurrences(list_values, element_to_count)\n",
    "print(\"Number of occurrences:\", occurrences)\n"
   ]
  },
  {
   "cell_type": "code",
   "execution_count": 10,
   "id": "e973e6ce-6339-4f8e-90e3-e54a27cc7807",
   "metadata": {},
   "outputs": [
    {
     "name": "stdout",
     "output_type": "stream",
     "text": [
      "28 is a perfect number\n"
     ]
    }
   ],
   "source": [
    "#ANS44\n",
    "def is_perfect_number(num):\n",
    "    if num <= 0:\n",
    "        return False\n",
    "\n",
    "    divisor_sum = 0\n",
    "\n",
    "    for i in range(1, num):\n",
    "        if num % i == 0:\n",
    "            divisor_sum += i\n",
    "    return divisor_sum == num\n",
    "number = 28\n",
    "is_perfect = is_perfect_number(number)\n",
    "if is_perfect:\n",
    "    print(number, \"is a perfect number\")\n",
    "else:\n",
    "    print(number, \"is not a perfect number\")\n"
   ]
  },
  {
   "cell_type": "code",
   "execution_count": 11,
   "id": "2abe023e-9249-4527-996a-6005eb9e91b2",
   "metadata": {},
   "outputs": [
    {
     "name": "stdout",
     "output_type": "stream",
     "text": [
      "String after removing duplicates: heol\n"
     ]
    }
   ],
   "source": [
    "#ANS45\n",
    "def remove_duplicates(string):\n",
    "    unique_chars = set(string)\n",
    "    result = ''.join(unique_chars)\n",
    "    return result\n",
    "\n",
    "\n",
    "\n",
    "input_string = \"hello\"\n",
    "result_string = remove_duplicates(input_string)\n",
    "print(\"String after removing duplicates:\", result_string)\n"
   ]
  },
  {
   "cell_type": "code",
   "execution_count": null,
   "id": "5e691be5-3dfb-49d5-8425-fc4e54547707",
   "metadata": {},
   "outputs": [],
   "source": [
    "#ANS46\n"
   ]
  },
  {
   "cell_type": "code",
   "execution_count": null,
   "id": "19863c45-c925-4558-a2b8-7932998c3581",
   "metadata": {},
   "outputs": [],
   "source": []
  }
 ],
 "metadata": {
  "kernelspec": {
   "display_name": "Python 3 (ipykernel)",
   "language": "python",
   "name": "python3"
  },
  "language_info": {
   "codemirror_mode": {
    "name": "ipython",
    "version": 3
   },
   "file_extension": ".py",
   "mimetype": "text/x-python",
   "name": "python",
   "nbconvert_exporter": "python",
   "pygments_lexer": "ipython3",
   "version": "3.10.8"
  }
 },
 "nbformat": 4,
 "nbformat_minor": 5
}
