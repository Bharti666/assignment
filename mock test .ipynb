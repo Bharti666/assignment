{
 "cells": [
  {
   "cell_type": "code",
   "execution_count": 11,
   "id": "d39dbae9-f5ec-426f-8a1d-28b58e496bf6",
   "metadata": {},
   "outputs": [
    {
     "name": "stdout",
     "output_type": "stream",
     "text": [
      "[1, 3, 12, 0, 0]\n"
     ]
    }
   ],
   "source": [
    "#ANS1\n",
    "\n",
    "def moveZeroes(nums):\n",
    "    n = len(nums)\n",
    "    l = 0 \n",
    "    for i in range(n):\n",
    "        if nums[i] != 0:\n",
    "            nums[l], nums[i] = nums[i], nums[l]\n",
    "            l= l+1\n",
    "            \n",
    "    while l < n:\n",
    "        nums[l] = 0\n",
    "        l=l+ 1\n",
    "nums1 = [0, 1, 0, 3, 12]\n",
    "moveZeroes(nums1)\n",
    "print(nums1) \n"
   ]
  },
  {
   "cell_type": "code",
   "execution_count": 12,
   "id": "4a80e4b2-08ff-4796-ba95-75bcf6cdc0eb",
   "metadata": {},
   "outputs": [
    {
     "name": "stdout",
     "output_type": "stream",
     "text": [
      "[0]\n"
     ]
    }
   ],
   "source": [
    "nums1 = [0]\n",
    "moveZeroes(nums1)\n",
    "print(nums1) "
   ]
  },
  {
   "cell_type": "code",
   "execution_count": 18,
   "id": "d27ab75e-8540-41c9-96d7-9f4ecbb6c2d4",
   "metadata": {},
   "outputs": [],
   "source": [
    "#ANS2\n",
    "def firstUniqChar(s):\n",
    "    char_count = {}\n",
    "    \n",
    "    \n",
    "    for char in s:\n",
    "        char_count[char] = char_count.get(char, 0) + 1\n",
    "    \n",
    "    for i, char in enumerate(s):\n",
    "        if char_count[char] == 1:\n",
    "            return i\n",
    "    \n",
    "    return -1\n",
    "\n",
    "        \n",
    "            \n",
    "    "
   ]
  },
  {
   "cell_type": "code",
   "execution_count": null,
   "id": "865da607-8089-4fee-b1ad-3595fce58a0e",
   "metadata": {},
   "outputs": [],
   "source": [
    "Input: s = \"leetcode\""
   ]
  }
 ],
 "metadata": {
  "kernelspec": {
   "display_name": "Python 3 (ipykernel)",
   "language": "python",
   "name": "python3"
  },
  "language_info": {
   "codemirror_mode": {
    "name": "ipython",
    "version": 3
   },
   "file_extension": ".py",
   "mimetype": "text/x-python",
   "name": "python",
   "nbconvert_exporter": "python",
   "pygments_lexer": "ipython3",
   "version": "3.10.8"
  }
 },
 "nbformat": 4,
 "nbformat_minor": 5
}
