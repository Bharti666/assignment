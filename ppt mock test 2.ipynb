{
 "cells": [
  {
   "cell_type": "code",
   "execution_count": 10,
   "id": "d8edfe4e-2ea5-4acc-ab47-a8fafd50bfce",
   "metadata": {},
   "outputs": [
    {
     "name": "stdout",
     "output_type": "stream",
     "text": [
      "[2, 4, 6, 8, 10]\n"
     ]
    }
   ],
   "source": [
    "#ANS17\n",
    "\n",
    "l = [1, 2, 3, 4, 5, 6, 7, 8, 9, 10]\n",
    "def even(l):\n",
    "    return [x for x in l if x%2==0]\n",
    "    \n",
    "print(even(l))\n",
    "\n",
    "#test case"
   ]
  },
  {
   "cell_type": "code",
   "execution_count": 15,
   "id": "f760a267-660d-4432-b9fe-71a7c312010d",
   "metadata": {},
   "outputs": [
    {
     "name": "stdout",
     "output_type": "stream",
     "text": [
      "15\n",
      "4.601478576660156e-05\n"
     ]
    }
   ],
   "source": [
    "#ANS18\n",
    "import time\n",
    "\n",
    "def timer_decorator(func):\n",
    "    def wrapper():\n",
    "        start_time=time.time()\n",
    "        result=func()\n",
    "        end_time=time.time()\n",
    "        time_taken=end_time-start_time\n",
    "        print(time_taken)\n",
    "        return result\n",
    "    return wrapper\n",
    "\n",
    "@timer_decorator\n",
    "def add():\n",
    "    a = 7+8\n",
    "    \n",
    "    print(a)\n",
    "\n",
    "add()   \n",
    "\n",
    "\n"
   ]
  },
  {
   "cell_type": "code",
   "execution_count": 18,
   "id": "a30f0bc1-707d-4819-8747-a186191743be",
   "metadata": {},
   "outputs": [
    {
     "name": "stdout",
     "output_type": "stream",
     "text": [
      "20.0\n"
     ]
    }
   ],
   "source": [
    "#Ans19\n",
    "def calculate_mean(l):\n",
    "    s= sum(l)\n",
    "    c = len(l)\n",
    "    average = s/c\n",
    "    return average\n",
    "print(calculate_mean([10, 15, 20, 25, 30]))"
   ]
  },
  {
   "cell_type": "code",
   "execution_count": 16,
   "id": "6483832c-1fd7-43e7-ac04-5a558a1c68ea",
   "metadata": {},
   "outputs": [
    {
     "ename": "NameError",
     "evalue": "name 'count' is not defined",
     "output_type": "error",
     "traceback": [
      "\u001b[0;31m---------------------------------------------------------------------------\u001b[0m",
      "\u001b[0;31mNameError\u001b[0m                                 Traceback (most recent call last)",
      "Cell \u001b[0;32mIn[16], line 1\u001b[0m\n\u001b[0;32m----> 1\u001b[0m \u001b[43mcount\u001b[49m([\u001b[38;5;241m2\u001b[39m,\u001b[38;5;241m3\u001b[39m,\u001b[38;5;241m4\u001b[39m,\u001b[38;5;241m5\u001b[39m])\n",
      "\u001b[0;31mNameError\u001b[0m: name 'count' is not defined"
     ]
    }
   ],
   "source": [
    "#Ans20\n"
   ]
  },
  {
   "cell_type": "code",
   "execution_count": null,
   "id": "2bdca123-ebd7-4368-b6fb-bd7f99a3eb39",
   "metadata": {},
   "outputs": [],
   "source": []
  }
 ],
 "metadata": {
  "kernelspec": {
   "display_name": "Python 3 (ipykernel)",
   "language": "python",
   "name": "python3"
  },
  "language_info": {
   "codemirror_mode": {
    "name": "ipython",
    "version": 3
   },
   "file_extension": ".py",
   "mimetype": "text/x-python",
   "name": "python",
   "nbconvert_exporter": "python",
   "pygments_lexer": "ipython3",
   "version": "3.10.8"
  }
 },
 "nbformat": 4,
 "nbformat_minor": 5
}
