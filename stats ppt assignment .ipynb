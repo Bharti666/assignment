{
 "cells": [
  {
   "cell_type": "code",
   "execution_count": 12,
   "id": "e5d1be69-2f56-4633-902c-1008d550f6f8",
   "metadata": {},
   "outputs": [
    {
     "name": "stdout",
     "output_type": "stream",
     "text": [
      "11.8 20.2\n"
     ]
    }
   ],
   "source": [
    "#ANS1\n",
    "Region_A=[10, 15, 12, 8, 14]\n",
    "Region_B=[18, 20, 16, 22, 25]\n",
    "import numpy as np\n",
    "mean_A,mean_B=np.mean(Region_A),np.mean(Region_B)\n",
    "\n",
    "print(mean_A,mean_B)"
   ]
  },
  {
   "cell_type": "code",
   "execution_count": 17,
   "id": "e4f86138-ccaa-463e-8094-51609f907834",
   "metadata": {},
   "outputs": [
    {
     "name": "stdout",
     "output_type": "stream",
     "text": [
      "mode is 4\n"
     ]
    }
   ],
   "source": [
    "#ANS2\n",
    "import statistics\n",
    "satisfaction_score=[4, 5, 2, 3, 5, 4, 3, 2, 4, 5]\n",
    "mode=statistics.mode(satisfaction_score)\n",
    "print(f'mode is {mode}')"
   ]
  },
  {
   "cell_type": "code",
   "execution_count": 19,
   "id": "20abca97-1d08-4212-903f-31591e37391f",
   "metadata": {},
   "outputs": [
    {
     "name": "stdout",
     "output_type": "stream",
     "text": [
      "The median of Department A is 5750.0,and median of Department B is 5500.0\n"
     ]
    }
   ],
   "source": [
    "#ANS3\n",
    "Department_A=[5000, 6000, 5500, 7000]\n",
    "Department_B=[4500, 5500, 5800, 6000, 5200]\n",
    "median_A,median_B=np.median(Department_A),np.median(Department_B)\n",
    "print(f'The median of Department A is {median_A},and median of Department B is {median_B}')"
   ]
  },
  {
   "cell_type": "code",
   "execution_count": 23,
   "id": "1d04a6e9-c865-4f22-a3a9-048a40f3a272",
   "metadata": {},
   "outputs": [
    {
     "data": {
      "text/plain": [
       "1.3000000000000007"
      ]
     },
     "execution_count": 23,
     "metadata": {},
     "output_type": "execute_result"
    }
   ],
   "source": [
    "#ANS4\n",
    "stock_price=[25.5, 24.8, 26.1, 25.3, 24.9]\n",
    "stock_range=max(stock_price)-min(stock_price)\n",
    "stock_range"
   ]
  },
  {
   "cell_type": "code",
   "execution_count": null,
   "id": "b7148c95-887f-45bb-be91-0cb9e6b259a8",
   "metadata": {},
   "outputs": [],
   "source": [
    "#ANS5\n",
    "Group A=[85, 90, 92, 88, 91]\n",
    "Group B=[82, 88, 90, 86, 87]\n",
    "\n",
    "lets make first hypothesis:\n",
    "1. null hypothesis is that- there is no differnece between two groups\n",
    "2. alternative hypothesis states that there is significant difference between two groups\n"
   ]
  },
  {
   "cell_type": "code",
   "execution_count": 28,
   "id": "3b98908e-c531-42e5-a607-287ebf93b240",
   "metadata": {},
   "outputs": [
    {
     "name": "stdout",
     "output_type": "stream",
     "text": [
      "Accept the null hypothesis\n"
     ]
    }
   ],
   "source": [
    "#fnow lets do the t- test to determine\n",
    "Group_A=[85, 90, 92, 88, 91]\n",
    "Group_B=[82, 88, 90, 86, 87]\n",
    "alpha_value=0.05\n",
    "from scipy.stats import ttest_ind\n",
    "t_value,p_value=ttest_ind(Group_A,Group_B)\n",
    "if p_value>alpha_value:\n",
    "    print('Accept the null hypothesis')\n",
    "else:\n",
    "    print('reject the null hypotheis')\n",
    "    "
   ]
  },
  {
   "cell_type": "code",
   "execution_count": 3,
   "id": "879369fc-6a02-487c-982f-db811c5ca5c8",
   "metadata": {},
   "outputs": [
    {
     "data": {
      "text/plain": [
       "PearsonRResult(statistic=0.8757511375750133, pvalue=0.05158319418821717)"
      ]
     },
     "execution_count": 3,
     "metadata": {},
     "output_type": "execute_result"
    }
   ],
   "source": [
    "#ANS6\n",
    "from scipy.stats import pearsonr\n",
    "Advertising_Expenditure=[10, 15, 12, 8, 14]\n",
    "Sales =[25, 30, 28, 20, 26]\n",
    "pearsonr(Advertising_Expenditure,Sales)"
   ]
  },
  {
   "cell_type": "code",
   "execution_count": 7,
   "id": "d4f11d65-b3c9-4858-9372-62328117b4a0",
   "metadata": {},
   "outputs": [
    {
     "data": {
      "text/plain": [
       "7.953949089757174"
      ]
     },
     "execution_count": 7,
     "metadata": {},
     "output_type": "execute_result"
    }
   ],
   "source": [
    "#ANS7\n",
    "import numpy as np\n",
    "heights=[160, 170, 165, 155, 175, 180, 170]\n",
    "standard_deviation=np.std(heights)\n",
    "standard_deviation"
   ]
  },
  {
   "cell_type": "code",
   "execution_count": 21,
   "id": "441e6c0c-b5c3-42a1-9dd5-c44aae437aaa",
   "metadata": {},
   "outputs": [
    {
     "data": {
      "text/plain": [
       "array([-0.46808511])"
      ]
     },
     "execution_count": 21,
     "metadata": {},
     "output_type": "execute_result"
    }
   ],
   "source": [
    "#ANS8\n",
    "import numpy as np\n",
    "Employee_tenure=np.array([2, 3, 5, 4, 6, 2, 4]).reshape(-1,1)\n",
    "Job_satisfaction=np.array([7, 8, 6, 9, 5, 7, 6]).reshape(-1,1)\n",
    "from sklearn.linear_model import LinearRegression\n",
    "linear=LinearRegression()\n",
    "linear.fit(Employee_tenure,Job_satisfaction)\n",
    "linear.intercept_\n",
    "linear.coef_[0]"
   ]
  },
  {
   "cell_type": "code",
   "execution_count": 1,
   "id": "005b1fa4-e4e6-4899-9f4d-5e5167d7329f",
   "metadata": {},
   "outputs": [
    {
     "name": "stdout",
     "output_type": "stream",
     "text": [
      "Means are different\n"
     ]
    }
   ],
   "source": [
    "#ANS9\n",
    "#here also we can make the null and alternative hypothesis\n",
    "#null hypothesis states that we have same mean of both the groups\n",
    "#whereas alternative hypothesis states that we have different means of both the groups\n",
    "\n",
    "from scipy.stats import f_oneway\n",
    "Medication_A= [10, 12, 14, 11, 13]\n",
    "Medication_B= [15, 17, 16, 14, 18]\n",
    "f_value,p_value=f_oneway(Medication_A,Medication_B)\n",
    "if p_value<0.05:\n",
    "    print('Means are different')\n",
    "else:\n",
    "    print('Means are same')\n"
   ]
  },
  {
   "cell_type": "code",
   "execution_count": 29,
   "id": "db46ac55-94d2-4bf7-9d7c-867e351f8fac",
   "metadata": {},
   "outputs": [
    {
     "data": {
      "text/plain": [
       "8.75"
      ]
     },
     "execution_count": 29,
     "metadata": {},
     "output_type": "execute_result"
    }
   ],
   "source": [
    "#ANS10\n",
    "ratings=[8, 9, 7, 6, 8, 10, 9, 8, 7, 8]\n",
    "percentile_75=np.quantile(ratings,0.75)\n",
    "percentile_75\n"
   ]
  },
  {
   "cell_type": "code",
   "execution_count": null,
   "id": "c362029c-8c9d-48df-b642-58b793932a14",
   "metadata": {},
   "outputs": [],
   "source": [
    "#ANS11\n",
    "weight=[10.2, 9.8, 10.0, 10.5, 10.3, 10.1]\n",
    "here populaiton mean is 10.\n",
    "null hypothesis states that there is no difference in weights\n",
    "hypothesis states that weight differ ffom 10 gram\n",
    "now we will perform here t test as statistical analysis test\n",
    "and then compare p value with significant value"
   ]
  },
  {
   "cell_type": "code",
   "execution_count": 30,
   "id": "be9826a7-db2f-48d6-b2dc-853ce1957a14",
   "metadata": {},
   "outputs": [
    {
     "name": "stdout",
     "output_type": "stream",
     "text": [
      "accept null hypothesis\n"
     ]
    }
   ],
   "source": [
    "from scipy.stats import ttest_1samp\n",
    "weights=[10.2, 9.8, 10.0, 10.5, 10.3, 10.1]\n",
    "t_value,p_value=ttest_1samp(weights,10)\n",
    "significance_value=0.05\n",
    "if p_value>significance_value:\n",
    "    print('accept null hypothesis')\n",
    "else:\n",
    "    print('reject null hypothesis')"
   ]
  },
  {
   "cell_type": "code",
   "execution_count": 9,
   "id": "207a1f9a-89e8-4bc7-8cd7-c0bda6bdda3f",
   "metadata": {},
   "outputs": [
    {
     "data": {
      "text/plain": [
       "'Design_A=[100, 120, 110, 90, 95]\\nDesign_B=[80, 85, 90, 95, 100]\\n\\nfrom scipy.stats import chisquare\\nchi_2stat,p_value=chisquare(Design_A,Design_B)\\n\\nhere we cannot find the answer in this question, as we have different sum of design A and design B'"
      ]
     },
     "execution_count": 9,
     "metadata": {},
     "output_type": "execute_result"
    }
   ],
   "source": [
    "#ANS12\n",
    "Design_A=[100, 120, 110, 90, 95]\n",
    "Design_B=[80, 85, 90, 95, 100]\n",
    "\n",
    "from scipy.stats import chisquare\n",
    "chi_2stat,p_value=chisquare(Design_A,Design_B)\n",
    "\n",
    "here we cannot find the answer in this question, as we have different sum of design A and design B."
   ]
  },
  {
   "cell_type": "code",
   "execution_count": 27,
   "id": "54681f43-d215-490b-82ec-e88d78804ccb",
   "metadata": {},
   "outputs": [
    {
     "name": "stdout",
     "output_type": "stream",
     "text": [
      "(7.043561120599888, 8.756438879400113)\n"
     ]
    }
   ],
   "source": [
    "#ANS13\n",
    "\n",
    "from scipy import stats\n",
    "\n",
    "# Satisfaction scores\n",
    "scores = [7, 9, 6, 8, 10, 7, 8, 9, 7, 8]\n",
    "\n",
    "# Calculate the mean and standard error\n",
    "mean = np.mean(scores)\n",
    "std_error = stats.sem(scores)\n",
    "\n",
    "# Calculate the confidence interval\n",
    "confidence_interval = stats.t.interval(0.95, len(scores)-1, loc=mean, scale=std_error)\n",
    "\n",
    "# Print the confidence interval\n",
    "\n",
    "print(confidence_interval)\n",
    "\n"
   ]
  },
  {
   "cell_type": "code",
   "execution_count": 31,
   "id": "efe91fbd-8e55-4648-88df-3e0d0f36a2ef",
   "metadata": {},
   "outputs": [],
   "source": [
    "#ANS14\n",
    "Temperature=np.array([20, 22, 23, 19, 21]).reshape(-1,1)\n",
    "Performance=np.array([8, 7, 9, 6, 8]).reshape(-1,1)\n",
    "from sklearn.linear_model import LinearRegression\n",
    "regressor=LinearRegression()\n",
    "model=regressor.fit(Temperature,Performance)\n",
    "coff=model.coef_\n",
    "intercept=model.intercept_\n",
    "#hence by seeing the coff we can say that there is positive relation between temperature and performance."
   ]
  },
  {
   "cell_type": "code",
   "execution_count": 32,
   "id": "44849829-ff5b-4e6e-9ee4-1b6f945820ef",
   "metadata": {},
   "outputs": [
    {
     "name": "stdout",
     "output_type": "stream",
     "text": [
      "There is no significant difference in the median preferences between the two groups.\n"
     ]
    }
   ],
   "source": [
    "#ANS15\n",
    "\n",
    "from scipy import stats\n",
    "\n",
    "# Preferences for each group\n",
    "group_A = [4, 3, 5, 2, 4]\n",
    "group_B = [3, 2, 4, 3, 3]\n",
    "\n",
    "# Perform the Mann-Whitney U test\n",
    "statistic, p_value = stats.mannwhitneyu(group_A, group_B)\n",
    "\n",
    "\n",
    "# Interpret the results\n",
    "if p_value < 0.05:\n",
    "    print(\"There is a significant difference in the median preferences between the two groups.\")\n",
    "else:\n",
    "    print(\"There is no significant difference in the median preferences between the two groups.\")\n"
   ]
  },
  {
   "cell_type": "code",
   "execution_count": 24,
   "id": "53654eca-be1e-4ad9-bf5c-bcf0affa3862",
   "metadata": {},
   "outputs": [
    {
     "data": {
      "text/plain": [
       "22.5"
      ]
     },
     "execution_count": 24,
     "metadata": {},
     "output_type": "execute_result"
    }
   ],
   "source": [
    "#ANS16\n",
    "ages=[25, 30, 35, 40, 45, 50, 55, 60, 65, 70]\n",
    "minimum,Q1,Q2,Q3,maximum=np.quantile(ages,[0.0,0.25,0.50,0.75,1.0])\n",
    "iqr=Q3-Q1\n",
    "iqr"
   ]
  },
  {
   "cell_type": "code",
   "execution_count": null,
   "id": "5ad166db-57f7-4398-b5a4-b76da2e90b77",
   "metadata": {},
   "outputs": [],
   "source": [
    "#ANS17"
   ]
  },
  {
   "cell_type": "code",
   "execution_count": 16,
   "id": "914122e4-eb78-407e-b3c4-18d95d53b41d",
   "metadata": {},
   "outputs": [],
   "source": [
    "#ANS18\n",
    "Price=np.array([10, 15, 12, 8, 14]).reshape(-1,1)\n",
    "Sales=np.array([100, 80, 90, 110, 95]).reshape(-1,1)\n",
    "from sklearn.linear_model import LinearRegression\n",
    "regressor=LinearRegression()\n",
    "regressor.fit(Price,Sales)\n",
    "coff=regressor.coef_\n",
    "intecept=regressor.intercept_\n",
    "predicted_sales = intercept + coff * new_price #(where new_price is the price at which we want to find the sales)"
   ]
  },
  {
   "cell_type": "code",
   "execution_count": 11,
   "id": "22c1eb65-2708-4f9e-a0d4-6832b2d44ab2",
   "metadata": {},
   "outputs": [
    {
     "data": {
      "text/plain": [
       "0.30550504633038933"
      ]
     },
     "execution_count": 11,
     "metadata": {},
     "output_type": "execute_result"
    }
   ],
   "source": [
    "#ANS19\n",
    "from scipy.stats import sem\n",
    "standard_error=sem([7, 8, 9, 6, 8, 7, 9, 7, 8, 7])\n",
    "standard_error"
   ]
  },
  {
   "cell_type": "code",
   "execution_count": 6,
   "id": "3a1993a8-52ba-4eac-bf8f-3dd9678bef91",
   "metadata": {},
   "outputs": [
    {
     "data": {
      "text/plain": [
       "array([[1.15243902]])"
      ]
     },
     "execution_count": 6,
     "metadata": {},
     "output_type": "execute_result"
    }
   ],
   "source": [
    "#ANS20\n",
    "#here multiple regresion analysis is not possible since we have been given only sinlge independent feature\n",
    "#but still we can perform the simple linear regression analysis here.\n",
    "import numpy as np\n",
    "Advertising_Expenditure=np.array([10, 15, 12, 8, 14]).reshape(-1,1)\n",
    "Sales=np.array([25, 30, 28, 20, 26]).reshape(-1,1)\n",
    "\n",
    "from sklearn.linear_model import LinearRegression\n",
    "regression=LinearRegression()\n",
    "model=regression.fit(Advertising_Expenditure,Sales)\n",
    "model.coef_"
   ]
  },
  {
   "cell_type": "code",
   "execution_count": null,
   "id": "00a9ed7e-aabd-461f-84db-168aaf2c4820",
   "metadata": {},
   "outputs": [],
   "source": []
  }
 ],
 "metadata": {
  "kernelspec": {
   "display_name": "Python 3 (ipykernel)",
   "language": "python",
   "name": "python3"
  },
  "language_info": {
   "codemirror_mode": {
    "name": "ipython",
    "version": 3
   },
   "file_extension": ".py",
   "mimetype": "text/x-python",
   "name": "python",
   "nbconvert_exporter": "python",
   "pygments_lexer": "ipython3",
   "version": "3.10.8"
  }
 },
 "nbformat": 4,
 "nbformat_minor": 5
}
