{
 "cells": [
  {
   "cell_type": "code",
   "execution_count": 2,
   "id": "83997c40-de9f-4902-9a9d-c13ba5501788",
   "metadata": {},
   "outputs": [],
   "source": [
    "import pandas as pd"
   ]
  },
  {
   "cell_type": "code",
   "execution_count": 5,
   "id": "99333079-5296-4b10-8fc5-ccd380222e34",
   "metadata": {},
   "outputs": [
    {
     "data": {
      "text/plain": [
       "0     4\n",
       "1     8\n",
       "2    15\n",
       "3    16\n",
       "4    23\n",
       "5    42\n",
       "dtype: int64"
      ]
     },
     "execution_count": 5,
     "metadata": {},
     "output_type": "execute_result"
    }
   ],
   "source": [
    "#ANS 1\n",
    "data = [ 4, 8, 15, 16, 23, 42]\n",
    "data1 = pd.Series(data)\n",
    "data1"
   ]
  },
  {
   "cell_type": "code",
   "execution_count": 10,
   "id": "4c310f8a-1cf9-4286-b1c1-99049d5ae67b",
   "metadata": {},
   "outputs": [
    {
     "data": {
      "text/plain": [
       "0    1\n",
       "1    2\n",
       "2    3\n",
       "3    4\n",
       "4    5\n",
       "5    6\n",
       "6    7\n",
       "7    8\n",
       "8    9\n",
       "9    0\n",
       "dtype: int64"
      ]
     },
     "execution_count": 10,
     "metadata": {},
     "output_type": "execute_result"
    }
   ],
   "source": [
    "#ANS2 \n",
    "a = [1,2,3,4,5,6,7,8,9,0]\n",
    "a1 = pd.Series(a)\n",
    "a1"
   ]
  },
  {
   "cell_type": "code",
   "execution_count": 12,
   "id": "a5e2d71c-e6d7-43c0-b996-2836120ff23c",
   "metadata": {},
   "outputs": [
    {
     "data": {
      "text/html": [
       "<div>\n",
       "<style scoped>\n",
       "    .dataframe tbody tr th:only-of-type {\n",
       "        vertical-align: middle;\n",
       "    }\n",
       "\n",
       "    .dataframe tbody tr th {\n",
       "        vertical-align: top;\n",
       "    }\n",
       "\n",
       "    .dataframe thead th {\n",
       "        text-align: right;\n",
       "    }\n",
       "</style>\n",
       "<table border=\"1\" class=\"dataframe\">\n",
       "  <thead>\n",
       "    <tr style=\"text-align: right;\">\n",
       "      <th></th>\n",
       "      <th>Name</th>\n",
       "      <th>Age</th>\n",
       "      <th>Gender</th>\n",
       "    </tr>\n",
       "  </thead>\n",
       "  <tbody>\n",
       "    <tr>\n",
       "      <th>0</th>\n",
       "      <td>Alice</td>\n",
       "      <td>25</td>\n",
       "      <td>Female</td>\n",
       "    </tr>\n",
       "    <tr>\n",
       "      <th>1</th>\n",
       "      <td>Bob</td>\n",
       "      <td>30</td>\n",
       "      <td>Male</td>\n",
       "    </tr>\n",
       "    <tr>\n",
       "      <th>2</th>\n",
       "      <td>Clair</td>\n",
       "      <td>27</td>\n",
       "      <td>Female</td>\n",
       "    </tr>\n",
       "  </tbody>\n",
       "</table>\n",
       "</div>"
      ],
      "text/plain": [
       "    Name  Age  Gender\n",
       "0  Alice   25  Female\n",
       "1    Bob   30    Male\n",
       "2  Clair   27  Female"
      ]
     },
     "execution_count": 12,
     "metadata": {},
     "output_type": "execute_result"
    }
   ],
   "source": [
    "#ANS3\n",
    "d = {'Name':['Alice','Bob','Clair'],'Age': [25,30,27],'Gender':['Female','Male','Female']}\n",
    "\n",
    "df1 = pd.DataFrame(d)\n",
    "df1"
   ]
  },
  {
   "cell_type": "code",
   "execution_count": null,
   "id": "2385f9d4-d510-4843-bf50-9df9caef1e9f",
   "metadata": {},
   "outputs": [],
   "source": [
    "#ANS4\n",
    "Dataframe is collection of all rows and columns of a particular table. \n",
    "it is a 2d labeled structured with different rows and columns, whereas series is equivalent to \n",
    "list in pandas, it is an array of single column or row.\n",
    "\n",
    "in above question,whole table is a dataframe whereas single column such as name or age or gender is a series.\n"
   ]
  },
  {
   "cell_type": "code",
   "execution_count": null,
   "id": "f48380b4-5b82-4a9e-95ed-bf8525d82a26",
   "metadata": {},
   "outputs": [],
   "source": [
    "#ANS 5 \n",
    "There are many functions which are used to manipulate data in dataframe of pandas, some of the funcitons are \n",
    "append,merge,join,concat,drop,dropna,fillna,head,tail,describe,\n",
    "append- function used to add two different dataframes\n",
    "merge - this funciton is also used to join different dataframes as in intersection\n",
    "join and concat also used to add different dataframes\n",
    "drop - used to delete some rows or columns from dataframes\n",
    "dropna - used to delete rows or column of those datas's \n"
   ]
  },
  {
   "cell_type": "code",
   "execution_count": null,
   "id": "02e15512-7497-44fe-8dad-0a8c999925cb",
   "metadata": {},
   "outputs": [],
   "source": [
    "#ANS6 \n",
    "here all three panel,dataframe,series are mutable, they are value mutable but not size mutable. this means\n",
    "new column can be added or deleted but number of elements in a columns cannot be increased."
   ]
  },
  {
   "cell_type": "code",
   "execution_count": 13,
   "id": "3ca140a0-09f1-43e5-b0cd-c85cbbea8b90",
   "metadata": {},
   "outputs": [],
   "source": [
    "#ANS7 dataframe can be made by concatenation multiple series\n",
    "c1 = pd.Series([2,3,4,5])\n",
    "c2 = pd.Series([6,7,8,9])\n",
    "c3 = pd.Series([1,2,6,7])\n",
    "c4 = pd.concat([c1,c2,c3],axis = 1)"
   ]
  },
  {
   "cell_type": "code",
   "execution_count": 14,
   "id": "5b2d7275-86c6-4045-a6b5-f0a1af9a8f33",
   "metadata": {},
   "outputs": [
    {
     "data": {
      "text/html": [
       "<div>\n",
       "<style scoped>\n",
       "    .dataframe tbody tr th:only-of-type {\n",
       "        vertical-align: middle;\n",
       "    }\n",
       "\n",
       "    .dataframe tbody tr th {\n",
       "        vertical-align: top;\n",
       "    }\n",
       "\n",
       "    .dataframe thead th {\n",
       "        text-align: right;\n",
       "    }\n",
       "</style>\n",
       "<table border=\"1\" class=\"dataframe\">\n",
       "  <thead>\n",
       "    <tr style=\"text-align: right;\">\n",
       "      <th></th>\n",
       "      <th>0</th>\n",
       "      <th>1</th>\n",
       "      <th>2</th>\n",
       "    </tr>\n",
       "  </thead>\n",
       "  <tbody>\n",
       "    <tr>\n",
       "      <th>0</th>\n",
       "      <td>2</td>\n",
       "      <td>6</td>\n",
       "      <td>1</td>\n",
       "    </tr>\n",
       "    <tr>\n",
       "      <th>1</th>\n",
       "      <td>3</td>\n",
       "      <td>7</td>\n",
       "      <td>2</td>\n",
       "    </tr>\n",
       "    <tr>\n",
       "      <th>2</th>\n",
       "      <td>4</td>\n",
       "      <td>8</td>\n",
       "      <td>6</td>\n",
       "    </tr>\n",
       "    <tr>\n",
       "      <th>3</th>\n",
       "      <td>5</td>\n",
       "      <td>9</td>\n",
       "      <td>7</td>\n",
       "    </tr>\n",
       "  </tbody>\n",
       "</table>\n",
       "</div>"
      ],
      "text/plain": [
       "   0  1  2\n",
       "0  2  6  1\n",
       "1  3  7  2\n",
       "2  4  8  6\n",
       "3  5  9  7"
      ]
     },
     "execution_count": 14,
     "metadata": {},
     "output_type": "execute_result"
    }
   ],
   "source": [
    "c4"
   ]
  },
  {
   "cell_type": "code",
   "execution_count": 15,
   "id": "10edcc9f-b6c2-4035-839f-13908a4285a2",
   "metadata": {},
   "outputs": [
    {
     "data": {
      "text/plain": [
       "pandas.core.frame.DataFrame"
      ]
     },
     "execution_count": 15,
     "metadata": {},
     "output_type": "execute_result"
    }
   ],
   "source": [
    "type(c4)"
   ]
  },
  {
   "cell_type": "code",
   "execution_count": null,
   "id": "932567fc-404c-4948-9281-83bc88eb5e3a",
   "metadata": {},
   "outputs": [],
   "source": []
  }
 ],
 "metadata": {
  "kernelspec": {
   "display_name": "Python 3 (ipykernel)",
   "language": "python",
   "name": "python3"
  },
  "language_info": {
   "codemirror_mode": {
    "name": "ipython",
    "version": 3
   },
   "file_extension": ".py",
   "mimetype": "text/x-python",
   "name": "python",
   "nbconvert_exporter": "python",
   "pygments_lexer": "ipython3",
   "version": "3.10.8"
  }
 },
 "nbformat": 4,
 "nbformat_minor": 5
}
