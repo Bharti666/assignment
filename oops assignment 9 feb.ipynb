{
 "cells": [
  {
   "cell_type": "code",
   "execution_count": 2,
   "id": "649a226c-dab0-4d42-9e82-55d4bf2bb6e0",
   "metadata": {},
   "outputs": [],
   "source": [
    "#ANS1\n",
    "class vehicle:\n",
    "    def __init__(self,name_of_vehicle,max_speed,average_of_vehicle):\n",
    "        self.name_of_vehicle= name_of_vehicle\n",
    "        self.max_spee = max_spee\n",
    "        self.average_of_vehicle = average_of_vehicle\n",
    "        "
   ]
  },
  {
   "cell_type": "code",
   "execution_count": 5,
   "id": "4c378c9b-9227-4233-805c-8abb8971f139",
   "metadata": {},
   "outputs": [
    {
     "data": {
      "text/plain": [
       "('maruti', 3)"
      ]
     },
     "execution_count": 5,
     "metadata": {},
     "output_type": "execute_result"
    }
   ],
   "source": [
    "#ANS2\n",
    "class vehicle:\n",
    "    def __init__(self,name_of_vehicle,max_speed,average_of_vehicle):\n",
    "        self.name_of_vehicle= name_of_vehicle\n",
    "        self.max_speed = max_speed\n",
    "        self.average_of_vehicle = average_of_vehicle\n",
    "class car(vehicle):\n",
    "    def seating_capacity(self,capacity):\n",
    "        return self.name_of_vehicle,capacity\n",
    "\n",
    "c1 = car('maruti',67,78)\n",
    "c1.seating_capacity(3)"
   ]
  },
  {
   "cell_type": "code",
   "execution_count": 10,
   "id": "c4042f86-a0cd-425e-9c4f-d577ed818b99",
   "metadata": {},
   "outputs": [
    {
     "name": "stdout",
     "output_type": "stream",
     "text": [
      "this is my bus\n"
     ]
    }
   ],
   "source": [
    "#ANS3\n",
    "#Multiple inheritance- in this child class inherits more than one parent class.an example is shown below:\n",
    "class car:\n",
    "    def maruti(self):\n",
    "        print('this is my car')\n",
    "\n",
    "\n",
    "class bus:\n",
    "    def bus1(self):\n",
    "        print('this is my bus')\n",
    "        \n",
    "class scooter(car,bus):\n",
    "    def scooter1(self):\n",
    "        print('this is my first scooter')\n",
    "s1 = scooter()\n",
    "s1.bus1()\n",
    "    \n",
    "#in above example we can see that car and bus are parent class whereas scooter is child class, which inherits both of the parent class.      \n",
    "    "
   ]
  },
  {
   "cell_type": "code",
   "execution_count": 37,
   "id": "7d56ff9b-423d-4f34-9b13-e91281b64071",
   "metadata": {},
   "outputs": [
    {
     "data": {
      "text/plain": [
       "16"
      ]
     },
     "execution_count": 37,
     "metadata": {},
     "output_type": "execute_result"
    }
   ],
   "source": [
    "#ANS4\n",
    "#getter and setter are methods for instance variable of a class. setter is used to set or update instance variable whereas getter is used to return \n",
    "#or access an instance variable or an attribute, setter are also known as mutator whereas getter are known as accesssor.\n",
    "class person:\n",
    "    def __init__(self,age):\n",
    "        self.__age = age\n",
    "    \n",
    "    def get_age(self):#getter method\n",
    "        return self.__age\n",
    "    \n",
    "    def set_age(self,x):\n",
    "        self.__age = x\n",
    "        return x\n",
    "        \n",
    "        \n",
    "\n",
    "    \n",
    "p1 = person(7)\n",
    "\n",
    "#p1.get_age()\n",
    "p1.set_age(16)\n",
    "\n",
    "\n",
    "        \n",
    "        "
   ]
  },
  {
   "cell_type": "code",
   "execution_count": null,
   "id": "c9906188-0596-4a66-b004-11ca2614638e",
   "metadata": {},
   "outputs": [],
   "source": [
    "#ANS5\n",
    "method overriding is defined as the implementation of one or method of parent class by child class. for example we have two classes \n",
    "class A and class B, now class A is parent class and class B is child class, now there is one mehtod in parent class i.e A and there is no any \n",
    "method written in child class only pass statement is written. \n",
    "so if we make an object of B class and write it with method of A class then method of A class overrides B class.\n"
   ]
  },
  {
   "cell_type": "code",
   "execution_count": 38,
   "id": "15727430-3db2-4193-b6f8-060b66e0f84b",
   "metadata": {},
   "outputs": [
    {
     "ename": "SyntaxError",
     "evalue": "incomplete input (3925375033.py, line 5)",
     "output_type": "error",
     "traceback": [
      "\u001b[0;36m  Cell \u001b[0;32mIn[38], line 5\u001b[0;36m\u001b[0m\n\u001b[0;31m    class B:\u001b[0m\n\u001b[0m            ^\u001b[0m\n\u001b[0;31mSyntaxError\u001b[0m\u001b[0;31m:\u001b[0m incomplete input\n"
     ]
    }
   ],
   "source": [
    "#example of method overriding\n",
    "class A:\n",
    "    def show(self):\n",
    "        print('this is A class')\n",
    "class B(A):\n",
    "    pass\n",
    "\n",
    "B"
   ]
  },
  {
   "cell_type": "code",
   "execution_count": null,
   "id": "ea81f131-76f4-4f8f-ab29-423546a4cf5e",
   "metadata": {},
   "outputs": [],
   "source": []
  }
 ],
 "metadata": {
  "kernelspec": {
   "display_name": "Python 3 (ipykernel)",
   "language": "python",
   "name": "python3"
  },
  "language_info": {
   "codemirror_mode": {
    "name": "ipython",
    "version": 3
   },
   "file_extension": ".py",
   "mimetype": "text/x-python",
   "name": "python",
   "nbconvert_exporter": "python",
   "pygments_lexer": "ipython3",
   "version": "3.10.8"
  }
 },
 "nbformat": 4,
 "nbformat_minor": 5
}
