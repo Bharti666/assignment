{
 "cells": [
  {
   "cell_type": "code",
   "execution_count": null,
   "id": "91c037f4-d30d-4163-a7c9-98d919e1e703",
   "metadata": {},
   "outputs": [],
   "source": [
    "ANS1 for loop is used when we know the starting and end point, whereas while loop is used when we \n",
    "have a certain condition. for example if we have to print numbers from 1 to 10, we can use for loop as well as while loop but for loop will be convinient to use here.\n",
    "whereas if we have to print numbers equal to or less than 10, we can use while loop.\n",
    "if we have a list, tupple or string, and we have to iterate elements then we can use for loop.\n",
    "\n",
    "at short we can say that for loop is used when we know the number of iterations, and while loop is used when we do not know number of iterations."
   ]
  },
  {
   "cell_type": "code",
   "execution_count": 2,
   "id": "05b92f89-318f-49a8-82dd-76d724bc21ac",
   "metadata": {},
   "outputs": [
    {
     "name": "stdout",
     "output_type": "stream",
     "text": [
      "55\n"
     ]
    }
   ],
   "source": [
    "#ANS2 sum of first 10 natural number using for loop,\n",
    "j = 0\n",
    "for i in range(1,11):\n",
    "    j = i+j\n",
    "print(j)"
   ]
  },
  {
   "cell_type": "code",
   "execution_count": null,
   "id": "0145c346-eaf6-400c-882c-c00bedad780d",
   "metadata": {},
   "outputs": [],
   "source": [
    "#sum of first 10 natural numbers using while loop\n",
    "j = 0\n",
    "i = 1\n",
    "\n",
    "while i<11:\n",
    "    j = i+j\n",
    "    i = i+1\n",
    "\n",
    "print(j)\n",
    "    "
   ]
  },
  {
   "cell_type": "code",
   "execution_count": null,
   "id": "2d663136-9c03-4bb3-9f08-69d26d78ee97",
   "metadata": {},
   "outputs": [],
   "source": [
    "#product of 10 natural numbers using for loop\n",
    "j = 1\n",
    "for i in range(1,11):\n",
    "    j = j*i\n",
    "print(j)"
   ]
  },
  {
   "cell_type": "code",
   "execution_count": null,
   "id": "f5b51c7e-d614-4004-81be-18a5be161af1",
   "metadata": {},
   "outputs": [],
   "source": [
    "#product of 10 natural numbers using while loop\n",
    "a = 1\n",
    "b = 1\n",
    "while a<=10:\n",
    "    b = a *b\n",
    "    a = a+1\n",
    "print(b)\n"
   ]
  },
  {
   "cell_type": "code",
   "execution_count": 1,
   "id": "f3a2f9e5-6464-45dd-a5f8-247e5244172a",
   "metadata": {},
   "outputs": [
    {
     "name": "stdin",
     "output_type": "stream",
     "text": [
      "enter units of electricity consumed 310\n"
     ]
    },
    {
     "name": "stdout",
     "output_type": "stream",
     "text": [
      "6200\n"
     ]
    }
   ],
   "source": [
    "#ANS 3\n",
    "units = int(input('enter units of electricity consumed'))\n",
    "\n",
    "if units<=100 and units>0:\n",
    "    charge = units*4.5\n",
    "    print(charge)\n",
    "elif units>100 and units<=200:\n",
    "    charge = units*6\n",
    "    print(charge)\n",
    "elif units>200 and units<=300:\n",
    "    charge = units*10\n",
    "    print(charge)\n",
    "else:\n",
    "    charge = units*20\n",
    "    print(charge)\n",
    "#here the charge should be 6200 of 310 units instead of 2250."
   ]
  },
  {
   "cell_type": "code",
   "execution_count": 4,
   "id": "b0894789-67a2-43dc-8cb7-dc3cef2dd62c",
   "metadata": {},
   "outputs": [
    {
     "name": "stdout",
     "output_type": "stream",
     "text": [
      "[8, 64, 125, 216, 512, 1000, 1728, 2744, 3375, 4096, 5832, 8000, 10648, 13824, 15625, 17576, 21952, 27000, 32768, 39304, 42875, 46656, 54872, 64000, 74088, 85184, 91125, 97336, 110592, 125000, 140608, 157464, 166375, 175616, 195112, 216000, 238328, 262144, 274625, 287496, 314432, 343000, 373248, 405224, 421875, 438976, 474552, 512000, 551368, 592704, 614125, 636056, 681472, 729000, 778688, 830584, 857375, 884736, 941192, 1000000]\n"
     ]
    }
   ],
   "source": [
    "#ANS 4\n",
    "\n",
    "#print(list(range(1,100)))\n",
    "l = []\n",
    "for i in range(1,101):\n",
    "    j = (i**3)\n",
    "    if (j%4==0 or j%5==0):\n",
    "        l.append(j)\n",
    "print(l)"
   ]
  },
  {
   "cell_type": "code",
   "execution_count": 3,
   "id": "803b8fc3-d3ed-44d6-98e1-db074b225d03",
   "metadata": {},
   "outputs": [
    {
     "name": "stdout",
     "output_type": "stream",
     "text": [
      "total number of vowels in the string 12\n"
     ]
    }
   ],
   "source": [
    "#ANS 5\n",
    "string = \"I want to become a data scientist\"\n",
    "\n",
    "vowels = ('a','e','i','o','u','A','E','I','O','U')\n",
    "\n",
    "count = 0\n",
    "for i in string:\n",
    "    if i in vowels:\n",
    "        count = count +1\n",
    "print('total number of vowels in the string',count)"
   ]
  },
  {
   "cell_type": "code",
   "execution_count": null,
   "id": "ec036b84-6496-41e0-8b1a-2ed3a44837a0",
   "metadata": {},
   "outputs": [],
   "source": []
  }
 ],
 "metadata": {
  "kernelspec": {
   "display_name": "Python 3 (ipykernel)",
   "language": "python",
   "name": "python3"
  },
  "language_info": {
   "codemirror_mode": {
    "name": "ipython",
    "version": 3
   },
   "file_extension": ".py",
   "mimetype": "text/x-python",
   "name": "python",
   "nbconvert_exporter": "python",
   "pygments_lexer": "ipython3",
   "version": "3.10.8"
  }
 },
 "nbformat": 4,
 "nbformat_minor": 5
}
