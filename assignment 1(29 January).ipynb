{
 "cells": [
  {
   "cell_type": "code",
   "execution_count": 2,
   "id": "9b7d5736-c8e6-4f7a-8b29-3e5aeec50ca6",
   "metadata": {},
   "outputs": [
    {
     "data": {
      "text/plain": [
       "'python was developed by Guido Van Rossum.'"
      ]
     },
     "execution_count": 2,
     "metadata": {},
     "output_type": "execute_result"
    }
   ],
   "source": [
    " ANS 1 python was developed by Guido Van Rossum."
   ]
  },
  {
   "cell_type": "code",
   "execution_count": null,
   "id": "537cedc8-4817-4a67-a081-2ce551c298d8",
   "metadata": {},
   "outputs": [],
   "source": [
    "ANS 2 Python support object oriented programing, structured and functional programing."
   ]
  },
  {
   "cell_type": "code",
   "execution_count": null,
   "id": "030657ef-a58a-4007-8e34-f54f7fdde3e8",
   "metadata": {},
   "outputs": [],
   "source": [
    "ANS 3 yes, python identifiers are case sensitive."
   ]
  },
  {
   "cell_type": "code",
   "execution_count": null,
   "id": "e33662b6-b6b3-47e4-baac-052f02e70c30",
   "metadata": {},
   "outputs": [],
   "source": [
    "ANS 4 The extension for python is .py."
   ]
  },
  {
   "cell_type": "code",
   "execution_count": 4,
   "id": "40c8ad9b-5386-4099-bf21-0ad1e20fabfd",
   "metadata": {},
   "outputs": [
    {
     "data": {
      "text/plain": [
       "'ANS 5 Yes python is interpreted or complied language because programming code is first converted into bytecode which is known as compilation, then it is executed by the virtual machine.'"
      ]
     },
     "execution_count": 4,
     "metadata": {},
     "output_type": "execute_result"
    }
   ],
   "source": [
    "ANS 5 Yes python is interpreted or complied language because programming code is first converted into bytecode which is known as compilation, then it is executed by the virtual machine."
   ]
  },
  {
   "cell_type": "code",
   "execution_count": null,
   "id": "2da756a5-2b68-4972-8676-ff772da397aa",
   "metadata": {},
   "outputs": [],
   "source": [
    "ANS 6 "
   ]
  },
  {
   "cell_type": "code",
   "execution_count": null,
   "id": "c8d73fdf-3247-453b-a18f-d33d9eb95d1a",
   "metadata": {},
   "outputs": [],
   "source": [
    "ANS 7 (#) it is the single character used to give comments"
   ]
  },
  {
   "cell_type": "code",
   "execution_count": 7,
   "id": "e83406e8-9926-48ff-83aa-3edfabb27bc6",
   "metadata": {},
   "outputs": [
    {
     "data": {
      "text/plain": [
       "'ANS 8 sys.verison is the function which help us to find current version of python on which we are currently working.'"
      ]
     },
     "execution_count": 7,
     "metadata": {},
     "output_type": "execute_result"
    }
   ],
   "source": [
    "ANS 8 sys.verison is the function which help us to find current version of python on which we are currently working."
   ]
  },
  {
   "cell_type": "code",
   "execution_count": null,
   "id": "ddf481de-406c-4173-9558-a7b57fcd7348",
   "metadata": {},
   "outputs": [],
   "source": [
    "ANS 9 lambda"
   ]
  },
  {
   "cell_type": "code",
   "execution_count": null,
   "id": "8dffebef-71b5-4a1a-96cc-dab8e9d4f10e",
   "metadata": {},
   "outputs": [],
   "source": [
    "ANS 10 pip stands for pip install packages."
   ]
  },
  {
   "cell_type": "code",
   "execution_count": null,
   "id": "2ad434e1-db5f-43ed-9084-1dd0b92c5bd3",
   "metadata": {},
   "outputs": [],
   "source": [
    "ANS 11 len, type, print, if, def are some of the built in functions in python."
   ]
  },
  {
   "cell_type": "code",
   "execution_count": null,
   "id": "be9e1749-660b-4848-89a2-93e74a336a09",
   "metadata": {},
   "outputs": [],
   "source": [
    "ANS 12 an identifier can have maximum length of 79 charcters."
   ]
  },
  {
   "cell_type": "code",
   "execution_count": null,
   "id": "49f4ef95-db3d-4396-9516-c1c22848b61b",
   "metadata": {},
   "outputs": [],
   "source": [
    "ANS 13 large developer community, extensive libraries, write less do more, wide range of uses,\n",
    "can develop websites and software, data analysis and visualization can be done."
   ]
  },
  {
   "cell_type": "code",
   "execution_count": null,
   "id": "44cc2d31-c4bc-48b6-8459-773959aede53",
   "metadata": {},
   "outputs": [],
   "source": [
    "ANS 14 there is a private heap that contain all data and object structures, and \n",
    "this private heap managed internally by python memmory manager"
   ]
  },
  {
   "cell_type": "code",
   "execution_count": null,
   "id": "d58da4b9-f82d-4791-9c68-1b9d2ddfbf73",
   "metadata": {},
   "outputs": [],
   "source": [
    "ANS 15 "
   ]
  },
  {
   "cell_type": "code",
   "execution_count": null,
   "id": "dc2b8aca-54f1-432f-baca-3ccca60698bb",
   "metadata": {},
   "outputs": [],
   "source": [
    "ANS 16 yes, indendation is required in python."
   ]
  }
 ],
 "metadata": {
  "kernelspec": {
   "display_name": "Python 3 (ipykernel)",
   "language": "python",
   "name": "python3"
  },
  "language_info": {
   "codemirror_mode": {
    "name": "ipython",
    "version": 3
   },
   "file_extension": ".py",
   "mimetype": "text/x-python",
   "name": "python",
   "nbconvert_exporter": "python",
   "pygments_lexer": "ipython3",
   "version": "3.10.8"
  }
 },
 "nbformat": 4,
 "nbformat_minor": 5
}
