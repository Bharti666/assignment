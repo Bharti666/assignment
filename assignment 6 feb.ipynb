{
 "cells": [
  {
   "cell_type": "code",
   "execution_count": 1,
   "id": "f40555e0-466b-4300-8965-3dbbc58e9018",
   "metadata": {},
   "outputs": [
    {
     "name": "stdout",
     "output_type": "stream",
     "text": [
      "[1, 2, 3, 4, 44, 55, 66, True, False, 34, 56, 78, 89, 34, 1, 2, 3, 1, 34, 'key2', 55, 67, 78, 89, 4, 45, 22, 61, 34, 56, 'data science', 'Machine Learning']\n",
      "4134711838987085478833841242112000\n"
     ]
    }
   ],
   "source": [
    "#ANS1\n",
    "list1 = [1,2,3,4, [44,55,66, True], False, (34,56,78,89,34), {1,2,3,3,2,1}, {1:34, \"key2\": [55, 67, 78, 89], 4: (45,\n",
    "22, 61, 34)}, [56, 'data science'], 'Machine Learning']\n",
    "\n",
    "def flatlist(list1):\n",
    "    flist = []\n",
    "    for i in list1:\n",
    "        if type(i)==list or type(i)==tuple or type(i)==set:\n",
    "            for element in i:\n",
    "                flist.append(element)\n",
    "        elif type(i)==dict:\n",
    "            temp_list = list(i.items())\n",
    "            for i in temp_list:\n",
    "                for element in i:\n",
    "                    if type(element)==list or type(element)==tuple:\n",
    "                        for j in element:\n",
    "                            flist.append(j)\n",
    "                    else:\n",
    "                        flist.append(element)\n",
    "        else:\n",
    "             flist.append(i)\n",
    "    return flist\n",
    "list2 = flatlist(list1)\n",
    "print(list2)\n",
    "a = 1\n",
    "for i in list2:\n",
    "    if type(i)==int:\n",
    "        a = a*i\n",
    "print(a)"
   ]
  },
  {
   "cell_type": "code",
   "execution_count": 2,
   "id": "4d06027b-e41e-447f-860a-728ba62ed737",
   "metadata": {},
   "outputs": [
    {
     "name": "stdout",
     "output_type": "stream",
     "text": [
      "r$dzmg$gl$yvxlnv$z$wzgz$hxrvmgrhg\n"
     ]
    }
   ],
   "source": [
    "#ANS2\n",
    "\n",
    "\n",
    "data =  'I want to become a Data Scientist.'\n",
    "data1 = data.lower()\n",
    "la = 'abcdefghijklmnopqrstuvwxyz'\n",
    "ua = 'ABCDEFGHIJKLMNOPQRSTUVWXYZ'\n",
    "#pa = ' '\n",
    "rla = la[::-1]\n",
    "lua = ua[::-1]\n",
    "\n",
    "encoded_string = ''\n",
    "for i in range(0,len(data1)):\n",
    "               if data1[i] in la:\n",
    "                   encoded_string = encoded_string+rla[la.index(data1[i])]\n",
    "               elif data1[i] in ua:\n",
    "                   encoded_string = encoded_string+lua[ua.index(data1[i])]\n",
    "               elif data1[i] == ' ':\n",
    "                   encoded_string = encoded_string+(data1[i].replace(' ','$'))\n",
    "                    \n",
    "print(encoded_string)"
   ]
  },
  {
   "cell_type": "code",
   "execution_count": null,
   "id": "e67f4b0d-052f-4559-804a-4f79181e4a65",
   "metadata": {},
   "outputs": [],
   "source": []
  }
 ],
 "metadata": {
  "kernelspec": {
   "display_name": "Python 3 (ipykernel)",
   "language": "python",
   "name": "python3"
  },
  "language_info": {
   "codemirror_mode": {
    "name": "ipython",
    "version": 3
   },
   "file_extension": ".py",
   "mimetype": "text/x-python",
   "name": "python",
   "nbconvert_exporter": "python",
   "pygments_lexer": "ipython3",
   "version": "3.10.8"
  }
 },
 "nbformat": 4,
 "nbformat_minor": 5
}
