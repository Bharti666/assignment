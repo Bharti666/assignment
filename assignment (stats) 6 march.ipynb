{
 "cells": [
  {
   "cell_type": "code",
   "execution_count": null,
   "id": "bde71b11-68be-4cf5-9cf3-83755473d98b",
   "metadata": {},
   "outputs": [],
   "source": [
    "ANS1 \n",
    "Statistics is a scientific study of data collection, organising and anlysing."
   ]
  },
  {
   "cell_type": "code",
   "execution_count": null,
   "id": "ba9d443e-a60b-4f91-82b1-9c41fc46edc3",
   "metadata": {},
   "outputs": [],
   "source": [
    "ANS2 \n",
    "There are two types of statistics: 1. Descriptive and 2. inferential statistics:\n",
    "descriptive includes oraganising and summarising data, where as inferential statistics includes drawing conclusion from a given data.\n",
    "descriptive can be used when we have to find something like central tendency(mean,mode,median) and inferential can be used if we have \n",
    "to find or test a hypothesis,(are our result is same as expected one?)"
   ]
  },
  {
   "cell_type": "code",
   "execution_count": null,
   "id": "f9d76ac8-ed9b-43cd-afbe-b845ed42589b",
   "metadata": {},
   "outputs": [],
   "source": [
    "ANS3 \n",
    "There are two main types of data, qualitative and quantitative. quantitative data is again of two types\n",
    "discrete and continous, whereas ordinal and nominal are again two types of qualitative data. \n",
    "quantitative are numerical types of data\n",
    "like height and weight, whereas qualitative data does not include any numerical value."
   ]
  },
  {
   "cell_type": "code",
   "execution_count": null,
   "id": "b07f194d-99ac-4c6a-a1bd-36b82060a248",
   "metadata": {},
   "outputs": [],
   "source": [
    "ANS4 1. qualitative\n",
    "2. qualitative\n",
    "3. quantitative\n",
    "4. quantitative"
   ]
  },
  {
   "cell_type": "code",
   "execution_count": null,
   "id": "5a0da3f1-8081-46e8-b25b-4eaf25d97661",
   "metadata": {},
   "outputs": [],
   "source": [
    "ANS5 \n",
    "level of measurement is a classification system that relates the values that are assigned to \n",
    "variables with each other. there are four level of management: \n",
    "nominal, ordinal, interval and ratio.\n",
    "nominal does not arrange data on the basis of rank or order,Nominal Level. example: Gender (e.g., male, female)\n",
    "\n",
    "Ordinal variables represent categories with a natural order or ranking.\n",
    "The differences between categories may not be equal or quantifiable.\n",
    "Examples:Educational attainment (e.g., high school, bachelors degree, masters degree)\n",
    "\n",
    "Interval variables have a numerical scale where the differences between values are meaningful and equal.\n",
    "However, they lack a true zero point or absolute reference. example is tempearture in celcius or farenheit.\n",
    "\n",
    "Ratio Level:Ratio variables possess all the characteristics of interval variables along with a true zero point.\n",
    "\n"
   ]
  },
  {
   "cell_type": "code",
   "execution_count": null,
   "id": "f3e2c1fa-842f-4e31-a81c-b4decdeafd3d",
   "metadata": {},
   "outputs": [],
   "source": [
    "ANS 6\n",
    "Understanding the level of measurement of variables is important when analyzing data because it determines the \n",
    "appropriate statistical techniques and operations that can be applied to the data. Different levels of measurement \n",
    "have different properties and constraints, and using an inappropriate statistical method can lead to incorrect interpretations \n",
    "and flawed analyses. \n",
    "\n",
    "Gender (Nominal): Male or Female\n",
    "If we want to compare the average height between male and female students, we need to consider the level of measurement.\n",
    "Since gender is a nominal variable, we cannot directly calculate means or perform a t-test. Instead, we should use a nonparametric\n",
    "test like the Mann-Whitney U test or chi-square test to assess if there is a significant difference in height between genders.\n",
    "\n",
    "However, if we mistakenly treat gender as an interval or ratio variable and apply a t-test or calculate means, it would be an \n",
    "incorrect analysis that does not account for the nature of the variable. This could lead to erroneous conclusions and misinterpretations."
   ]
  },
  {
   "cell_type": "code",
   "execution_count": null,
   "id": "534f59eb-cde2-4487-a207-4714d4dcf68c",
   "metadata": {},
   "outputs": [],
   "source": [
    "ANS7\n",
    "Nominal Data:\n",
    "\n",
    "Nominal data represents categories without any inherent order or ranking.Examples of nominal data include gender (male, female),\n",
    "eye color (blue, brown, green), or car models (Toyota, Ford, Honda).\n",
    "Nominal data can be represented using labels, codes, or names.\n",
    "\n",
    "Ordinal Data:\n",
    "\n",
    "Ordinal data represents categories with a natural order or ranking.\n",
    "The categories have a relative positioning indicating more or less of a certain characteristic. \n",
    "e.g., Likert scale: strongly agree, agree, neutral, disagree, strongly disagree.\n",
    "\n"
   ]
  },
  {
   "cell_type": "code",
   "execution_count": null,
   "id": "c7dcb111-e76c-4490-8476-1bb706478e72",
   "metadata": {},
   "outputs": [],
   "source": [
    "#And"
   ]
  },
  {
   "cell_type": "code",
   "execution_count": null,
   "id": "d97164ce-a64d-461e-8f33-2515c3d5048a",
   "metadata": {},
   "outputs": [],
   "source": [
    "ANS 9\n",
    "Descriptive statistics - this is used to describe, organise and summarise data.\n",
    "it describe the characteristics of sample, result in the form of graph, charts and tables. \n",
    "here we do measures of central tendecy and varaiblity.\n",
    "whereas inferential stats draws conclusion and make comparison, it result in form of probability scorse.\n",
    "here we do hypothesis testing and regression analysis."
   ]
  },
  {
   "cell_type": "code",
   "execution_count": null,
   "id": "5ddd1348-42c6-40c0-92db-2e1a61e195a9",
   "metadata": {},
   "outputs": [],
   "source": [
    "ANS 10\n",
    "There are three measures of central tendency- mean, mode and median. \n",
    "means is defines as average of given dataset, it is find out by dividing sum of all data with total number of data.\n",
    "mode is defined as maximum occurene of a particular value in given data.\n",
    "median is the middle value of dataset.\n",
    "\n",
    "Different measures of varibality are range, standard deviation and varinace.\n",
    "Range - it is defined as the difference of maximum and minimum value of given dataset. and it tells to what extent data is present.\n",
    "standard deviation tells how much our data is devaited from mean value.\n",
    "and same variance tells how much variance is present in our data.\n"
   ]
  }
 ],
 "metadata": {
  "kernelspec": {
   "display_name": "Python 3 (ipykernel)",
   "language": "python",
   "name": "python3"
  },
  "language_info": {
   "codemirror_mode": {
    "name": "ipython",
    "version": 3
   },
   "file_extension": ".py",
   "mimetype": "text/x-python",
   "name": "python",
   "nbconvert_exporter": "python",
   "pygments_lexer": "ipython3",
   "version": "3.10.8"
  }
 },
 "nbformat": 4,
 "nbformat_minor": 5
}
