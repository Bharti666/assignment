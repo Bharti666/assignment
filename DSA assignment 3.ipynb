{
 "cells": [
  {
   "cell_type": "code",
   "execution_count": 1,
   "id": "23db5b81-e4e1-414b-b59c-2e8221c4c05d",
   "metadata": {},
   "outputs": [
    {
     "name": "stdout",
     "output_type": "stream",
     "text": [
      "Closest sum: 2\n"
     ]
    }
   ],
   "source": [
    "#ANS1\n",
    "def three_sum_closest(nums, target):\n",
    "    nums.sort()\n",
    "    n = len(nums)\n",
    "    closest_sum = float('inf')\n",
    "\n",
    "    for i in range(n - 2):\n",
    "        left = i + 1\n",
    "        right = n - 1\n",
    "\n",
    "        while left < right:\n",
    "            current_sum = nums[i] + nums[left] + nums[right]\n",
    "\n",
    "            if abs(current_sum - target) < abs(closest_sum - target):\n",
    "                closest_sum = current_sum\n",
    "\n",
    "            if current_sum < target:\n",
    "                left += 1\n",
    "            elif current_sum > target:\n",
    "                right -= 1\n",
    "            else:\n",
    "                return target\n",
    "\n",
    "    return closest_sum\n",
    "\n",
    "\n",
    "# Test the function\n",
    "nums = [-1, 2, 1, -4]\n",
    "target = 1\n",
    "result = three_sum_closest(nums, target)\n",
    "print(\"Closest sum:\", result)\n"
   ]
  },
  {
   "cell_type": "code",
   "execution_count": 2,
   "id": "fd804530-6925-46ab-a443-1951d01b49df",
   "metadata": {},
   "outputs": [
    {
     "name": "stdout",
     "output_type": "stream",
     "text": [
      "Quadruplets: [[-2, -1, 1, 2], [-2, 0, 0, 2], [-1, 0, 0, 1]]\n"
     ]
    }
   ],
   "source": [
    "#ANS2\n",
    "def four_sum(nums, target):\n",
    "    results = []\n",
    "    nums.sort()\n",
    "    n = len(nums)\n",
    "\n",
    "    def backtrack(start, target_sum, current_result):\n",
    "        if len(current_result) == 4:\n",
    "            if target_sum == 0:\n",
    "                results.append(current_result[:])\n",
    "            return\n",
    "\n",
    "        for i in range(start, n):\n",
    "            if i > start and nums[i] == nums[i - 1]:\n",
    "                continue\n",
    "\n",
    "            if target_sum < 0:\n",
    "                break\n",
    "\n",
    "            current_result.append(nums[i])\n",
    "            backtrack(i + 1, target_sum - nums[i], current_result)\n",
    "            current_result.pop()\n",
    "\n",
    "    backtrack(0, target, [])\n",
    "\n",
    "    return results\n",
    "\n",
    "\n",
    "# Test the function\n",
    "nums = [1, 0, -1, 0, -2, 2]\n",
    "target = 0\n",
    "result = four_sum(nums, target)\n",
    "print(\"Quadruplets:\", result)\n"
   ]
  },
  {
   "cell_type": "code",
   "execution_count": 3,
   "id": "3b192b57-943c-4e00-91d6-3c67a680474b",
   "metadata": {},
   "outputs": [
    {
     "name": "stdout",
     "output_type": "stream",
     "text": [
      "Next permutation: [1, 3, 2]\n"
     ]
    }
   ],
   "source": [
    "#ANS3\n",
    "def next_permutation(nums):\n",
    "    n = len(nums)\n",
    "    i = n - 2\n",
    "\n",
    "    # Find the first decreasing pair from the right\n",
    "    while i >= 0 and nums[i] >= nums[i + 1]:\n",
    "        i -= 1\n",
    "\n",
    "    if i >= 0:\n",
    "        j = n - 1\n",
    "\n",
    "        # Find the smallest element in the right subarray that is greater than nums[i]\n",
    "        while nums[j] <= nums[i]:\n",
    "            j -= 1\n",
    "\n",
    "        # Swap nums[i] and nums[j]\n",
    "        nums[i], nums[j] = nums[j], nums[i]\n",
    "\n",
    "    # Reverse the subarray to the right of index i\n",
    "    left = i + 1\n",
    "    right = n - 1\n",
    "\n",
    "    while left < right:\n",
    "        nums[left], nums[right] = nums[right], nums[left]\n",
    "        left += 1\n",
    "        right -= 1\n",
    "\n",
    "\n",
    "# Test the function\n",
    "nums = [1, 2, 3]\n",
    "next_permutation(nums)\n",
    "print(\"Next permutation:\", nums)\n"
   ]
  },
  {
   "cell_type": "code",
   "execution_count": 4,
   "id": "d440012a-a6b3-4741-9f6f-75fef6ce3fdf",
   "metadata": {},
   "outputs": [
    {
     "name": "stdout",
     "output_type": "stream",
     "text": [
      "Index: 2\n"
     ]
    }
   ],
   "source": [
    "#ANS4\n",
    "def search_insert(nums, target):\n",
    "    left = 0\n",
    "    right = len(nums) - 1\n",
    "\n",
    "    while left <= right:\n",
    "        mid = left + (right - left) // 2\n",
    "\n",
    "        if nums[mid] == target:\n",
    "            return mid\n",
    "        elif nums[mid] < target:\n",
    "            left = mid + 1\n",
    "        else:\n",
    "            right = mid - 1\n",
    "\n",
    "    return left\n",
    "\n",
    "\n",
    "# Test the function\n",
    "nums = [1, 3, 5, 6]\n",
    "target = 5\n",
    "result = search_insert(nums, target)\n",
    "print(\"Index:\", result)\n"
   ]
  },
  {
   "cell_type": "code",
   "execution_count": 5,
   "id": "73cdf64d-30c6-4885-a066-a187d39909d4",
   "metadata": {},
   "outputs": [
    {
     "name": "stdout",
     "output_type": "stream",
     "text": [
      "Result: [1, 2, 4]\n"
     ]
    }
   ],
   "source": [
    "#ANS5\n",
    "def plus_one(digits):\n",
    "    n = len(digits)\n",
    "\n",
    "    # Traverse the array from right to left\n",
    "    for i in range(n - 1, -1, -1):\n",
    "        # If the digit is less than 9, increment it by one and return the modified array\n",
    "        if digits[i] < 9:\n",
    "            digits[i] += 1\n",
    "            return digits\n",
    "        else:\n",
    "            # If the digit is 9, set it to 0 and continue to the next digit\n",
    "            digits[i] = 0\n",
    "\n",
    "    # If all digits are 9, add a leading 1 and append a 0 to the end\n",
    "    return [1] + digits\n",
    "\n",
    "\n",
    "# Test the function\n",
    "digits = [1, 2, 3]\n",
    "result = plus_one(digits)\n",
    "print(\"Result:\", result)\n"
   ]
  },
  {
   "cell_type": "code",
   "execution_count": 6,
   "id": "7746e4dc-3326-4e44-a37f-7e384eb1d3b7",
   "metadata": {},
   "outputs": [
    {
     "name": "stdout",
     "output_type": "stream",
     "text": [
      "Single number: 1\n"
     ]
    }
   ],
   "source": [
    "#ANS6\n",
    "def single_number(nums):\n",
    "    result = 0\n",
    "    for num in nums:\n",
    "        result ^= num\n",
    "    return result\n",
    "\n",
    "\n",
    "# Test the function\n",
    "nums = [2, 2, 1]\n",
    "result = single_number(nums)\n",
    "print(\"Single number:\", result)\n"
   ]
  },
  {
   "cell_type": "code",
   "execution_count": 7,
   "id": "1e1cf042-f34f-483c-ae3a-dd871b291036",
   "metadata": {},
   "outputs": [
    {
     "name": "stdout",
     "output_type": "stream",
     "text": [
      "Missing ranges: ['2', '4->49', '51->74', '76->99']\n"
     ]
    }
   ],
   "source": [
    "#ANS7\n",
    "def find_missing_ranges(nums, lower, upper):\n",
    "    missing_ranges = []\n",
    "\n",
    "    # Helper function to add a range to the missing_ranges list\n",
    "    def add_range(start, end):\n",
    "        if start == end:\n",
    "            missing_ranges.append(str(start))\n",
    "        else:\n",
    "            missing_ranges.append(str(start) + \"->\" + str(end))\n",
    "\n",
    "    # Check the missing ranges between lower and the first element in nums\n",
    "    if nums[0] != lower:\n",
    "        add_range(lower, nums[0] - 1)\n",
    "\n",
    "    # Check the missing ranges between elements in nums\n",
    "    for i in range(len(nums) - 1):\n",
    "        if nums[i + 1] != nums[i] + 1:\n",
    "            add_range(nums[i] + 1, nums[i + 1] - 1)\n",
    "\n",
    "    # Check the missing ranges between the last element in nums and upper\n",
    "    if nums[-1] != upper:\n",
    "        add_range(nums[-1] + 1, upper)\n",
    "\n",
    "    return missing_ranges\n",
    "\n",
    "\n",
    "# Test the function\n",
    "nums = [0, 1, 3, 50, 75]\n",
    "lower = 0\n",
    "upper = 99\n",
    "result = find_missing_ranges(nums, lower, upper)\n",
    "print(\"Missing ranges:\", result)\n"
   ]
  },
  {
   "cell_type": "code",
   "execution_count": null,
   "id": "d18f331c-df8b-49a4-9097-1cdb6e9c43ff",
   "metadata": {},
   "outputs": [],
   "source": [
    "#ANS8\n",
    "def can_attend_all_meetings(intervals):\n",
    "    # Sort the intervals based on the start time\n",
    "    intervals.sort(key=lambda x: x[0])\n",
    "\n",
    "    # Check for overlap between consecutive intervals\n",
    "    for i in range(1, len(intervals)):\n",
    "        if intervals[i][0] < intervals[i-1][1]:\n",
    "            return False\n",
    "\n",
    "    return True\n",
    "\n",
    "\n",
    "# Test the function\n",
    "intervals = [[0, 30], [5, 10], [15, 20]]\n",
    "result = can_attend_all_meetings(intervals)\n",
    "print(\"Can attend all meetings:\", result)\n"
   ]
  },
  {
   "cell_type": "code",
   "execution_count": null,
   "id": "eb6f57eb-a905-41a5-a1c7-8aea20791d86",
   "metadata": {},
   "outputs": [],
   "source": []
  }
 ],
 "metadata": {
  "kernelspec": {
   "display_name": "Python 3 (ipykernel)",
   "language": "python",
   "name": "python3"
  },
  "language_info": {
   "codemirror_mode": {
    "name": "ipython",
    "version": 3
   },
   "file_extension": ".py",
   "mimetype": "text/x-python",
   "name": "python",
   "nbconvert_exporter": "python",
   "pygments_lexer": "ipython3",
   "version": "3.10.8"
  }
 },
 "nbformat": 4,
 "nbformat_minor": 5
}
