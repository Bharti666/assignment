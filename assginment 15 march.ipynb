{
 "cells": [
  {
   "cell_type": "code",
   "execution_count": null,
   "id": "fbaf9e87-4c7c-48a9-8fd5-8b0bd3105167",
   "metadata": {},
   "outputs": [],
   "source": [
    "ANS1 \n",
    "(i) Aritificial intelligence is a branch of science which deals with such applications which perform their task\n",
    "without human assistance. it is a field which combines computer science adn robust dataset to enable problem solving.\n",
    "it eccompasses various fields such as machine learning, deep learning and data science.\n",
    "\n",
    "(ii) machine learning is a type of artificial intelligence in which we use various algorithms to\n",
    "build mathematical models, and do forecasting. Machine learning is mainly concerned with the development of algorithms whihc \n",
    "allow a machine or computer to learn from data and past experiences.\n",
    "\n",
    "(iii) Deep learning - Deep learning can be defined as the subset of machine learning which process the data in a way as human brain\n",
    "we can say that it mimics the human brain"
   ]
  },
  {
   "cell_type": "code",
   "execution_count": null,
   "id": "9f5f50a2-ad08-416d-9174-be9c0ddbe228",
   "metadata": {},
   "outputs": [],
   "source": [
    "ANS2\n",
    "Supervised learning is a type of machine learning in which we know both input and output. In supervised machine learning \n",
    "we train machines by using both labelled data which predict output.\n",
    "examples of supervised machine learning are - predicting weather, price of house."
   ]
  },
  {
   "cell_type": "code",
   "execution_count": null,
   "id": "34fe85cc-63c1-4915-a51f-329f7e3b6b63",
   "metadata": {},
   "outputs": [],
   "source": [
    "ANS3\n",
    "Unsupervised machine learning is also a type of machine learning in which we cannot predict the output. \n",
    "In this type of machine learning we categories data into different segments. here we use unlabelled data which is required to \n",
    "analyze and find pattern. like it can be used where shopkeeper wants to increase revenue. "
   ]
  },
  {
   "cell_type": "code",
   "execution_count": null,
   "id": "7e24614d-bb7b-4431-8d6d-5870fbf3eda3",
   "metadata": {},
   "outputs": [],
   "source": [
    "ANS4 \n",
    "Difference between ai,ml,dl,ds.\n",
    "ML is a subset of AI, DL is subset of ML and data science is used in all of these fields.\n",
    "AI enables machine to think, understand and make decision on the basis of some patterns hidden inside data, and it would make\n",
    "inferences without human assistance. such as robots, alexa etc.\n",
    "\n",
    "ML use various stats tools to analyze data, and it used various techines such as supervised and unsupervised etc.\n",
    "\n",
    "DL - the main idea of dl is to make machine learning by mimicking human brain. here we create multin\n",
    "\n",
    "DS - \n"
   ]
  },
  {
   "cell_type": "code",
   "execution_count": null,
   "id": "2265ccf5-1ee2-42a9-9e73-3332eb0b27ca",
   "metadata": {},
   "outputs": [],
   "source": [
    "ANS5 \n",
    "Supevised machine learning we use labelled data which helps in predicting output, but in unsupervised machine learning\n",
    "we do not use labelled data, and here we categorise data into various groups of segments and semisupervised machine \n",
    "learning uses both supervised and unsupervised type.\n",
    "\n"
   ]
  },
  {
   "cell_type": "code",
   "execution_count": null,
   "id": "e7c4181a-71e6-429a-8c0e-db95b24a36d2",
   "metadata": {},
   "outputs": [],
   "source": [
    "ANS6\n",
    "In supervised machine learning we split data into three types - train data, test and validate data.\n",
    "with the help of training data we train our model, whereas with the help of validate data we validate our model while training\n",
    "and with the help of test data we test our model "
   ]
  },
  {
   "cell_type": "code",
   "execution_count": null,
   "id": "b1872237-9e16-4e4a-9806-22471bf69dd5",
   "metadata": {},
   "outputs": [],
   "source": [
    "ANS7 With the help of supervised machine learning we can detect anomaly, here we divide data into \n",
    "two types - normal and abnormal now patterns of these data will be studied by model and hence it can extract the anomalous \n",
    "pattern in unseen new data."
   ]
  },
  {
   "cell_type": "code",
   "execution_count": null,
   "id": "69679ebd-ccd4-42b3-9654-7b0f6f759eb7",
   "metadata": {},
   "outputs": [],
   "source": [
    "ANS8\n",
    "The most commonly used Supervised Learning algorithms are \n",
    "decision tree, logistic regression, linear regression, support vector machine.\n",
    " \n",
    "and  k-means clustering, hierarchical clustering, and apriori algorithm are most commonly used \n",
    "unsupervised machine learning algorithms."
   ]
  }
 ],
 "metadata": {
  "kernelspec": {
   "display_name": "Python 3 (ipykernel)",
   "language": "python",
   "name": "python3"
  },
  "language_info": {
   "codemirror_mode": {
    "name": "ipython",
    "version": 3
   },
   "file_extension": ".py",
   "mimetype": "text/x-python",
   "name": "python",
   "nbconvert_exporter": "python",
   "pygments_lexer": "ipython3",
   "version": "3.10.8"
  }
 },
 "nbformat": 4,
 "nbformat_minor": 5
}
