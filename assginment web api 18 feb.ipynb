{
 "cells": [
  {
   "cell_type": "code",
   "execution_count": null,
   "id": "57dd2c22-3f2e-4bdd-937c-5fbf9b4b6ecd",
   "metadata": {},
   "outputs": [],
   "source": [
    "#ANS1\n",
    "\n",
    "API stands for application programming interface. api seto of  protocols or rules that allows different application to c\n",
    "communicate over the internet. As different applications may be written in different languages, so api provides an interface \n",
    "for these applications to communicate. \n",
    "for example- if we want to find weather of a particular city, we fill location of the city on our weather app then it sends \n",
    "an http request to centrally based server which stores data. now this server do processing and then retrieve weather information of mentioned city\n",
    "then this an api response to the client.\n",
    "\n",
    "this is how api works.\n"
   ]
  },
  {
   "cell_type": "code",
   "execution_count": null,
   "id": "247196a1-138c-4e0b-9ae4-6c227d0115b1",
   "metadata": {},
   "outputs": [],
   "source": [
    "#ANS2\n",
    "\n",
    "there are several advantages as well as disadvantes using api\n",
    "advantages:\n",
    "1. it is efficeint and time saving- it provides pre built funcitonalites or data sources. this saves both time and effort.\n",
    "2. it allows access to data and services- As we have seen in the previous question we can retrive data from various sources.\n",
    "3. it allows users to enhanced functionalities.\n",
    "\n",
    "some of the disadvantages of api is given bolow:\n",
    "1. Dependency on external sources- if applications are highly dpendent on the web api, they become dependent on external services. \n",
    "2. there are security and privacy concerns\n",
    "3. lack of control"
   ]
  },
  {
   "cell_type": "code",
   "execution_count": null,
   "id": "2b446dae-2954-42cb-bba7-bd7e2161d99c",
   "metadata": {},
   "outputs": [],
   "source": [
    "#ANS3\n",
    "\n",
    "Web api- it is a specific type of api, that uses specific types of protocols and rules and allow different web applications \n",
    "to communicate and exchange data.\n",
    "the diffenrence in api and web api is based on the protocols they use. they use different types of protocols.\n",
    "web api is specifically uses http protocols. it is desinged to access the informations or datas using web protocols.it operates over the internet and \n",
    "uses urls to share or transfer information.\n",
    "\n",
    "in short we can say api is a general concept where web api is speciifc implementation of api.\n"
   ]
  },
  {
   "cell_type": "code",
   "execution_count": null,
   "id": "18899925-acec-4ad0-862d-8c0c0e8bdb5f",
   "metadata": {},
   "outputs": [],
   "source": [
    "#ANS4\n",
    "rest architeture- it stands for representaional state transfer.\n",
    "it is light weight, more reliable and works on the protocols of web. RESTful architecture follows a simpler approach, \n",
    "focusing on the resources (e.g., data or services) that applications expose on the web.\n",
    "it follows certain principles.\n",
    "1. client server architecture- there are separte clients and server.\n",
    "2. stateless- the reques sent to server contain all the information required to complete the task. the server does not depend on the previous\n",
    "request or any information. \n",
    "3. cahceable- response from the sever can be cached to imporve performance\n",
    "4. it uses multilayer system to allow salcalbility, accessilbity and security.\n",
    "\n",
    "\n",
    "soap architeture\n",
    "SOAP is an architecture that defines a set of rules and protocols for communication between software applications.\n",
    "Think of it as a structured and formal way of sending information between different systems. \n",
    "they are designed for server to server connections\n",
    "It is like following a detailed instruction manual when interacting with another person or system.\n",
    "the main disadvantage of soap architeture is it is heavy weight and complicated.\n",
    "they have slow performace. \n",
    "they lack human readibility.\n",
    "there is limited browser support."
   ]
  },
  {
   "cell_type": "code",
   "execution_count": null,
   "id": "9e9f73e3-4260-4e96-bc5d-28b4a04087b7",
   "metadata": {},
   "outputs": [],
   "source": [
    "#ANS5\n",
    "\n",
    "Diffenrece between rest and soap\n",
    "rest is lightweight whereas soap is heavy weight\n",
    "rest has  simple whereas soap is complex architeture\n",
    "res"
   ]
  },
  {
   "cell_type": "code",
   "execution_count": null,
   "id": "789c8e68-e2e0-4b45-a3a7-c826baf51697",
   "metadata": {},
   "outputs": [],
   "source": []
  }
 ],
 "metadata": {
  "kernelspec": {
   "display_name": "Python 3 (ipykernel)",
   "language": "python",
   "name": "python3"
  },
  "language_info": {
   "codemirror_mode": {
    "name": "ipython",
    "version": 3
   },
   "file_extension": ".py",
   "mimetype": "text/x-python",
   "name": "python",
   "nbconvert_exporter": "python",
   "pygments_lexer": "ipython3",
   "version": "3.10.8"
  }
 },
 "nbformat": 4,
 "nbformat_minor": 5
}
