{
 "cells": [
  {
   "cell_type": "code",
   "execution_count": null,
   "id": "d555d1df-a7ff-4924-bca9-df4ff1d03fbc",
   "metadata": {},
   "outputs": [],
   "source": [
    "#ANS1\n",
    "\n",
    "Decision tree classifier algorithm-\n",
    "It is an algorithm which is used to find output and train machine learning models. this algorithm is basically works \n",
    "on multinested if else condition. there is a root node from where our tree starts then this root node divides into further\n",
    "leaves nodes or deicision node based on certain conditions. \n",
    "leaf node is a node which has output only in one direction or we can say that it is a point or condition where probability of occuring\n",
    "one type of output is very high. this can also be said as pure output.\n",
    "decision node is a node which has unequal or impure output means we have almost equal chances of getting any answer.\n",
    "this node would keep on dividing until we got a leaf node.\n",
    "on getting leaf node our tree will stop.\n",
    "now to find which feature should be used as root node, for this we use information gain. the more information gain more will be chances of\n",
    "acting as root node. and information gain is find by entropy.\n",
    "entropy is nothing but measure of impurity.\n",
    "it is used to make predictions of unseen data with the use of this algorithm. now machine learns from test and train\n",
    "data that how splitting is occurs and also understands the pattern.\n",
    "when input data is given tree has been traversed from root node, and on getting to leaf node it predicts the targets."
   ]
  },
  {
   "cell_type": "code",
   "execution_count": null,
   "id": "7d2456ba-6cae-4e21-b0d9-ef147f0d5123",
   "metadata": {},
   "outputs": [],
   "source": [
    "#ANS2\n",
    "\n",
    "Mathematical intutuin behind decison tree classification:\n",
    "first we need to find information gain to decide which feature will act as root node.\n",
    "now to find informaiton gain we must know the entropy.\n",
    "the entropy can be find out by given method\n",
    "H(s) = -p1*logp1-p2*logp2\n",
    "where p1 is probability of positive outcomes and p2 is probability of negative outcomes\n",
    "\n",
    "now there is formula to find information gain:\n",
    "gain(S,f) = H(s)-sv/|s|*H\n",
    "where H(s) is entropy of root node and sv/s*H entropy mutliplied by probability of feature1 \n",
    "\n",
    "there is also one conept gini impurity used to measure of impurity."
   ]
  },
  {
   "cell_type": "code",
   "execution_count": null,
   "id": "9273584e-3b03-4bdf-b563-a81fcfa30939",
   "metadata": {},
   "outputs": [],
   "source": [
    "#ANS3\n",
    "A decision tree classifier can be used to solve binary classification problems.\n",
    "Decision tree classifier is a class of sklearn, which is used to train machines learning models.\n",
    "a tree like flow chart or hierachical structure is formed based on certain conditions and it shows possible outcomes.\n",
    "now based on information root node will be get selected, then this root node will divide into various decision nodes\n",
    "then these decision nodes also divides until they met a certain criteria i.e leaf node."
   ]
  },
  {
   "cell_type": "code",
   "execution_count": null,
   "id": "29757cf8-d1a0-4808-bab8-cf966faa4931",
   "metadata": {},
   "outputs": [],
   "source": [
    "#ANS4\n",
    "Geometric intuition of decision tree\n",
    "Initial Partitioning: At the root of the decision tree, the entire feature space represents the starting region.\n",
    "Feature Space Splitting: The decision tree algorithm selects the best attribute and a corresponding threshold value to split the \n",
    "feature space into two subsets. This split creates a decision boundary that separates the data points with different class labels.\n",
    "Recursive Splitting: The splitting process continues recursively for each subset\n",
    "Decision Boundaries: As the decision tree grows, multiple decision boundaries are formed within the feature space.\n",
    "Leaf Nodes and Regions: Eventually, the recursive splitting process stops when certain stopping criteria are met \n",
    "(e.g., maximum depth or minimum number of data points).\n",
    "To make predictions for new, unseen data points, the decision tree algorithm determines which region of the feature space the data point \n",
    "falls into. "
   ]
  },
  {
   "cell_type": "code",
   "execution_count": null,
   "id": "9f9e0da5-76ee-476e-864e-c9218aa28aea",
   "metadata": {},
   "outputs": [],
   "source": [
    "#ANS5\n",
    "confusion matrix is a tabular form of 2/2 which represent the counts of true negative,true positive,false negative\n",
    "false positive. this matrix is used to assess the performance of machine model.\n",
    "the upper part represent predicted values and side part presents actual value.\n",
    "postive is used for 1 outcome if outcome is 0 it is represent by negative.\n",
    "if predicted value is correct denoted by true else false\n",
    "now these are used to find accuracy,precision,recall,f1 score and specificity.\n",
    "accuracy= TP+TN/TN+TP+FN+FP, it represent overall correctness of the model. \n",
    "precision = it represent correctly predicted positive values out of all positive predicted values.(TP/TP+FP)\n",
    "recall - it represent correctly predicted positive values out of total positive values.(TP/TP+FN)\n",
    "specificity - it represents the correclty predicted negative instances out of total negative instances.(TN/TN+FP)\n",
    "accuracy tells overall accuracy of the model."
   ]
  },
  {
   "cell_type": "code",
   "execution_count": null,
   "id": "cb0bc10a-ce1e-4e52-b4e4-f4ed7d755126",
   "metadata": {},
   "outputs": [],
   "source": [
    "#ANS6\n",
    "Provide an example of a confusion matrix and explain how precision, recall, and F1 score can be\n",
    "calculated from it.\n",
    "\n",
    "let say- TN=10\n",
    "TP= 15\n",
    "FN= 8\n",
    "FP= 9\n",
    "accuracy= TP+TN/TN+TP+FN+FP, it represent overall correctness of the model. (10+15/42)=25/42=0.5 \n",
    "precision = it represent correctly predicted positive values out of all positive predicted values.(TP/TP+FP)=15/24=0.6\n",
    "recall - it represent correctly predicted positive values out of total positive values.(TP/TP+FN)=15/23\n",
    "specificity - it represents the correclty predicted negative instances out of total negative instances.(TN/TN+FP)=10/19\n",
    "f1 score = 2*precision*recall/(precision+recall)"
   ]
  },
  {
   "cell_type": "code",
   "execution_count": null,
   "id": "d9a87fde-4ca4-4221-8bfb-9140f9d915e4",
   "metadata": {},
   "outputs": [],
   "source": [
    "#ANS7\n",
    "To choose an appropriate evaluation metric, consider the following steps:\n",
    "\n",
    "Understand the problem: Gain a clear understanding of the problem domain, the nature of the data, and the \n",
    "importance of different types of errors (false positives vs. false negatives).\n",
    "\n",
    "Set the evaluation goal: Determine the specific aspect of the models performance that is most important for \n",
    "the problem. Is it overall accuracy, precision, recall, F1 score, or something else?\n",
    "\n",
    "Consider the data distribution: Examine the class distribution of the dataset. If it is imbalanced, metrics like \n",
    "precision, recall, and AUC-ROC may provide more meaningful insights.\n",
    "\n",
    "Stakeholder input: Seek input from stakeholders or domain experts who can provide insights into the relative importance of \n",
    "different types of errors and the desired performance goals."
   ]
  },
  {
   "cell_type": "code",
   "execution_count": null,
   "id": "db618398-f4b4-4b00-8305-1c809cea057e",
   "metadata": {},
   "outputs": [],
   "source": [
    "#ANS8\n",
    "There are many conditions where precison is priortized compared to all other metrices.\n",
    "it is priortized where we have to give importance to FP, means where output is falsely predicted. One of the example where we can see\n",
    "this type of conditon is fraud cases in bank. here fraud is 1, not fraud is 0. \n",
    "so, if any legitimate transaction is identified as fraud, then it would be Fp. and it need to be given more importance because,\n",
    "it may customer services, and may result in buisness loss."
   ]
  },
  {
   "cell_type": "code",
   "execution_count": null,
   "id": "96df80cc-9949-4bb3-9bae-71a48c5a4d11",
   "metadata": {},
   "outputs": [],
   "source": [
    "#ANS9\n",
    "Recall is more important in cases where we have to give importance to false negative cases, means positive cases\n",
    "are mistakenly identified as negative\n",
    "one of the case where we have to give priorty to false negative cases are- disease condition, if any person is having cancer and \n",
    "it is mistakenly identified as false negative means it shows patient does not have cancer, then it may worse the condittion. "
   ]
  }
 ],
 "metadata": {
  "kernelspec": {
   "display_name": "Python 3 (ipykernel)",
   "language": "python",
   "name": "python3"
  },
  "language_info": {
   "codemirror_mode": {
    "name": "ipython",
    "version": 3
   },
   "file_extension": ".py",
   "mimetype": "text/x-python",
   "name": "python",
   "nbconvert_exporter": "python",
   "pygments_lexer": "ipython3",
   "version": "3.10.8"
  }
 },
 "nbformat": 4,
 "nbformat_minor": 5
}
