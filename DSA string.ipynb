{
 "cells": [
  {
   "cell_type": "code",
   "execution_count": 1,
   "id": "532cd7fc-735d-4b4c-acdd-41c04d822dd3",
   "metadata": {},
   "outputs": [
    {
     "name": "stdout",
     "output_type": "stream",
     "text": [
      "True\n"
     ]
    }
   ],
   "source": [
    "#ANS1\n",
    "def is_isomorphic(s: str, t: str) -> bool:\n",
    "    if len(s) != len(t):\n",
    "        return False\n",
    "\n",
    "    s_map = {}\n",
    "    t_map = {}\n",
    "\n",
    "    for s_char, t_char in zip(s, t):\n",
    "        if s_char not in s_map and t_char not in t_map:\n",
    "            s_map[s_char] = t_char\n",
    "            t_map[t_char] = s_char\n",
    "        elif s_char in s_map and s_map[s_char] != t_char:\n",
    "            return False\n",
    "        elif t_char in t_map and t_map[t_char] != s_char:\n",
    "            return False\n",
    "\n",
    "    return True\n",
    "\n",
    "\n",
    "s = \"egg\"\n",
    "t = \"add\"\n",
    "print(is_isomorphic(s, t)) \n"
   ]
  },
  {
   "cell_type": "code",
   "execution_count": 2,
   "id": "2048d871-9e62-4c4a-ad9a-9a8e9a1fbfd2",
   "metadata": {},
   "outputs": [
    {
     "name": "stdout",
     "output_type": "stream",
     "text": [
      "False\n"
     ]
    }
   ],
   "source": [
    "#ANS2\n",
    "def is_strobogrammatic(num: str) -> bool:\n",
    "    left = 0\n",
    "    right = len(num) - 1\n",
    "\n",
    "    while left <= right:\n",
    "        if num[left] == num[right]:\n",
    "            if num[left] not in ('0', '1', '8'):\n",
    "                return False\n",
    "        elif (num[left] == '6' and num[right] != '9') or (num[left] == '9' and num[right] != '6'):\n",
    "            return False\n",
    "        else:\n",
    "            return False\n",
    "\n",
    "        left += 1\n",
    "        right -= 1\n",
    "\n",
    "    return True\n",
    "\n",
    "num = \"69\"\n",
    "print(is_strobogrammatic(num))\n"
   ]
  },
  {
   "cell_type": "code",
   "execution_count": 3,
   "id": "fb08f0ed-42cb-4a59-8be4-5db06209b72d",
   "metadata": {},
   "outputs": [
    {
     "name": "stdout",
     "output_type": "stream",
     "text": [
      "134\n"
     ]
    }
   ],
   "source": [
    "#ANS3\n",
    "def add_strings(num1: str, num2: str) -> str:\n",
    "    result = \"\"\n",
    "    i = len(num1) - 1\n",
    "    j = len(num2) - 1\n",
    "    carry = 0\n",
    "\n",
    "    while i >= 0 or j >= 0:\n",
    "        digit1 = int(num1[i]) if i >= 0 else 0\n",
    "        digit2 = int(num2[j]) if j >= 0 else 0\n",
    "\n",
    "        current_sum = digit1 + digit2 + carry\n",
    "        carry = current_sum // 10\n",
    "        current_sum %= 10\n",
    "\n",
    "        result += str(current_sum)\n",
    "\n",
    "        i -= 1\n",
    "        j -= 1\n",
    "\n",
    "    if carry:\n",
    "        result += str(carry)\n",
    "\n",
    "    return result[::-1]\n",
    "\n",
    "\n",
    "num1 = \"11\"\n",
    "num2 = \"123\"\n",
    "print(add_strings(num1, num2)) \n"
   ]
  },
  {
   "cell_type": "code",
   "execution_count": 4,
   "id": "a034c14c-b98f-45b1-bb35-eae4e290fb8f",
   "metadata": {},
   "outputs": [
    {
     "name": "stdout",
     "output_type": "stream",
     "text": [
      "s'teL ekat edoCteeL tsetnoc\n"
     ]
    }
   ],
   "source": [
    "#ANS4\n",
    "def reverse_words(s: str) -> str:\n",
    "    words = s.split()\n",
    "    reversed_words = [word[::-1] for word in words]\n",
    "    reversed_string = ' '.join(reversed_words)\n",
    "    return reversed_string\n",
    "\n",
    "\n",
    "s = \"Let's take LeetCode contest\"\n",
    "print(reverse_words(s)) \n"
   ]
  },
  {
   "cell_type": "code",
   "execution_count": null,
   "id": "2117b261-6959-4a96-b10e-09cb8154928d",
   "metadata": {},
   "outputs": [],
   "source": [
    "#ANS5\n",
    "def reverse_string(s: str, k: int) -> str:\n",
    "    result = \"\"\n",
    "    n = len(s)\n",
    "\n",
    "    for i in range(0, n, 2 * k):\n",
    "        result += s[i:i + k][::-1] + s[i + k:i + 2 * k]\n",
    "\n",
    "    return result\n",
    "\n",
    "# Example usage\n",
    "s = \"abcdefg\"\n",
    "k = 2\n",
    "print(reverse_string(s, k))  # Output: \"bacdfeg\"\n"
   ]
  }
 ],
 "metadata": {
  "kernelspec": {
   "display_name": "Python 3 (ipykernel)",
   "language": "python",
   "name": "python3"
  },
  "language_info": {
   "codemirror_mode": {
    "name": "ipython",
    "version": 3
   },
   "file_extension": ".py",
   "mimetype": "text/x-python",
   "name": "python",
   "nbconvert_exporter": "python",
   "pygments_lexer": "ipython3",
   "version": "3.10.8"
  }
 },
 "nbformat": 4,
 "nbformat_minor": 5
}
