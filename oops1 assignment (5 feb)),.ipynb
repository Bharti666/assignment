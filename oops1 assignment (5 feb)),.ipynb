{
 "cells": [
  {
   "cell_type": "code",
   "execution_count": null,
   "id": "3e629c46-a423-47f3-8717-75e6e9c9885e",
   "metadata": {},
   "outputs": [],
   "source": [
    "ANS1 class is a blue print or skeleton of a particular programe whereas Object is a real world entity.\n",
    "     for example car is a class, and various types of cars are objects such as bmw or some other cars.\n",
    "    "
   ]
  },
  {
   "cell_type": "code",
   "execution_count": null,
   "id": "7677989e-b34a-4680-916e-be344e2e370f",
   "metadata": {},
   "outputs": [],
   "source": [
    "ANS2 Four pillars of oops are:\n",
    "    1. Inheritance\n",
    "    2. Polymorphism\n",
    "    3. Abstraction\n",
    "    4. Encapsulation"
   ]
  },
  {
   "cell_type": "code",
   "execution_count": null,
   "id": "0c5e8704-b136-4ed2-9b6d-9b789fb13c25",
   "metadata": {},
   "outputs": [],
   "source": [
    "ANS3 init function is a constructor function which is used to alllow to take arguments by objects."
   ]
  },
  {
   "cell_type": "code",
   "execution_count": 7,
   "id": "7d52ee13-229e-40b4-9e4f-b103c231e408",
   "metadata": {},
   "outputs": [
    {
     "data": {
      "text/plain": [
       "('bmw', 675)"
      ]
     },
     "execution_count": 7,
     "metadata": {},
     "output_type": "execute_result"
    }
   ],
   "source": [
    "class car:\n",
    "    \n",
    "    def __init__(self,name,speed):\n",
    "        self.name = name\n",
    "        self.speed = speed\n",
    "        \n",
    "    def details(self):\n",
    "        return(self.name,self.speed)\n",
    "    \n",
    "obj = car('bmw',675)\n",
    "\n",
    "obj.details()\n",
    "        "
   ]
  },
  {
   "cell_type": "code",
   "execution_count": null,
   "id": "08279ddc-2ccb-46aa-afb4-4282d252177d",
   "metadata": {},
   "outputs": [],
   "source": [
    "ANS4 self is a reserved keyword, which used to represent instance or object of a class."
   ]
  },
  {
   "cell_type": "code",
   "execution_count": null,
   "id": "237ce644-e8d2-4d44-8612-5e098f751d1f",
   "metadata": {},
   "outputs": [],
   "source": [
    "ANS5 Inheritance is a method of inheriting the property of one class in another class. there is\n",
    "a concept of child class and parent class. parent class is the class whoes properties are getting inherited\n",
    "by some child class. \n",
    "there are two types of inheritance: multilevel inheritance and multiple inheritance. \n",
    "In multilevel inheritance if a class is inherited in b, and b class inherits by c then, c class would be inherit both class a and b class.\n",
    "multiple inheritance means, c class can inherit both a and b."
   ]
  },
  {
   "cell_type": "code",
   "execution_count": 21,
   "id": "17dc49be-967f-4cda-ae78-57ab32ee766e",
   "metadata": {},
   "outputs": [
    {
     "name": "stdout",
     "output_type": "stream",
     "text": [
      "i got 99 marks\n"
     ]
    }
   ],
   "source": [
    "#example of multilevel inheritance\n",
    "\n",
    "class test1:\n",
    "    def marks_science(self):\n",
    "        print('i got 100 marks')\n",
    "        \n",
    "class test2(test1):\n",
    "    def marks_history(self):\n",
    "        print('i got 99 marks')\n",
    "        \n",
    "class test3(test2):\n",
    "    def marks_hindi(self):\n",
    "        print('i got 98 marks')\n",
    "        \n",
    "priya = test3()\n",
    "priya.marks_history()"
   ]
  },
  {
   "cell_type": "code",
   "execution_count": 23,
   "id": "7b06c2d2-dcf7-4576-9b13-694dae460819",
   "metadata": {},
   "outputs": [
    {
     "ename": "NameError",
     "evalue": "name 'tes1' is not defined",
     "output_type": "error",
     "traceback": [
      "\u001b[0;31m---------------------------------------------------------------------------\u001b[0m",
      "\u001b[0;31mNameError\u001b[0m                                 Traceback (most recent call last)",
      "Cell \u001b[0;32mIn[23], line 12\u001b[0m\n\u001b[1;32m      9\u001b[0m     \u001b[38;5;28;01mdef\u001b[39;00m \u001b[38;5;21mmarks_history\u001b[39m(\u001b[38;5;28mself\u001b[39m):\n\u001b[1;32m     10\u001b[0m         \u001b[38;5;28mprint\u001b[39m(\u001b[38;5;124m'\u001b[39m\u001b[38;5;124mi got 99 marks\u001b[39m\u001b[38;5;124m'\u001b[39m)\n\u001b[0;32m---> 12\u001b[0m \u001b[38;5;28;01mclass\u001b[39;00m \u001b[38;5;21;01mtest3\u001b[39;00m(\u001b[43mtes1\u001b[49m,test2):\n\u001b[1;32m     13\u001b[0m     \u001b[38;5;28;01mdef\u001b[39;00m \u001b[38;5;21mmarks_hindi\u001b[39m(\u001b[38;5;28mself\u001b[39m):\n\u001b[1;32m     14\u001b[0m         \u001b[38;5;28mprint\u001b[39m(\u001b[38;5;124m'\u001b[39m\u001b[38;5;124mi got 98 marks\u001b[39m\u001b[38;5;124m'\u001b[39m)\n",
      "\u001b[0;31mNameError\u001b[0m: name 'tes1' is not defined"
     ]
    }
   ],
   "source": [
    "#example of multiple inheritance\n",
    "\n",
    "\n",
    "class test1:\n",
    "    def marks_science(self):\n",
    "        print('i got 100 marks')\n",
    "        \n",
    "class test2:\n",
    "    def marks_history(self):\n",
    "        print('i got 99 marks')\n",
    "        \n",
    "class test3(tes1,test2):\n",
    "    def marks_hindi(self):\n",
    "        print('i got 98 marks')\n",
    "        \n",
    "priya = test3()\n",
    "priya.marks_science()"
   ]
  },
  {
   "cell_type": "code",
   "execution_count": null,
   "id": "591326a8-ac34-47ab-a891-2cd7fc0083da",
   "metadata": {},
   "outputs": [],
   "source": []
  }
 ],
 "metadata": {
  "kernelspec": {
   "display_name": "Python 3 (ipykernel)",
   "language": "python",
   "name": "python3"
  },
  "language_info": {
   "codemirror_mode": {
    "name": "ipython",
    "version": 3
   },
   "file_extension": ".py",
   "mimetype": "text/x-python",
   "name": "python",
   "nbconvert_exporter": "python",
   "pygments_lexer": "ipython3",
   "version": "3.10.8"
  }
 },
 "nbformat": 4,
 "nbformat_minor": 5
}
