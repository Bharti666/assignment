{
 "cells": [
  {
   "cell_type": "code",
   "execution_count": null,
   "id": "4e8c7b3b-a5da-47e6-bbbd-253b8335ed6b",
   "metadata": {},
   "outputs": [],
   "source": [
    "#ANS1\n",
    "There are mainly three types of clustering- kmeans clustering,heirachichal clustering and DBSCAN clustering.\n",
    "Kmeans clustering uses centroid to make different clusters, and here number of clusters selected based on graph which we \n",
    "draw between k and wcss(with in centroid sum of squares), now the point before which graph become constant is selectes as k point.\n",
    "whereas in hierachical there is no centroid selected. it is of two types\n",
    "agglomerative and divisve, both are oppostie of each other.\n",
    "now last one is dbscan where three points are there\n",
    "core point, boundary point and noise or outlier point.\n",
    "Assumption of kmeans clustering Assumes that clusters are spherical and of equal size, and data points within a cluster have similar\n",
    "variance.\n",
    "Assumptions of hirachical clustering is  No explicit assumptions about the shape or size of clusters\n",
    "sparser regions.\n",
    "Assumptions of dbscan Assumes that clusters are dense regions separated by areas of lower density."
   ]
  },
  {
   "cell_type": "code",
   "execution_count": null,
   "id": "feec3897-ea41-4a66-a04e-639b0cfe951a",
   "metadata": {},
   "outputs": [],
   "source": [
    "#ANS2\n",
    "kmeans clustering- it is a method of clustering where we make k clusters.\n",
    "working-\n",
    "first we do initialisation- here we intialise centroid,initially we can take any number of centroid\n",
    "assignment- then we do assign several points to these centroids which are nearer to these centorid and make a clusters.\n",
    "update centroid- here we make new centroid by calcualting the mean of distance of data points and centroid. \n",
    "then again make clusters according to new centroid\n",
    "the above two steps keep on repeating until we reached a point where no changes in data points are possible after making new clusters\n",
    "means all data points will remain same as in case previous case.\n",
    "now the question is how do we find k value?\n",
    "for this we use wcss i.e within centroid sum of square. \n",
    "the point at which there is minimum value of wcss and after that this vlaue is not changing, that k value is selected."
   ]
  },
  {
   "cell_type": "code",
   "execution_count": 2,
   "id": "f632b00b-d679-4b8f-b91c-e881b496c9ca",
   "metadata": {},
   "outputs": [
    {
     "data": {
      "text/plain": [
       "'Advantages and limitations of k means clustering:\\nadvantages:\\n1. it is simple to compute\\n2. it can handle large amount of data\\n3. it can also handle large amount of features\\n\\nlimitaions:\\n    1. it assumes clusters to be spherical in shape\\n    2. k should be specified before intilisation  of this algo\\n    3. it will not work for non linear data.\\n    4. it may be sensitive to outliers'"
      ]
     },
     "execution_count": 2,
     "metadata": {},
     "output_type": "execute_result"
    }
   ],
   "source": [
    "#ANS3\n",
    "Advantages and limitations of k means clustering:\n",
    "advantages:\n",
    "1. it is simple to compute\n",
    "2. it can handle large amount of data\n",
    "3. it can also handle large amount of features\n",
    "\n",
    "limitaions:\n",
    "    1. it assumes clusters to be spherical in shape\n",
    "    2. k should be specified before intilisation  of this algo\n",
    "    3. it will not work for non linear data.\n",
    "    4. it may be sensitive to outliers"
   ]
  },
  {
   "cell_type": "code",
   "execution_count": null,
   "id": "ffbc0451-4a62-4c81-8f40-d696d983e747",
   "metadata": {},
   "outputs": [],
   "source": [
    "#ANS4\n",
    "There are many methods of selecting k. it mainly depends on the data. \n",
    "one of the most famous method is elbow method.\n",
    "in this we basically draw the graph between wcss on y axis and different values such as i,2,3,4,5...on x axis.\n",
    "now we draw graph between these two axis. the point at which wcss is minimum or does not increase after that would be selected as\n",
    "k value of (xaxis).\n",
    "we have other methods also of doing the above task:\n",
    "such as silhoutte cofficient, gap stat, average crietrions etc."
   ]
  },
  {
   "cell_type": "code",
   "execution_count": null,
   "id": "d2018f92-3e8d-4e44-89d8-acc932024683",
   "metadata": {},
   "outputs": [],
   "source": [
    "#ANS5\n",
    "Customer Segmentation: K-means clustering is commonly used for customer segmentation in marketing. \n",
    "It helps identify groups of customers with similar characteristics, behaviors, or preferences.\n",
    "This information can be used to personalize marketing campaign\n",
    "Anomaly Detection: K-means clustering can be utilized to detect anomalies or outliers in datasets. \n",
    "Document Clustering: K-means clustering can group similar documents together based on their content or features. \n",
    "Image Segmentation: K-means clustering has been applied to segment images into distinct regions based on pixel values or features."
   ]
  },
  {
   "cell_type": "code",
   "execution_count": null,
   "id": "9e992a30-adf9-446b-a4ac-5437ed2d5dcb",
   "metadata": {},
   "outputs": [],
   "source": [
    "#ANS6\n",
    "k means clustering helps in analysing the common behaviours or charcteristics of these clusters. \n",
    "cluster having multilple datapoints these datapoints will have some common charcterirstics or behaviours.\n",
    "now we can draw insights from these clustes about particular result. \n",
    "centroid point represetn the averge of clsuters.\n",
    "we can do clusters comparison and other things.\n"
   ]
  },
  {
   "cell_type": "code",
   "execution_count": 3,
   "id": "41f7504e-6d4d-4534-8e5a-bc9ac94407f4",
   "metadata": {},
   "outputs": [
    {
     "ename": "SyntaxError",
     "evalue": "invalid syntax (3560791558.py, line 2)",
     "output_type": "error",
     "traceback": [
      "\u001b[0;36m  Cell \u001b[0;32mIn[3], line 2\u001b[0;36m\u001b[0m\n\u001b[0;31m    There are several challenges that we can come up when using this algorithm:\u001b[0m\n\u001b[0m          ^\u001b[0m\n\u001b[0;31mSyntaxError\u001b[0m\u001b[0;31m:\u001b[0m invalid syntax\n"
     ]
    }
   ],
   "source": [
    "#ANS7\n",
    "There are several challenges that we can come up when using this algorithm:\n",
    "1. Determining the Optimal Number of Clusters: Selecting the appropriate number of clusters, K, is a challenge. we can use \n",
    "elbow method to tackle this issue.\n",
    "2. handling missing values: this algorihtm cannot handle missing values and we need to work on missing vlaues before applying this algo.\n",
    "3. Dealing with Outliers: Outliers can significantly impact the centroid positions and distort clustering results.\n"
   ]
  },
  {
   "cell_type": "code",
   "execution_count": null,
   "id": "45d8fc4b-289f-4796-abad-95a2d5d91959",
   "metadata": {},
   "outputs": [],
   "source": []
  },
  {
   "cell_type": "code",
   "execution_count": null,
   "id": "74412f8c-78e1-4fba-8c49-5de9649cd9d7",
   "metadata": {},
   "outputs": [],
   "source": []
  }
 ],
 "metadata": {
  "kernelspec": {
   "display_name": "Python 3 (ipykernel)",
   "language": "python",
   "name": "python3"
  },
  "language_info": {
   "codemirror_mode": {
    "name": "ipython",
    "version": 3
   },
   "file_extension": ".py",
   "mimetype": "text/x-python",
   "name": "python",
   "nbconvert_exporter": "python",
   "pygments_lexer": "ipython3",
   "version": "3.10.8"
  }
 },
 "nbformat": 4,
 "nbformat_minor": 5
}
