{
 "cells": [
  {
   "cell_type": "code",
   "execution_count": null,
   "id": "8f0c2b44-cdb5-4f9e-bd6b-94acc2b2bee3",
   "metadata": {},
   "outputs": [],
   "source": [
    "ANS 1 An exception is an event or condition which arises during the execution of a programe, that \n",
    "disrupt the normal flow of a python instructions. if there is no handling block in programe then a python object will be created and it will raise an error and disrupt the normal flow of our prog\n",
    "The main differnce between syntax error and exception is that, syntax error cannot be handled by programer whereas \n",
    "exceptions can be handled by programer. \n",
    "all exceptions occur only at run time, wheras syntax errors can be occurs at run time or compile time\n",
    "\n"
   ]
  },
  {
   "cell_type": "code",
   "execution_count": 1,
   "id": "e5027c29-70ec-440c-9118-ab00c29231e1",
   "metadata": {},
   "outputs": [
    {
     "ename": "ZeroDivisionError",
     "evalue": "division by zero",
     "output_type": "error",
     "traceback": [
      "\u001b[0;31m---------------------------------------------------------------------------\u001b[0m",
      "\u001b[0;31mZeroDivisionError\u001b[0m                         Traceback (most recent call last)",
      "Cell \u001b[0;32mIn[1], line 3\u001b[0m\n\u001b[1;32m      1\u001b[0m \u001b[38;5;66;03m#ANS2 when an exception is not handled it will raise an error and further programe will not get executed.\u001b[39;00m\n\u001b[1;32m      2\u001b[0m a \u001b[38;5;241m=\u001b[39m \u001b[38;5;241m5\u001b[39m\n\u001b[0;32m----> 3\u001b[0m b \u001b[38;5;241m=\u001b[39m \u001b[43ma\u001b[49m\u001b[38;5;241;43m/\u001b[39;49m\u001b[38;5;241;43m0\u001b[39;49m\n\u001b[1;32m      4\u001b[0m \u001b[38;5;28mprint\u001b[39m(b)\n\u001b[1;32m      5\u001b[0m \u001b[38;5;28mprint\u001b[39m(\u001b[38;5;124m'\u001b[39m\u001b[38;5;124mprogram\u001b[39m\u001b[38;5;124m'\u001b[39m)\n",
      "\u001b[0;31mZeroDivisionError\u001b[0m: division by zero"
     ]
    }
   ],
   "source": [
    "#ANS2 when an exception is not handled it will raise an error and further programe will not get executed.\n",
    "a = 5\n",
    "b = a/0\n",
    "print(b)\n",
    "print('program')\n",
    "#here we can see zero division error occur here and programe would not print after error."
   ]
  },
  {
   "cell_type": "code",
   "execution_count": 4,
   "id": "29fee900-3b4d-4d0d-8fca-593c809f018e",
   "metadata": {},
   "outputs": [
    {
     "name": "stdout",
     "output_type": "stream",
     "text": [
      "division by zero\n"
     ]
    }
   ],
   "source": [
    "#ANS 3 try and except are main words which are used to handle exceptions\n",
    "try:\n",
    "    a = 5\n",
    "    b = a/0\n",
    "    print(b)\n",
    "    print('program')\n",
    "except ZeroDivisionError as e:\n",
    "    print(e)\n",
    "#here if there is error in our code then it will enter into except block and error or whatever is written inside except block get print.\n",
    "#if there is no error then it will not enter into except block"
   ]
  },
  {
   "cell_type": "code",
   "execution_count": null,
   "id": "c6adfea0-feda-43df-bb75-0b01a82aa364",
   "metadata": {},
   "outputs": [],
   "source": [
    "ANS4 (a) try is the first block in which we write our code, or program.\n",
    "\n",
    "(a)else is the third block written after except, and else block will only get executed if except block did not get executed, we \n",
    "can write any programe or statement inside else block, if there is an error then except block get executed and else block will not be get executed.\n",
    "\n",
    "(b)finally is the last block, in this block we write that statement or programe which we want to excecute at every situation.\n",
    "\n",
    "(c)raise is a keyword which will raise an specific exception when the code encounter an error, it is used in custom exceptional hanling."
   ]
  },
  {
   "cell_type": "code",
   "execution_count": 2,
   "id": "a8f3880d-6a4c-4b18-917c-e52e219c08a9",
   "metadata": {},
   "outputs": [
    {
     "name": "stdout",
     "output_type": "stream",
     "text": [
      "division by zero\n",
      "this will print in every condition\n"
     ]
    }
   ],
   "source": [
    "#ANS 4 example of above blocks\n",
    "try:\n",
    "    a = 5\n",
    "    b = a/0\n",
    "    print(b)\n",
    "    print('program')\n",
    "except ZeroDivisionError as e:\n",
    "    print(e)\n",
    "else:\n",
    "    print('this programe will only execute if we do not have error')\n",
    "finally:\n",
    "    print('this will print in every condition')\n",
    "#in this else is not execute because there is an error and it enter into except block and hence else block not executes.   \n",
    " #finally block is getting executed in every situation   "
   ]
  },
  {
   "cell_type": "code",
   "execution_count": null,
   "id": "5e52f98a-6ec1-471f-8eef-42ff88a371fb",
   "metadata": {},
   "outputs": [],
   "source": [
    "ANS 5 custom exceptions are those exceptions which are not  pre defined, or they are defined by user\n",
    "we can create custom exceptions by creating a class and inherit exception which is a super class in our created class.\n",
    "we need custom exceptions because, they provdie us attribute and flexibility to add those exceptions which are not part of standard python exception\n",
    "for example we do not have any error defined for age, if we add negative number to age, then our inbuilt system will \n",
    "not raise an error so we need to create a custom exception class which will handle these types of errors."
   ]
  },
  {
   "cell_type": "code",
   "execution_count": null,
   "id": "72c5123c-387e-41ae-827d-c39be572a52f",
   "metadata": {},
   "outputs": [],
   "source": [
    "#ANS 6  custom exception\n",
    "class validate_data(Exception):\n",
    "    def __init__(self,data):\n",
    "        self.data = data\n",
    "\n",
    "def file_data(data):\n",
    "    if data<0:\n",
    "        raise validate_data('data cannot be negative')\n",
    "    if data>1000:\n",
    "        raise validate_data('this data is too much')\n",
    "try:\n",
    "    data = int(input('enter your data'))\n",
    "    file_data(data)\n",
    "except validate_data\n",
    "\n",
    "               "
   ]
  }
 ],
 "metadata": {
  "kernelspec": {
   "display_name": "Python 3 (ipykernel)",
   "language": "python",
   "name": "python3"
  },
  "language_info": {
   "codemirror_mode": {
    "name": "ipython",
    "version": 3
   },
   "file_extension": ".py",
   "mimetype": "text/x-python",
   "name": "python",
   "nbconvert_exporter": "python",
   "pygments_lexer": "ipython3",
   "version": "3.10.8"
  }
 },
 "nbformat": 4,
 "nbformat_minor": 5
}
