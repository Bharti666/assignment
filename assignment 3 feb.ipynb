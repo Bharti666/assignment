{
 "cells": [
  {
   "cell_type": "code",
   "execution_count": null,
   "id": "6ab9a448-63f0-4941-bb15-a1ca98378e12",
   "metadata": {},
   "outputs": [],
   "source": [
    "#ANS1 \n",
    "define is a keyword used to create a function.\n"
   ]
  },
  {
   "cell_type": "code",
   "execution_count": 5,
   "id": "9197af3e-3b38-47f5-8ee6-377df160c713",
   "metadata": {},
   "outputs": [
    {
     "name": "stdout",
     "output_type": "stream",
     "text": [
      "1\n",
      "3\n",
      "5\n",
      "7\n",
      "9\n",
      "11\n",
      "13\n",
      "15\n",
      "17\n",
      "19\n",
      "21\n",
      "23\n",
      "25\n"
     ]
    }
   ],
   "source": [
    "#function to return a list of odd numbers\n",
    "def odd_num():\n",
    "    for i in range(1,26):\n",
    "        if (i%2!=0):\n",
    "            print(i)\n",
    "odd_num()"
   ]
  },
  {
   "cell_type": "code",
   "execution_count": null,
   "id": "e2943379-4110-4f3d-a693-b2ff8eca44e4",
   "metadata": {},
   "outputs": [],
   "source": [
    "#ANS 2\n",
    "args is used with * to give arguments, when we are not sure how many arguments we have to pass to a function, and \n",
    "kwargs is used with **, to give arguments in dictionary pattern, \n",
    "\n"
   ]
  },
  {
   "cell_type": "code",
   "execution_count": 9,
   "id": "2f45ef5e-515f-46bc-8323-75bcb16caca0",
   "metadata": {},
   "outputs": [
    {
     "data": {
      "text/plain": [
       "15"
      ]
     },
     "execution_count": 9,
     "metadata": {},
     "output_type": "execute_result"
    }
   ],
   "source": [
    "#use of args\n",
    "def add(*args):\n",
    "    sum = 0\n",
    "    for i in args:\n",
    "        sum = sum +i\n",
    "    return sum\n",
    "add(4,5,6)"
   ]
  },
  {
   "cell_type": "code",
   "execution_count": 10,
   "id": "0dfa3643-3a41-49c8-9cf7-3f1998a777f0",
   "metadata": {},
   "outputs": [
    {
     "name": "stdout",
     "output_type": "stream",
     "text": [
      "key1 is science\n",
      "key2 is history\n",
      "key3 is hindi\n"
     ]
    }
   ],
   "source": [
    "#use of kwargs\n",
    "\n",
    "def dict(**kwargs):\n",
    "    for key, value in kwargs.items():\n",
    "        print(\"{} is {}\". format(key,value))\n",
    "        #print('%s == %s' %(key,value))\n",
    "\n",
    "dict(key1='science', key2='history', key3='hindi')\n",
    "\n"
   ]
  },
  {
   "cell_type": "code",
   "execution_count": null,
   "id": "6dc30b63-3edc-4e4f-8b3b-e0a408ee74df",
   "metadata": {},
   "outputs": [],
   "source": [
    "ANS 3 \n",
    "iterator can be any list, string, or dict which can be iterated, iter() is a method used to initialise the \n",
    "iterator object, and next function can be used for iteration."
   ]
  },
  {
   "cell_type": "code",
   "execution_count": 53,
   "id": "81d0c439-53bd-478f-97c0-6eaf3b341fdc",
   "metadata": {},
   "outputs": [
    {
     "data": {
      "text/plain": [
       "(2, 4, 6, 8, 10)"
      ]
     },
     "execution_count": 53,
     "metadata": {},
     "output_type": "execute_result"
    }
   ],
   "source": [
    "l = [2,4,6,8,10,12,14,16,18,20]\n",
    "l1 = iter(l)\n",
    "next(l1),next(l1),next(l1),next(l1),next(l1)\n",
    "\n",
    "\n",
    "\n",
    "    "
   ]
  },
  {
   "cell_type": "code",
   "execution_count": null,
   "id": "9ab6177f-dfbc-47db-8611-a51cd848883b",
   "metadata": {},
   "outputs": [
    {
     "ename": "SyntaxError",
     "evalue": "invalid syntax (1232133390.py, line 1)",
     "output_type": "error",
     "traceback": [
      "\u001b[0;36m  Cell \u001b[0;32mIn[45], line 1\u001b[0;36m\u001b[0m\n\u001b[0;31m    ANS 4\u001b[0m\n\u001b[0m        ^\u001b[0m\n\u001b[0;31mSyntaxError\u001b[0m\u001b[0;31m:\u001b[0m invalid syntax\n"
     ]
    }
   ],
   "source": [
    "ANS 4\n",
    "a generator function allow us to declare a function that behaves like an iterator. on using yield keyword in any \n",
    "function it becomes a generator function, \n",
    "hence yield keyword is used to create a generator function. it allow us to iterate one by one, it saves memory and ram.\n",
    "generator functions return a generator object, that are used either by calling the next method on the generator object"
   ]
  },
  {
   "cell_type": "code",
   "execution_count": null,
   "id": "eaab25c2-3e6b-47f1-be08-8f80b199e363",
   "metadata": {},
   "outputs": [],
   "source": [
    "def func_test():\n",
    "\n",
    "    yield 'python'\n",
    "\n",
    "func_test()\n",
    "print(next(func_test()))"
   ]
  },
  {
   "cell_type": "code",
   "execution_count": null,
   "id": "4015faa8-0dec-42b0-88ad-7c146e3c8085",
   "metadata": {},
   "outputs": [],
   "source": [
    "#ANS 5\n",
    "\n",
    "def func():\n",
    "    for i in range(2,1000):\n",
    "        for j in range(2,i):\n",
    "            if i%j==0:\n",
    "                break\n",
    "        else:\n",
    "            yield i\n",
    "f1 = func()\n",
    "print(f1.__next__())\n",
    "print(f1.__next__())\n",
    "print(f1.__next__())\n",
    "print(f1.__next__())\n",
    "print(f1.__next__())\n",
    "print(f1.__next__())\n",
    "print(f1.__next__())\n",
    "print(f1.__next__())\n",
    "print(f1.__next__())\n",
    "print(f1.__next__())\n",
    "print(f1.__next__())\n",
    "print(f1.__next__())\n",
    "print(f1.__next__())\n",
    "print(f1.__next__())\n",
    "print(f1.__next__())\n",
    "print(f1.__next__())\n",
    "print(f1.__next__())\n",
    "print(f1.__next__())\n",
    "print(f1.__next__())\n",
    "print(f1.__next__())\n",
    "print(f1.__next__())\n",
    "    \n",
    "    \n",
    "    "
   ]
  },
  {
   "cell_type": "code",
   "execution_count": null,
   "id": "8a080a09-1b60-4569-9f87-f67f86b95d78",
   "metadata": {},
   "outputs": [],
   "source": [
    "#ANS 6\n",
    "\n",
    "def func1(n):\n",
    "    i = 1\n",
    "    a = 0\n",
    "    b = 1\n",
    "    while i<=n:\n",
    "        \n",
    "        yield a\n",
    "        a,b = b,a+b\n",
    "        i = i+1\n",
    "func1(10)\n",
    "for j in func1(10):\n",
    "    print(j)"
   ]
  },
  {
   "cell_type": "code",
   "execution_count": null,
   "id": "1c883c25-6647-4121-9f72-43b5bd4c0e04",
   "metadata": {},
   "outputs": [],
   "source": [
    "#ANS 7\n",
    "string = 'pwskills'\n",
    "print(list(i for i in string))"
   ]
  },
  {
   "cell_type": "code",
   "execution_count": null,
   "id": "e53d7f49-9f2f-468d-a21e-5d95ac211472",
   "metadata": {},
   "outputs": [],
   "source": [
    "#ANS 8\n"
   ]
  }
 ],
 "metadata": {
  "kernelspec": {
   "display_name": "Python 3 (ipykernel)",
   "language": "python",
   "name": "python3"
  },
  "language_info": {
   "codemirror_mode": {
    "name": "ipython",
    "version": 3
   },
   "file_extension": ".py",
   "mimetype": "text/x-python",
   "name": "python",
   "nbconvert_exporter": "python",
   "pygments_lexer": "ipython3",
   "version": "3.10.8"
  }
 },
 "nbformat": 4,
 "nbformat_minor": 5
}
