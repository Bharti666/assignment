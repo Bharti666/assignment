{
 "cells": [
  {
   "cell_type": "code",
   "execution_count": 1,
   "id": "6b5e9035-f881-4474-a2a0-13a7425720d3",
   "metadata": {},
   "outputs": [
    {
     "name": "stdout",
     "output_type": "stream",
     "text": [
      "Indices of the two numbers: [0, 1]\n"
     ]
    }
   ],
   "source": [
    "#ANS1\n",
    "def two_sum(nums, target):\n",
    "    num_map = {}  # Map to store complements of numbers\n",
    "\n",
    "    for i, num in enumerate(nums):\n",
    "        complement = target - num\n",
    "\n",
    "        # Check if the complement exists in the map\n",
    "        if complement in num_map:\n",
    "            return [num_map[complement], i]\n",
    "\n",
    "        # Add the current number and its index to the map\n",
    "        num_map[num] = i\n",
    "\n",
    "    # No solution found\n",
    "    return None\n",
    "\n",
    "\n",
    "# Test the function\n",
    "nums = [2, 7, 11, 15]\n",
    "target = 9\n",
    "indices = two_sum(nums, target)\n",
    "print(\"Indices of the two numbers:\", indices)\n"
   ]
  },
  {
   "cell_type": "code",
   "execution_count": 2,
   "id": "e568a1d7-8ee6-4c08-8b0f-752915bba0f5",
   "metadata": {},
   "outputs": [
    {
     "name": "stdout",
     "output_type": "stream",
     "text": [
      "Count of elements not equal to 3 : 2\n",
      "Modified nums: [2, 2]\n"
     ]
    }
   ],
   "source": [
    "#ANS2\n",
    "def remove_element(nums, val):\n",
    "    k = 0  # Variable to count the elements not equal to val\n",
    "\n",
    "    for i in range(len(nums)):\n",
    "        if nums[i] != val:\n",
    "            nums[k] = nums[i]\n",
    "            k += 1\n",
    "\n",
    "    return k\n",
    "\n",
    "\n",
    "# Test the function\n",
    "nums = [3, 2, 2, 3]\n",
    "val = 3\n",
    "count = remove_element(nums, val)\n",
    "print(\"Count of elements not equal to\", val, \":\", count)\n",
    "print(\"Modified nums:\", nums[:count])\n"
   ]
  },
  {
   "cell_type": "code",
   "execution_count": 3,
   "id": "4ec1b9e9-f832-4104-9906-dc716e61e424",
   "metadata": {},
   "outputs": [
    {
     "name": "stdout",
     "output_type": "stream",
     "text": [
      "Index of target 5 : 2\n"
     ]
    }
   ],
   "source": [
    "#ANS3\n",
    "def search_insert(nums, target):\n",
    "    left = 0\n",
    "    right = len(nums) - 1\n",
    "\n",
    "    while left <= right:\n",
    "        mid = left + (right - left) // 2\n",
    "\n",
    "        if nums[mid] == target:\n",
    "            return mid\n",
    "        elif nums[mid] < target:\n",
    "            left = mid + 1\n",
    "        else:\n",
    "            right = mid - 1\n",
    "\n",
    "    return left\n",
    "\n",
    "\n",
    "# Test the function\n",
    "nums = [1, 3, 5, 6]\n",
    "target = 5\n",
    "index = search_insert(nums, target)\n",
    "print(\"Index of target\", target, \":\", index)\n"
   ]
  },
  {
   "cell_type": "code",
   "execution_count": 4,
   "id": "727a3490-bdee-439f-920e-88aa798de1f6",
   "metadata": {},
   "outputs": [
    {
     "name": "stdout",
     "output_type": "stream",
     "text": [
      "Result: [1, 2, 4]\n"
     ]
    }
   ],
   "source": [
    "#ANS4\n",
    "def plus_one(digits):\n",
    "    n = len(digits)\n",
    "    carry = 1\n",
    "\n",
    "    for i in range(n - 1, -1, -1):\n",
    "        digits[i] += carry\n",
    "        carry = digits[i] // 10\n",
    "        digits[i] %= 10\n",
    "\n",
    "        if carry == 0:\n",
    "            break\n",
    "\n",
    "    if carry == 1:\n",
    "        digits.insert(0, carry)\n",
    "\n",
    "    return digits\n",
    "\n",
    "\n",
    "# Test the function\n",
    "digits = [1, 2, 3]\n",
    "result = plus_one(digits)\n",
    "print(\"Result:\", result)\n"
   ]
  },
  {
   "cell_type": "code",
   "execution_count": 5,
   "id": "1eb1e6f6-2422-4916-a3f7-8aee884c9685",
   "metadata": {},
   "outputs": [
    {
     "name": "stdout",
     "output_type": "stream",
     "text": [
      "Merged array: [1, 2, 2, 3, 5, 6]\n"
     ]
    }
   ],
   "source": [
    "#ANS5\n",
    "def merge(nums1, m, nums2, n):\n",
    "    i = m - 1\n",
    "    j = n - 1\n",
    "    k = m + n - 1\n",
    "\n",
    "    while i >= 0 and j >= 0:\n",
    "        if nums1[i] > nums2[j]:\n",
    "            nums1[k] = nums1[i]\n",
    "            i -= 1\n",
    "        else:\n",
    "            nums1[k] = nums2[j]\n",
    "            j -= 1\n",
    "        k -= 1\n",
    "\n",
    "    # If there are remaining elements in nums2, copy them to nums1\n",
    "    while j >= 0:\n",
    "        nums1[k] = nums2[j]\n",
    "        j -= 1\n",
    "        k -= 1\n",
    "\n",
    "\n",
    "# Test the function\n",
    "nums1 = [1, 2, 3, 0, 0, 0]\n",
    "m = 3\n",
    "nums2 = [2, 5, 6]\n",
    "n = 3\n",
    "\n",
    "merge(nums1, m, nums2, n)\n",
    "print(\"Merged array:\", nums1)\n"
   ]
  },
  {
   "cell_type": "code",
   "execution_count": 6,
   "id": "8a65b283-5f2c-433f-81d7-8b66cf7198b6",
   "metadata": {},
   "outputs": [
    {
     "name": "stdout",
     "output_type": "stream",
     "text": [
      "Contains duplicate: True\n"
     ]
    }
   ],
   "source": [
    "#ANS6\n",
    "def contains_duplicate(nums):\n",
    "    num_set = set()\n",
    "\n",
    "    for num in nums:\n",
    "        if num in num_set:\n",
    "            return True\n",
    "        else:\n",
    "            num_set.add(num)\n",
    "\n",
    "    return False\n",
    "\n",
    "\n",
    "# Test the function\n",
    "nums = [1, 2, 3, 1]\n",
    "has_duplicate = contains_duplicate(nums)\n",
    "print(\"Contains duplicate:\", has_duplicate)\n"
   ]
  },
  {
   "cell_type": "code",
   "execution_count": 7,
   "id": "8e354ca7-0c7a-4297-8266-ed02b47fc27f",
   "metadata": {},
   "outputs": [
    {
     "name": "stdout",
     "output_type": "stream",
     "text": [
      "Modified nums: [1, 3, 12, 0, 0]\n"
     ]
    }
   ],
   "source": [
    "#ANS7\n",
    "def move_zeroes(nums):\n",
    "    n = len(nums)\n",
    "    zero_count = 0\n",
    "    i = 0\n",
    "\n",
    "    while i < n:\n",
    "        if nums[i] == 0:\n",
    "            zero_count += 1\n",
    "            nums.pop(i)\n",
    "            n -= 1\n",
    "        else:\n",
    "            i += 1\n",
    "\n",
    "    nums.extend([0] * zero_count)\n",
    "\n",
    "\n",
    "# Test the function\n",
    "nums = [0, 1, 0, 3, 12]\n",
    "move_zeroes(nums)\n",
    "print(\"Modified nums:\", nums)\n"
   ]
  },
  {
   "cell_type": "code",
   "execution_count": null,
   "id": "94fa9a3e-ed34-4721-95a8-7fa5d0939396",
   "metadata": {},
   "outputs": [],
   "source": [
    "#ANS8\n"
   ]
  }
 ],
 "metadata": {
  "kernelspec": {
   "display_name": "Python 3 (ipykernel)",
   "language": "python",
   "name": "python3"
  },
  "language_info": {
   "codemirror_mode": {
    "name": "ipython",
    "version": 3
   },
   "file_extension": ".py",
   "mimetype": "text/x-python",
   "name": "python",
   "nbconvert_exporter": "python",
   "pygments_lexer": "ipython3",
   "version": "3.10.8"
  }
 },
 "nbformat": 4,
 "nbformat_minor": 5
}
