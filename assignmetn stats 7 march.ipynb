{
 "cells": [
  {
   "cell_type": "code",
   "execution_count": null,
   "id": "dac3e0f7-f838-4034-ae68-d9491895f3d8",
   "metadata": {},
   "outputs": [],
   "source": [
    "ANS1 \n",
    "Measures of central tendency represent the single value of the entire distrubution of dataset. \n",
    "it represent the whole data in terms of single value. it aims to provide the accurate description of whole data.\n",
    "there are three important measures to measure central tendency i.e mean,mode and median."
   ]
  },
  {
   "cell_type": "code",
   "execution_count": null,
   "id": "99ad1271-6e1e-46cf-ad0d-4a18deab542d",
   "metadata": {},
   "outputs": [],
   "source": [
    "ANS2 \n",
    "Mean, mode and median all three are used to measure central tendency. \n",
    "mean define the avergae of whole data set. it is calculated by sum of all dataset divides by number of values\n",
    "whereas median represent the  middle value of whole dataset. and mode represent the maximum occurence of any value in \n",
    "the whole dataset.\n",
    "mean is used to findout the central tendency as it represent the average of whole dataset. \n",
    "mode is used to findout the central tendency as it represent the maximum occurence of any value in the dataset.\n",
    "median is used to findout the central tendency as it represent the middle value of whole dataset."
   ]
  },
  {
   "cell_type": "code",
   "execution_count": 1,
   "id": "e65b80cb-6ff1-4b90-9c5b-4d38cccb6753",
   "metadata": {},
   "outputs": [
    {
     "data": {
      "text/plain": [
       "177.01875"
      ]
     },
     "execution_count": 1,
     "metadata": {},
     "output_type": "execute_result"
    }
   ],
   "source": [
    "#ANS3 \n",
    "height = [178,177,176,177,178.2,178,175,179,180,175,178.9,176.2,177,172.5,178,176.5]\n",
    "import numpy as np\n",
    "np.mean(height)"
   ]
  },
  {
   "cell_type": "code",
   "execution_count": 2,
   "id": "37ccb7a6-c6b9-4bbd-9cb8-abe6b708e81d",
   "metadata": {},
   "outputs": [
    {
     "data": {
      "text/plain": [
       "177.0"
      ]
     },
     "execution_count": 2,
     "metadata": {},
     "output_type": "execute_result"
    }
   ],
   "source": [
    "#ANS3\n",
    "np.median(height)"
   ]
  },
  {
   "cell_type": "code",
   "execution_count": 3,
   "id": "4c08eb4c-b0f1-4c30-939c-5814372c89e6",
   "metadata": {},
   "outputs": [],
   "source": [
    "from scipy import stats"
   ]
  },
  {
   "cell_type": "code",
   "execution_count": 4,
   "id": "cef4ca19-2bbe-4bc8-9484-08df04ec2c6d",
   "metadata": {},
   "outputs": [
    {
     "name": "stderr",
     "output_type": "stream",
     "text": [
      "/tmp/ipykernel_875/1690947930.py:1: FutureWarning: Unlike other reduction functions (e.g. `skew`, `kurtosis`), the default behavior of `mode` typically preserves the axis it acts along. In SciPy 1.11.0, this behavior will change: the default value of `keepdims` will become False, the `axis` over which the statistic is taken will be eliminated, and the value None will no longer be accepted. Set `keepdims` to True or False to avoid this warning.\n",
      "  stats.mode(height)\n"
     ]
    },
    {
     "data": {
      "text/plain": [
       "ModeResult(mode=array([177.]), count=array([3]))"
      ]
     },
     "execution_count": 4,
     "metadata": {},
     "output_type": "execute_result"
    }
   ],
   "source": [
    "#ANS3\n",
    "stats.mode(height)"
   ]
  },
  {
   "cell_type": "code",
   "execution_count": 6,
   "id": "ce584361-4a60-40ea-bd64-c4c0bafe102c",
   "metadata": {},
   "outputs": [
    {
     "data": {
      "text/plain": [
       "1.7885814036548633"
      ]
     },
     "execution_count": 6,
     "metadata": {},
     "output_type": "execute_result"
    }
   ],
   "source": [
    "#ANS4\n",
    "data = [178,177,176,177,178.2,178,175,179,180,175,178.9,176.2,177,172.5,178,176.5]\n",
    "np.std(data)"
   ]
  },
  {
   "cell_type": "code",
   "execution_count": null,
   "id": "2d9b6aa0-b98b-4bae-8753-3cde62ccbfcd",
   "metadata": {},
   "outputs": [],
   "source": [
    "#ANS5\n",
    "measure of disperion(range, standard deviation and variance) used to represent the spread of data.\n",
    "range gives the differnce of starting and end value, if range is more then spread of data is more.\n",
    "standard deviation represent deviation from central or mean value. if deviation is more then it indicates spread of datasetis more\n",
    "variance also represent the variation of dataset. variance is square of standard deviation."
   ]
  },
  {
   "cell_type": "code",
   "execution_count": null,
   "id": "77edc2d3-f12a-44dc-9a12-64ee8b07fc49",
   "metadata": {},
   "outputs": [],
   "source": [
    "#ANS6\n",
    "venn diagram is a diagram which represent the relationship between two datasets.\n",
    "this diagram represen the similarity and differences between two different datasets."
   ]
  },
  {
   "cell_type": "code",
   "execution_count": 16,
   "id": "e41c18fb-f3d0-49b4-9501-de7b066f0fd3",
   "metadata": {},
   "outputs": [],
   "source": [
    "#ANS7\n",
    "import pandas as pd\n",
    "A = [2,3,4,5,6,7]\n",
    "B = [0,2,6,8,10]\n"
   ]
  },
  {
   "cell_type": "code",
   "execution_count": 23,
   "id": "dd64527c-cc11-4475-b492-a60098309dc5",
   "metadata": {},
   "outputs": [
    {
     "data": {
      "text/plain": [
       "0     0\n",
       "1     2\n",
       "2     3\n",
       "3     4\n",
       "4     5\n",
       "5     6\n",
       "6     7\n",
       "7     8\n",
       "8    10\n",
       "dtype: int64"
      ]
     },
     "execution_count": 23,
     "metadata": {},
     "output_type": "execute_result"
    }
   ],
   "source": [
    "#AUB\n",
    "pd.Series(np.union1d(A,B))\n"
   ]
  },
  {
   "cell_type": "code",
   "execution_count": 24,
   "id": "ce6ab222-d920-40b5-ad61-dd3f2763d5af",
   "metadata": {},
   "outputs": [
    {
     "data": {
      "text/plain": [
       "0    2\n",
       "1    6\n",
       "dtype: int64"
      ]
     },
     "execution_count": 24,
     "metadata": {},
     "output_type": "execute_result"
    }
   ],
   "source": [
    "#AintersectionB\n",
    "pd.Series(np.intersect1d(A,B))"
   ]
  },
  {
   "cell_type": "code",
   "execution_count": null,
   "id": "c0b9d9b2-cd58-47a0-a72d-eb1e1adc5f51",
   "metadata": {},
   "outputs": [],
   "source": [
    "#ANS8\n",
    "skewness is a measure of asymmetry of distribution.\n",
    "there are three types of skewness,\n",
    "1. no skewness/normal distribution - when there is no asymmetry between left and right side. left and right side both are equal. here mean= mode = median\n",
    "2. right sided skwenss - when there is more probability distribution on the right side. for this mean>=median>=mode\n",
    "3. left sided skewness - when there is more probability distribution on the left side. mean<=median<=mode\n",
    "\n"
   ]
  },
  {
   "cell_type": "code",
   "execution_count": null,
   "id": "2a881b0c-1bad-4613-a45e-aaa2c4c84399",
   "metadata": {},
   "outputs": [],
   "source": [
    "#ANS 9\n",
    "if data is right skewed then mean>=median. median may be less or equal to mean."
   ]
  },
  {
   "cell_type": "code",
   "execution_count": null,
   "id": "68abc3c7-43ec-468c-a2e5-d66c4676a25c",
   "metadata": {},
   "outputs": [],
   "source": [
    "#ANS10\n",
    "Both covariance and correlation tells the relationship between two variables or two data. \n",
    "in case of covriance there is not limit, means it does not tell how strongly two varibles or data related\n",
    "whereas correlation tells the how strongly two datasets/values related.it ranges between -1 to +1."
   ]
  },
  {
   "cell_type": "code",
   "execution_count": null,
   "id": "098d8f63-9915-493c-a3a5-11892dcd301a",
   "metadata": {},
   "outputs": [],
   "source": [
    "#ANS11\n",
    "The formula for calculating the sample mean (also known as the arithmetic mean) is:\n",
    "\n",
    "Sample Mean = (Sum of all values in the dataset) / (Number of values in the dataset)\n",
    "\n",
    "To illustrate with an example, lets consider a dataset of exam scores for a class of students:\n",
    "\n",
    "Exam_Scores: 80, 85, 90, 75, 95.\n",
    "(80+85+90+75+95)/5= 85"
   ]
  },
  {
   "cell_type": "code",
   "execution_count": null,
   "id": "5bc52353-c610-4e08-bec9-2162ba613c5b",
   "metadata": {},
   "outputs": [],
   "source": [
    "#ANS12\n",
    "For normal distribution mean=median=mode."
   ]
  },
  {
   "cell_type": "code",
   "execution_count": null,
   "id": "856b01d2-63e8-4145-9e28-54f8408e504c",
   "metadata": {},
   "outputs": [],
   "source": [
    "#ANS13\n",
    "Covariance measures the direction and magnitude of the linear relationship between two variables. It indicates\n",
    "how changes in one variable are associated with changes in another variable.\n",
    "Covariance can take any value, positive or negative, depending on the direction of the relationship.\n",
    "\n",
    "Cov(X, Y) = Σ((X - μX) * (Y - μY)) / (n - 1)\n",
    "where X and Y are the variables, μX and μY are their respective means, and n is the number of observations.\n",
    "\n",
    "Correlation measures the strength and direction of the linear relationship between two variables.\n",
    "It provides a standardized measure that ranges from -1 to 1, where -1 indicates a perfect negative linear relationship, \n",
    "1 indicates a perfect positive linear relationship, and 0 indicates no linear relationship.\n",
    "\n",
    "Corr(X, Y) = Cov(X, Y) / (σX * σY)\n",
    "where Cov(X, Y) is the covariance between X and Y, σX is the standard deviation of X, and σY is the standard deviation of Y."
   ]
  },
  {
   "cell_type": "code",
   "execution_count": null,
   "id": "27723a0e-42c8-498e-9025-06c268770c45",
   "metadata": {},
   "outputs": [],
   "source": [
    "#ANS14\n",
    "Outliers can have a significant impact on measures of central tendency and dispersion. \n",
    "Mean: Outliers can pull the mean in the direction of the extreme value, example is \n",
    "Consider the following dataset of exam scores: 80, 85, 90, 75, 95, 20 (outlier). The mean of the dataset without the outlier is 85. However, when we include the outlier, the mean becomes 75.83, \n",
    "significantly lower than the typical values.\n",
    "\n",
    "Median: The median is less influenced by outliers compared to the mean"
   ]
  }
 ],
 "metadata": {
  "kernelspec": {
   "display_name": "Python 3 (ipykernel)",
   "language": "python",
   "name": "python3"
  },
  "language_info": {
   "codemirror_mode": {
    "name": "ipython",
    "version": 3
   },
   "file_extension": ".py",
   "mimetype": "text/x-python",
   "name": "python",
   "nbconvert_exporter": "python",
   "pygments_lexer": "ipython3",
   "version": "3.10.8"
  }
 },
 "nbformat": 4,
 "nbformat_minor": 5
}
