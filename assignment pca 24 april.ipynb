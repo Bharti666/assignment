{
 "cells": [
  {
   "cell_type": "code",
   "execution_count": null,
   "id": "14d857e7-c40b-4126-9abd-bfc227b44db6",
   "metadata": {},
   "outputs": [],
   "source": [
    "##ANS1\n",
    "Projection is a tehcnique of shifting the points from their orignal location to prinical component line.\n",
    "it is the process of extending the points to principal component line.\n",
    "it is used in pca to change the dimesions. \n",
    "like if we have a 2d graphs means 2 dimesions in this graph then we will draw a pc1 and pc2 prependicular to each other. \n",
    "now we extend or project the points from their orignal location to this pc1 and pc2. now we will select that pc line as our dimension\n",
    "which has more variance or spread of points."
   ]
  },
  {
   "cell_type": "code",
   "execution_count": null,
   "id": "6dbabb13-a2e0-4c0f-aa83-9afff2a14b41",
   "metadata": {},
   "outputs": [],
   "source": [
    "#ANS2\n",
    "Optimisation process in pca is used to get maximum variance or spread of data on principal component line.\n",
    "we use eingen value and eigen vector to achieve it and also knowns as eigenvalue decomposition.\n",
    "for this we first do standarisation\n",
    "then make covariance matrix with these fearures\n",
    "then we do apply linear transformation on this matrix which give us eigen value and eigen vector.\n",
    "now the vector with largest eigen value will be selcted as principal component 1. then data points are projected on this line.\n",
    "and this line would have largest variance and spread."
   ]
  },
  {
   "cell_type": "code",
   "execution_count": null,
   "id": "b9d1e10e-f3dc-465f-ae46-8375f202847b",
   "metadata": {},
   "outputs": [],
   "source": [
    "#ANS3\n",
    "covariances matrix is used in pca. we apply linear transformation of eigen decompositon on this matrix to get principal component \n",
    "which would have maximum varaince."
   ]
  },
  {
   "cell_type": "code",
   "execution_count": 2,
   "id": "e0923b96-0e63-4fed-b526-00c0a2c20f6b",
   "metadata": {},
   "outputs": [],
   "source": [
    "#ANS4\n",
    "choice of number of principal component impact the performance in the following way:\n",
    "1. dimensional reduction: the less no. of principal component we chose more will be the dimensional reduction.\n",
    "2. computational complexity- as we choose large number of principal components more will the computational complexity will be there.\n",
    "3. variance: the large number of components we choose more will the variance there and hence better will be the performance."
   ]
  },
  {
   "cell_type": "code",
   "execution_count": null,
   "id": "3beadd42-9999-40c8-9867-939e6aa6303d",
   "metadata": {},
   "outputs": [],
   "source": [
    "#ANS5\n",
    "PCA used in feature extraction not in feature selection. here more important inforamtion is collected from various features.\n",
    "here we recreate new features from original features as principal components.\n",
    "there are many benefits of using it:\n",
    "1. it helps dimensionality reduction: as we know this procsess not only helps in extracting features it also helps in dimesnionality reduction.\n",
    "2. it also helps in reducing the correlation between the features. as we know all newly constructed principal componets are prependicular to each\n",
    "other hence they are less related to each other.\n",
    "3. it also retain the more information, more the number of principal component more will be the variance."
   ]
  },
  {
   "cell_type": "code",
   "execution_count": null,
   "id": "e45e5f00-10e4-483f-89c7-f8113a361981",
   "metadata": {},
   "outputs": [],
   "source": [
    "#ANS6\n",
    "Application of principal component analysis:\n",
    "1. It is widely used for dimensionality reduction from higer dimension to lower dimension.\n",
    "2. It helps in data visulaisation by reducing the number of dimension by 2 or 3.\n",
    "3. Feature Extraction: PCA can be used as a feature extraction technique to derive new features (principal components)\n",
    "that capture the most significant information.\n",
    "4. Outlier Detection: PCA can assist in identifying outliers"
   ]
  },
  {
   "cell_type": "code",
   "execution_count": null,
   "id": "1ea0269e-f260-42cb-b169-8ac81a2abb4b",
   "metadata": {},
   "outputs": [],
   "source": [
    "#ANS7\n",
    "variance and spead is directly related to each other. more the variance and more will be the spread.\n",
    "spread is defined as the distribution of data around principal component whereas variance is defined as the variation\n",
    "in dataset.\n",
    "By analyzing the spread and variance in PCA, you can gain insights into the importance of each principal component."
   ]
  },
  {
   "cell_type": "code",
   "execution_count": null,
   "id": "5d26f767-e4b4-4b86-a1aa-c2b96702b57f",
   "metadata": {},
   "outputs": [],
   "source": [
    "#ANS8\n",
    "pca use spread and variance to identify the prinical component. \n",
    "by eigen value and eigen vector we can find the principal components. princiapl component number will be equal to orignal features.\n",
    "now the prinicpal component which will have more number of variance or spred will be selected as final principal components or\n",
    "as newly created features."
   ]
  },
  {
   "cell_type": "code",
   "execution_count": null,
   "id": "aa0f5652-0a02-45ce-97b2-0dc3e50c3ce3",
   "metadata": {},
   "outputs": [],
   "source": [
    "#ANS9\n",
    "PCA is well-suited for handling data with high variance in some dimensions and low variance in others. \n",
    "It is specifically designed to capture and prioritize the dimensions or features with the highest amount of variance, while de-emphasizing \n",
    "those with lower variances.\n",
    "When applied to such data, PCA will identify the principal components that explain the majority of the variance in the dataset."
   ]
  }
 ],
 "metadata": {
  "kernelspec": {
   "display_name": "Python 3 (ipykernel)",
   "language": "python",
   "name": "python3"
  },
  "language_info": {
   "codemirror_mode": {
    "name": "ipython",
    "version": 3
   },
   "file_extension": ".py",
   "mimetype": "text/x-python",
   "name": "python",
   "nbconvert_exporter": "python",
   "pygments_lexer": "ipython3",
   "version": "3.10.8"
  }
 },
 "nbformat": 4,
 "nbformat_minor": 5
}
