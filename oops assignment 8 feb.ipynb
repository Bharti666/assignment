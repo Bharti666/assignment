{
 "cells": [
  {
   "cell_type": "code",
   "execution_count": null,
   "id": "c12d3761-01f8-4372-8fbd-3d727f3b3efe",
   "metadata": {},
   "outputs": [],
   "source": [
    "ANS1 \n",
    "Abstraction is used to hide the internal funcionality of the funciton from the users, \n",
    "the user interact only with the basic implementation of the function but inner working is hidden.\n",
    "it is used to hide irrelevant data/class in order to reduce complexity. \n",
    "abstract method in a class do not contain implementation of their class. there we have abstract class as well as abstract method\n",
    "these are also known as declare class or method because they do not have statement, they have only pass parameter.\n",
    "and we can also not create object in abstract class.\n",
    "for abstract class we need to import abstract module in python. \n",
    "abstract class must have one or more abstract method it may also have concrete method.\n",
    "here we do not write implementation of abstract method we just write signatures."
   ]
  },
  {
   "cell_type": "code",
   "execution_count": 1,
   "id": "c8685c4b-7fc5-4ba3-b60d-411667d1a688",
   "metadata": {},
   "outputs": [
    {
     "name": "stdout",
     "output_type": "stream",
     "text": [
      "this is my laptop\n"
     ]
    }
   ],
   "source": [
    "#eg of absraction\n",
    "from abc import ABC,abstractmethod\n",
    "class computer(ABC):\n",
    "    @abstractmethod\n",
    "    def process(self):\n",
    "        pass\n",
    "class laptop(computer):\n",
    "    def process(self):\n",
    "        print('this is my laptop')\n",
    "obj = laptop()\n",
    "obj.process()\n",
    "#here we can see that process is abstract method and computer is abstract class have one abstract method,  and in laptop class process method has \n",
    "#implementation which not have been shown in the computer class."
   ]
  },
  {
   "cell_type": "code",
   "execution_count": null,
   "id": "7beb5d4e-9604-498c-8b22-1d6597e93f6e",
   "metadata": {},
   "outputs": [],
   "source": [
    "#ANS2\n",
    "difference between abstraction and encapsulation:\n",
    "both are method of hiding data, abstraction we use abc module to hide implementaions of method \n",
    "but in encapsulation we write two extra underscore to hide those variables or instances.\n",
    "encapsulation binds the data and method together in a single unit whereas abstraciton hides the implementaion details,\n",
    "shows only functionality detials.\n",
    "encapsulation hides detail for security purpose whereas abstracion hides details to reduce complexity.\n",
    "encapsulaiton makes data private which can be accessed through method in a class whereas abstraction write implementation of one method in other class."
   ]
  },
  {
   "cell_type": "code",
   "execution_count": null,
   "id": "1290e01d-7f1c-47e1-9cd2-066f319f620c",
   "metadata": {},
   "outputs": [],
   "source": [
    "#ANS3\n",
    "abc module is used to take ABC and abstract method. these classes and methods are used in abstraciton in python. \n",
    "it provides the infrastructure for defining custom abstract base class. abstract class cannot be instantiated in pyhton an abstract method \n",
    "is used by ABC class."
   ]
  },
  {
   "cell_type": "code",
   "execution_count": null,
   "id": "59dc32cb-c8bf-4e66-b08c-3a7349c15487",
   "metadata": {},
   "outputs": [],
   "source": [
    "#ASNS4\n",
    "#data abstraciton can be achieved with the help of abc module and ABC class. an example of it shown below:\n",
    "from abc import ABC,abstractmethod\n",
    "class computer(ABC):\n",
    "    @abstractmethod\n",
    "    def process(self):\n",
    "        pass\n",
    "class laptop(computer):\n",
    "    def process(self):\n",
    "        print('this is my laptop')\n",
    "obj = laptop()\n",
    "obj.process()  \n",
    "#first we have to import ABC class and abstract method from abc module, then create and abstract class which should inherit ABC class, with abstarct\n",
    "#method without any implementation, "
   ]
  },
  {
   "cell_type": "code",
   "execution_count": null,
   "id": "e9e56e80-a9e5-494a-acd5-b3601a43bec9",
   "metadata": {},
   "outputs": [],
   "source": [
    "#ANS5\n",
    "NO, we cannot creat instasnce of an abstract class. because abstract class cannot instantiated. because it is incompelte class without \n",
    "any implementaion it contain only signature with pass statement. that's why it cannot be instatiated."
   ]
  },
  {
   "cell_type": "code",
   "execution_count": null,
   "id": "3bad6629-e81a-4857-a47f-30e05b2485be",
   "metadata": {},
   "outputs": [],
   "source": []
  },
  {
   "cell_type": "code",
   "execution_count": null,
   "id": "668a95b5-c312-4742-b660-b521d0d489b0",
   "metadata": {},
   "outputs": [],
   "source": []
  },
  {
   "cell_type": "code",
   "execution_count": null,
   "id": "a9927631-cb3a-462c-b7ca-78668b07a59f",
   "metadata": {},
   "outputs": [],
   "source": []
  },
  {
   "cell_type": "code",
   "execution_count": null,
   "id": "b7f9798f-a0e1-491f-ae6b-314c5db8034b",
   "metadata": {},
   "outputs": [],
   "source": []
  }
 ],
 "metadata": {
  "kernelspec": {
   "display_name": "Python 3 (ipykernel)",
   "language": "python",
   "name": "python3"
  },
  "language_info": {
   "codemirror_mode": {
    "name": "ipython",
    "version": 3
   },
   "file_extension": ".py",
   "mimetype": "text/x-python",
   "name": "python",
   "nbconvert_exporter": "python",
   "pygments_lexer": "ipython3",
   "version": "3.10.8"
  }
 },
 "nbformat": 4,
 "nbformat_minor": 5
}
