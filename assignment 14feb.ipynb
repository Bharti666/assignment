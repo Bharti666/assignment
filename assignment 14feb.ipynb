{
 "cells": [
  {
   "cell_type": "code",
   "execution_count": null,
   "id": "ecf84230-6ec0-4182-a3d0-43127878816f",
   "metadata": {},
   "outputs": [],
   "source": [
    "ANS 1 Multithreading is a process of running multiple threads at one time. in single core cpu it is \n",
    "possible by swithching between threads, but in quad or octacore cpu this process is easily avaiable, it is important \n",
    "becasue it ensure the efficient utilisation of resources, it saves both time and space because thread share the same memory and data space.\n",
    "threading module is used to handle threads in python."
   ]
  },
  {
   "cell_type": "code",
   "execution_count": null,
   "id": "5fc8f6c4-7bf2-4ebf-b49e-a7a094e588a6",
   "metadata": {},
   "outputs": [],
   "source": [
    "ANS2  threading module use to run different parts of our programe concurrenlty and simplify our design.\n",
    "and threading module also used to inherit the thread class.\n",
    "\n",
    "activeaccount()- this function return the number of active threads in our programe.\n",
    "syntax is threading.active_count()\n",
    "\n",
    "currentthread()- this function give the inforamation about the current thread and it also return the thread instance for \n",
    "current working thread. through this thread instance we can obtain the details like, name of thread, it is running or stopped etc.\n",
    "\n",
    "enumerate()-this function return the list of all threads objects currenlty live."
   ]
  },
  {
   "cell_type": "code",
   "execution_count": null,
   "id": "35619ced-f07a-4385-81d1-8761fe8f96c7",
   "metadata": {},
   "outputs": [],
   "source": [
    "ANS3 run()- run method is used to define thread activity and can be overriden by a class that extend the thread class.\n",
    "\n",
    "start()- a start method is used to initiate the activity of the thread and it calls only once for each thread so that the \n",
    "execution of thread can begin.\n",
    "\n",
    "\n",
    "join() - this function is used to join different threads, this has the effect of blocking the current thread until the \n",
    "target thread that has been joined has terminated.\n",
    "\n",
    "islive()- this method is used to test whether a thread is alive or not. a thread is called live when start method has been called \n",
    "and thread has not been died yet."
   ]
  },
  {
   "cell_type": "code",
   "execution_count": 8,
   "id": "987c9fc0-f910-4ed1-adb1-0fa6f06278b2",
   "metadata": {},
   "outputs": [
    {
     "name": "stdout",
     "output_type": "stream",
     "text": [
      "4\n",
      "9\n",
      "16\n",
      "25\n",
      "8\n",
      "27\n",
      "64\n",
      "125\n"
     ]
    },
    {
     "ename": "NameError",
     "evalue": "name 'threading' is not defined",
     "output_type": "error",
     "traceback": [
      "\u001b[0;31m---------------------------------------------------------------------------\u001b[0m",
      "\u001b[0;31mNameError\u001b[0m                                 Traceback (most recent call last)",
      "Cell \u001b[0;32mIn[8], line 20\u001b[0m\n\u001b[1;32m     16\u001b[0m square(n)\n\u001b[1;32m     18\u001b[0m cube(n)\n\u001b[0;32m---> 20\u001b[0m t1 \u001b[38;5;241m=\u001b[39m[threading\u001b[38;5;241m.\u001b[39mThread(target \u001b[38;5;241m=\u001b[39m square,args \u001b[38;5;241m=\u001b[39m (i,)) \u001b[38;5;28;01mfor\u001b[39;00m i \u001b[38;5;129;01min\u001b[39;00m n]\n\u001b[1;32m     21\u001b[0m t2 \u001b[38;5;241m=\u001b[39m [threading\u001b[38;5;241m.\u001b[39mThread(target \u001b[38;5;241m=\u001b[39m cube,args \u001b[38;5;241m=\u001b[39m (i,)) \u001b[38;5;28;01mfor\u001b[39;00m i \u001b[38;5;129;01min\u001b[39;00m n]\n\u001b[1;32m     22\u001b[0m t1\u001b[38;5;241m.\u001b[39mstart()\n",
      "Cell \u001b[0;32mIn[8], line 20\u001b[0m, in \u001b[0;36m<listcomp>\u001b[0;34m(.0)\u001b[0m\n\u001b[1;32m     16\u001b[0m square(n)\n\u001b[1;32m     18\u001b[0m cube(n)\n\u001b[0;32m---> 20\u001b[0m t1 \u001b[38;5;241m=\u001b[39m[\u001b[43mthreading\u001b[49m\u001b[38;5;241m.\u001b[39mThread(target \u001b[38;5;241m=\u001b[39m square,args \u001b[38;5;241m=\u001b[39m (i,)) \u001b[38;5;28;01mfor\u001b[39;00m i \u001b[38;5;129;01min\u001b[39;00m n]\n\u001b[1;32m     21\u001b[0m t2 \u001b[38;5;241m=\u001b[39m [threading\u001b[38;5;241m.\u001b[39mThread(target \u001b[38;5;241m=\u001b[39m cube,args \u001b[38;5;241m=\u001b[39m (i,)) \u001b[38;5;28;01mfor\u001b[39;00m i \u001b[38;5;129;01min\u001b[39;00m n]\n\u001b[1;32m     22\u001b[0m t1\u001b[38;5;241m.\u001b[39mstart()\n",
      "\u001b[0;31mNameError\u001b[0m: name 'threading' is not defined"
     ]
    }
   ],
   "source": [
    "#ANS4\n",
    "from threading import *\n",
    "from time import sleep\n",
    "def square(n):\n",
    "    for i in n:\n",
    "        a = i*i\n",
    "        print(a)\n",
    "        sleep(1)\n",
    "        \n",
    "def cube(n):\n",
    "    for i in n:\n",
    "        a = i**3\n",
    "        print(a)\n",
    "        sleep(1)\n",
    "n = [2,3,4,5]\n",
    "square(n)\n",
    "\n",
    "cube(n)\n",
    "\n",
    "t1 =[threading.Thread(target = square,args = (i,)) for i in n]\n",
    "t2 = [threading.Thread(target = cube,args = (i,)) for i in n]\n",
    "t1.start()\n",
    "sleep(0.2)\n",
    "t2.start()\n",
    "\n",
    "        \n",
    "        \n",
    "        \n",
    "        \n",
    "        \n",
    "        \n",
    "        \n",
    "        "
   ]
  },
  {
   "cell_type": "code",
   "execution_count": null,
   "id": "dca84010-9745-4123-8819-7b9e3637344f",
   "metadata": {},
   "outputs": [],
   "source": [
    "ANS5 advantages of multithreading \n",
    "1. it enables efficinet utilisation of the resources as the threads shares the memmory and data space\n",
    "2. it is also time saving\n",
    "3. it allow concurrent and parllel occurnece of various task\n",
    "4. it also increase the performance by saving time.\n"
   ]
  },
  {
   "cell_type": "code",
   "execution_count": null,
   "id": "ea3b101a-1a8c-438d-b8d1-743550d2fe8c",
   "metadata": {},
   "outputs": [],
   "source": [
    "ANS6 A race condition is a type of debugger, which arises when two different threads use the same \n",
    "variable at a partiular time. \n",
    "\n",
    "a deadlock is a condition in which no thread run, in this thread wait for a condition which never occur, this result \n",
    "in stopping of program, and it must be terminated forcefully."
   ]
  }
 ],
 "metadata": {
  "kernelspec": {
   "display_name": "Python 3 (ipykernel)",
   "language": "python",
   "name": "python3"
  },
  "language_info": {
   "codemirror_mode": {
    "name": "ipython",
    "version": 3
   },
   "file_extension": ".py",
   "mimetype": "text/x-python",
   "name": "python",
   "nbconvert_exporter": "python",
   "pygments_lexer": "ipython3",
   "version": "3.10.8"
  }
 },
 "nbformat": 4,
 "nbformat_minor": 5
}
